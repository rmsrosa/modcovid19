{
 "cells": [
  {
   "cell_type": "markdown",
   "metadata": {
    "slideshow": {
     "slide_type": "skip"
    }
   },
   "source": [
    "<!--HEADER-->\n",
    "[*Notas sobre modelagem da epidemia de Covid-19*](https://github.com/rmsrosa/modcovid19) / [*IM-UFRJ*](https://www.im.ufrj.br)."
   ]
  },
  {
   "cell_type": "markdown",
   "metadata": {
    "slideshow": {
     "slide_type": "skip"
    }
   },
   "source": [
    "<!--BADGES-->\n",
    "<a href=\"../slides/12.00.Aula-Modelos_individuais_multiplas_estruturas-5.slides.html\" target=\"_blank\"><img align=\"left\" src=\"https://img.shields.io/badge/local-slides-darkgreen\" alt=\"localslides\" title=\"Local Slides\"></a>\n",
    "&nbsp;"
   ]
  },
  {
   "cell_type": "markdown",
   "metadata": {
    "slideshow": {
     "slide_type": "skip"
    }
   },
   "source": [
    "<!--NAVIGATOR-->\n",
    "[<- Modelos individuais estocásticos com múltiplas estruturas de conexão - parte IV](11.00.Aula-Modelos_individuais_multiplas_estruturas_4.ipynb) | [Página Inicial](00.00-Pagina_Inicial.ipynb) | [Modelos individuais estocásticos com múltiplas estruturas de conexão - parte VI ->](13.00.Aula-Modelos_individuais_multiplas_estruturas-6.ipynb)\n",
    "\n",
    "---\n"
   ]
  },
  {
   "cell_type": "markdown",
   "metadata": {
    "slideshow": {
     "slide_type": "slide"
    }
   },
   "source": [
    "# Modelos individuais estocásticos com múltiplas estruturas de conexão - parte V\n",
    "\n",
    "## Objetivos\n",
    "\n",
    "- Continuar o estudo de **modelos estocásticos individuais espacialmente estruturados e com evolução temporal discreta.**\n",
    "\n",
    "- Entender os diveros parâmetros do modelo"
   ]
  },
  {
   "cell_type": "markdown",
   "metadata": {
    "slideshow": {
     "slide_type": "slide"
    }
   },
   "source": [
    "### Descrição do modelo no artigo Ferguson et al (2006)\n",
    "\n",
    "- Passos temporais de $\\Delta t = 0.25 \\,\\texttt{dias} = 6\\,\\texttt{horas}$.\n",
    "\n",
    "- A cada passo de tempo, um indivíduo suscetível tem probabilidade $1 - e^{-\\lambda_i \\Delta t}$ de ser infectado, onde $\\lambda_i$ é a taxa de risco instantâneo de infecção.\n",
    "\n",
    "- $\\lambda_i$ vem de três fontes: residência, local de trabalho e encontros aleatórios (mais detalhes nas [notas suplementares](https://static-content.springer.com/esm/art%3A10.1038%2Fnature04017/MediaObjects/41586_2005_BFnature04017_MOESM1_ESM.pdf) do artigo [Ferguson et al (2005)](#Referências)\n",
    "\n",
    "- O contatos aleatórios dependem da distância através do uso de \"modelos de gravidade\", representando contatos aleatórios associados a deslocamentos e viagens.\n",
    "    \n",
    "- O *kernel* de decaimento espacial tem a mesma forma que a função de alocação de trabalhadores: $f(d) = 1/(1+(d/a)^b)$, onde $a=4\\,\\texttt{km}$ e $b=3$.\n",
    "    "
   ]
  },
  {
   "cell_type": "markdown",
   "metadata": {
    "slideshow": {
     "slide_type": "slide"
    }
   },
   "source": [
    "### Detalhamento do modelo\n",
    "\n",
    "- Usamos o modelo genérico conforme descrito nas [notas suplementares](https://static-content.springer.com/esm/art%3A10.1038%2Fnature04017/MediaObjects/41586_2005_BFnature04017_MOESM1_ESM.pdf) do [Ferguson et al (2005)](#Referências).\n",
    "\n",
    "- A **região geográfica** é um domínio $\\Omega\\subset \\mathbb{R}^2$.\n",
    "\n",
    "- A **população total** é um inteiro $N$.\n",
    "\n",
    "- Há um determinado número de **residências**."
   ]
  },
  {
   "cell_type": "markdown",
   "metadata": {
    "slideshow": {
     "slide_type": "slide"
    }
   },
   "source": [
    "- Há quatro tipos de **lugares** (*places*), $n_p = 1, 2, 3, 4$, com os três primeiros representando tipos de **escola**, segundo a escolarização, e o último, o **local de trabalho**.\n",
    "\n",
    "- Um **indivíduo** $i\\in \\{1, \\ldots, N\\}$ é representado por\n",
    "\n",
    "    - sua **idade** $a_i$;\n",
    "    \n",
    "    - sua **residência** $h_i$ (determinada pela função de densidade populacional e dados de censo da pirâmide etária);\n",
    "\n",
    "    - seu **local de estudo/trabalho** $l_i^j$;\n",
    "    \n",
    "    - o seu **estado** $I_i$, de acordo com $I_i = 1$, se infectado (ou contagioso?), ou $I_i=0$, caso contrário.\n",
    "    \n",
    "    - o **grau da infecção** $C_i$, de acordo com $C_i=1$, se severa, ou $C_i=0$, caso contrário. A cada nova infecção, o indivíduo recém-infectado é aleatoriamente selecionado se $C_i=0$ ou $1$, com 50% de chance para cada grau.\n",
    "    \n",
    "    - o **instante de infecção** $\\tau_i$, indicando o instante em que o indivíduo $i$ se tornou infectado (contagioso?)\n",
    "    \n",
    "    - a **força de infecção** $\\lambda_i$, detalhada mais abaixo."
   ]
  },
  {
   "cell_type": "markdown",
   "metadata": {
    "slideshow": {
     "slide_type": "slide"
    }
   },
   "source": [
    "- Quantidades derivadas:\n",
    "\n",
    "    - $n_i$ é o **número de pessoas na residência** do indivíduo $i$;\n",
    "    \n",
    "    - $m_i^j$ é o **número de pessoas no mesmo local** do indivíduo $i$."
   ]
  },
  {
   "cell_type": "markdown",
   "metadata": {
    "slideshow": {
     "slide_type": "slide"
    }
   },
   "source": [
    "### Força de infecção\n",
    "\n",
    "A **força de infecção** $\\lambda_i$ de cada indivíduo é dada por\n",
    "\n",
    "$$ \n",
    "  \\begin{align*}\n",
    "    \\lambda_i & = \\frac{1}{n_i^\\alpha}\\sum_{k; h_k = h_i}  I_k \\beta_h\\kappa(t-\\tau_k)\\rho_k(1 + C_k (\\omega-1)) \\quad \\textrm{(na residência)} \\\\\n",
    "    & \\quad + \\sum_{j, k; l_k^j = l_i^j} \\frac{I_k \\beta_p^j\\kappa(t-\\tau_k)\\rho_k(1 + C_k(\\omega\\psi_p^j(t-\\tau_\\kappa)-1)}{m_i^j} \\quad \\textrm{(na local de escola/trabalho)} \\\\\n",
    "    & \\quad + \\frac{\\sum_k I_k\\zeta(a_i)\\beta_c\\kappa(t-\\tau_k)f(d_{ik})\\rho_k(1 + C_k (\\omega-1))}{\\sum_l f(d_{il})} \\quad \\textrm{(global)},\n",
    "  \\end{align*}\n",
    "$$\n",
    "\n",
    "onde\n",
    "\n",
    "- $i, k$ são índices de indivíduos;\n",
    "\n",
    "- $j$ é um índice de local;\n",
    "\n",
    "- $\\beta_h$, $\\beta_p^j$ e $\\beta_c$ são coeficientes de transmissão em **residências**, **locais de trabalho/escola** e em toda a região (rede **global**);\n",
    "\n",
    "- $\\alpha=0.8$ é uma potência para escalonar em função do tamanho da residência;\n",
    "\n",
    "- $\\omega=2$ é um fator de contágio para infecções severas, em relação a não-severas.\n",
    "\n",
    "- $\\kappa=\\kappa(s)$ é uma temporal de intensidade \n",
    "\n",
    "- $\\psi_p^j = \\psi_p^j(s) = 0.1, 0.2, 0.25, 0.5$, para $j=1,2,3,4$ e $s>0.25 \\;\\texttt{dias}$, e $\\psi_p^j=0$, caso contrário, são os fatores de taxa de contato, em cada tipo de local, para infecções severas, como função do tempo $s=t-\\tau$ desde o início do contágio, **refletindo ao grau de ausência do indivíduo no local.**\n",
    "\n",
    "- $f(d_{ik})$ é o núcleo de distância e $d_{ik}$ é a distância euclidiana entre os indivíduos $i$ e $k$.\n",
    "\n",
    "- $\\zeta(a_i)$ é a taxa relativa de contato em relação à mobilidade de um indivíduo com idade $a_i$.\n",
    "\n",
    "- $\\rho_k = 1$ é a taxa relativa de infecção do indivíduo $k$. (Mais geralmente $\\rho_k$ pode ser dado por uma distribuição gama com média $1$ e fator de forma $\\alpha=0.2$.)"
   ]
  },
  {
   "cell_type": "markdown",
   "metadata": {
    "slideshow": {
     "slide_type": "slide"
    }
   },
   "source": [
    "## Dúvidas sobre os parâmetros mencionados\n",
    "\n",
    "- Definição das taxas $\\beta_h$, $\\beta_p^j$, $\\beta_c$.\n",
    "\n",
    "- Definição da potência $\\alpha$\n",
    "\n",
    "- Definição das potências $a$ e $b$ do núcleo de decaimento $f$.\n",
    "\n",
    "- Definição do fator de contágio $\\omega$.\n",
    "\n",
    "- Definição da forma de $\\psi_p^j$.\n",
    "\n",
    "    - Entendi, agora, que está associado ao grau de ausência do indivíduo no local de escola ou trabalho, mas os números, em si, não vêm com explicação.\n",
    "    \n",
    "    - O limite $s=t-\\tau>0.25\\,\\texttt{dias}$ está associado ao prazo de detecção de a infecção. Seria esse o periodo latente/ Tão curto asim? No original:\n",
    "    \n",
    "        - *\"We assume severe infections are detectable a minimum of 0.25 days after infectiousness start (i.e. after the latent period ends).\"*\n",
    "\n",
    "- Entender o motivo de $\\rho_k$ ser dado pela distribuição gama."
   ]
  },
  {
   "cell_type": "markdown",
   "metadata": {
    "slideshow": {
     "slide_type": "slide"
    }
   },
   "source": [
    "## Dúvidas sobre questões não mencionadas\n",
    "\n",
    "- Por que $n_i$ e $n_p^j$ ao invés de $n_i-1$ e $n_p^j-1$? \n",
    "\n",
    "- Não tem muita diferença entre $N$ e $N-1$ pro SIR compartimental quando $N$ é grande, mas, no individual, $n_i$ e $n_p^j$ são \"pequenos\", principalmente $n_i$. Será que o parâmetro $\\alpha$ é suficiente para compensar no caso residencial, que é o menor dos dois?\n",
    "\n",
    "- Como entram os assintomáticos no modelo?\n",
    "\n",
    "- Como entra a quarentena?\n",
    "\n",
    "- Como entra o distânciamento social?"
   ]
  },
  {
   "cell_type": "markdown",
   "metadata": {
    "slideshow": {
     "slide_type": "slide"
    }
   },
   "source": [
    "## Coisas a fazer para completar o código\n",
    "\n",
    "- Incluir $\\rho_i$ como parâmetro do indivíduo (constante para cada $i$).\n",
    "\n",
    "- Incluir $C_i$ (variável de grau de infecção) e $\\tau_i$ (variável com o momento da infecção) como novas variáveis compondo o estado dos indivíduos da população.\n",
    "\n",
    "- Incluir $\\kappa=\\kappa(s)$, $\\psi_p^j=\\psi_p^j(s)$ e $\\omega$ no cálculo da força de infecção."
   ]
  },
  {
   "cell_type": "markdown",
   "metadata": {
    "slideshow": {
     "slide_type": "slide"
    }
   },
   "source": [
    "## Coisas a fazer para flexibilizar o código para testes\n",
    "\n",
    "- Fixar alguns \"templates\" para, dado um número total de indivíduos, fazer\n",
    "\n",
    "    - a **localização** dos indivíduos\n",
    "    \n",
    "    - a **distribuição** deles **em residências**\n",
    "    \n",
    "    - a **distribuição** deles em **locais de estudo ou trabalho**\n",
    "    \n",
    "- Os templates devem usar\n",
    "\n",
    "    - Uma função de distribuição de **densidade populacional**\n",
    "\n",
    "    - Uma distribuição de probabilidades do **número de habitantes por residência**\n",
    "    \n",
    "    - Uma distribuição de **idades por número de habitantes nas residências**\n",
    "    \n",
    "    - Uma distribuição **do número de indivíduos nos locais de escola/trabalho**"
   ]
  },
  {
   "cell_type": "markdown",
   "metadata": {
    "slideshow": {
     "slide_type": "slide"
    }
   },
   "source": [
    "## Questões para a adaptação ao Rio de Janeiro\n",
    "\n",
    "- Distribuição de **habitantes por quilômetro quadrado** (ou, pra começar, por bairros) (datascan, ibge?)\n",
    "\n",
    "- Número de **habitantes por residência** (censo?)\n",
    "\n",
    "- Distribuição de **idades por número de habitantes nas residências** (censo, prefeitura?)\n",
    "\n",
    "- Distribuição do **número de indivíduos nos locais de escola/trabalho** (censo, prefeitura?)\n",
    "\n",
    "- Considerar apenas **um nível de escola**?\n",
    "\n",
    "- **Parâmetros** $a$ e $b$ do núcleo de decaimento em função da distância (prefeitura)"
   ]
  },
  {
   "cell_type": "markdown",
   "metadata": {
    "slideshow": {
     "slide_type": "slide"
    }
   },
   "source": [
    "### Sobre as taxas de transmissão\n",
    "\n",
    "Taxas utilizadas na simulação de uma possível epidemia na Tailândia\n",
    "\n",
    "- $R_0 = 2.4$ total.\n",
    "\n",
    "- Não achei menção à taxa de recuperação $\\gamma$.\n",
    "\n",
    "- $\\beta_h = 0.4/\\texttt{dia}$, correspondendo a $R_0 = 0.6$ (nas residências);\n",
    "\n",
    "- Particiona os coeficientes de transmissão fora das residências em partes iguais em relação aos valores correspodentes de $R_0$, sendo que o das escolas é o dobro do dos trabalhos:\n",
    "\n",
    "    - $\\beta_e^j = 0.94/\\texttt{dia}$ (nas escolas - $j=1,2,3$);\n",
    "    \n",
    "    - $\\beta_t= 0.47/\\texttt{dia}$ (no trabalho);\n",
    "    \n",
    "    - $\\beta_c = 0.075/\\texttt{dia}$ (global)."
   ]
  },
  {
   "cell_type": "markdown",
   "metadata": {
    "slideshow": {
     "slide_type": "slide"
    }
   },
   "source": [
    "## Dados\n",
    "\n",
    "- [LandScan:](https://landscan.ornl.gov)\n",
    "    - estimativa de população a cada quilômetro quadrado.\n",
    "    - aberto livremente apenas para instituições educacionais (professores, alunos ou funcionários);\n",
    "    - precisa de e-mail institucional;\n",
    "    - após a inscrição online, demora entre 2 e 3 dias para a liberação (ou não);\n",
    "    - coloquei como \"sim\" na pergunta sobre se desejo publicar artigo com os dados (não que eu tenha isso em mente, mas pode ser que aconteça);\n",
    "    - justifiquei escrevendo \"*for constructing a population network for individual-based modeling of the covid-19 epidemics in Brazil, in particular in the city and in the sate of Rio de Janeiro.*\"\n",
    "- [IBGE - Rio de Janeiro: ](https://cidades.ibge.gov.br/brasil/rj/rio-de-janeiro/panorama) \n",
    "    - densidade demográfica por município;\n",
    "    - pirâmide etária;\n",
    "    - alunos por nível escolar;\n",
    "    - emprego."
   ]
  },
  {
   "cell_type": "markdown",
   "metadata": {
    "slideshow": {
     "slide_type": "slide"
    }
   },
   "source": [
    "# Referências\n",
    "\n",
    "- [Imperial College COVID-19 Response Team (16/mar/2020), Impact of non-pharmaceutical interventions (NPIs) to reduce COVID- 19 mortality and healthcare demand, 16 de março de 2020 (Free Download).](https://www.imperial.ac.uk/media/imperial-college/medicine/sph/ide/gida-fellowships/Imperial-College-COVID19-NPI-modelling-16-03-2020.pdf)\n",
    "\n",
    "- [Ferguson, N. M. et al. (2005), Strategies for containing an emerging influenza pandemic\n",
    "in Southeast Asia, Nature 437, 209-214.](https://pubmed.ncbi.nlm.nih.gov/16079797/) (Link para download [aqui](http://citeseerx.ist.psu.edu/viewdoc/download?doi=10.1.1.452.235&rep=rep1&type=pdf) disponibilizado por [CiteSeerX](http://citeseerx.ist.psu.edu/); veja, também, as [notas suplementares](https://static-content.springer.com/esm/art%3A10.1038%2Fnature04017/MediaObjects/41586_2005_BFnature04017_MOESM1_ESM.pdf).)\n",
    "\n",
    "\n",
    "- [Ferguson NM, Cummings DAT, Fraser C, Cajka JC, Cooley PC, Burke DS (2006). Strategies for mitigating an influenza pandemic. Nature 442 (7101), 448–52 (Free Download)](https://pubmed.ncbi.nlm.nih.gov/16642006/); veja, também, as [notas suplementares](https://www.nature.com/articles/nature04795#Sec2). \n",
    "\n",
    "- [Halloran ME, Ferguson NM, Eubank S, et al (2008), Modeling targeted layered containment of an influenza pandemic in the United States. Proc Natl Acad Sci U S A 105 (12), 4639–44 (Free Download)](https://pubmed.ncbi.nlm.nih.gov/18332436/); veja, também, o [suplemento do artigo](https://www.pnas.org/content/suppl/2008/02/28/0706849105.DC1).\n",
    "\n",
    "- [Landscan data](https://landscan.ornl.gov/): dados da distribuição global da população, com resolução da ordem de $1\\,km^2$ ($30''\\times 30''$).\n",
    "\n",
    "- [M. J. Keeling & P. Rohani (2007), Modeling Infectious Diseases in Humans and Animals, Princeton University Press.](https://press.princeton.edu/books/hardcover/9780691116174/modeling-infectious-diseases-in-humans-and-animals)\n",
    "\n",
    "- [I. Z. Kiss, J. Miller & P. L. Simon (2017), Mathematics of Epidemics on Networks: From Exact to Approximate Models, Springer-Verlag.](https://www.springer.com/br/book/9783319508047)\n",
    "\n",
    "Veja a página [Imperial College - Covid 19](https://www.imperial.ac.uk/mrc-global-infectious-disease-analysis/covid-19/) para mais relatórios, publicações e outras informações do Imperial College."
   ]
  },
  {
   "cell_type": "markdown",
   "metadata": {
    "slideshow": {
     "slide_type": "skip"
    }
   },
   "source": [
    "<!--NAVIGATOR-->\n",
    "\n",
    "---\n",
    "[<- Modelos individuais estocásticos com múltiplas estruturas de conexão - parte IV](11.00.Aula-Modelos_individuais_multiplas_estruturas_4.ipynb) | [Página Inicial](00.00-Pagina_Inicial.ipynb) | [Modelos individuais estocásticos com múltiplas estruturas de conexão - parte VI ->](13.00.Aula-Modelos_individuais_multiplas_estruturas-6.ipynb)"
   ]
  }
 ],
 "metadata": {
  "kernelspec": {
   "display_name": "py38",
   "language": "python",
   "name": "py38"
  },
  "language_info": {
   "codemirror_mode": {
    "name": "ipython",
    "version": 3
   },
   "file_extension": ".py",
   "mimetype": "text/x-python",
   "name": "python",
   "nbconvert_exporter": "python",
   "pygments_lexer": "ipython3",
   "version": "3.8.1"
  }
 },
 "nbformat": 4,
 "nbformat_minor": 4
}
