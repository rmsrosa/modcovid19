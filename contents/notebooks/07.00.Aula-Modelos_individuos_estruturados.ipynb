{
 "cells": [
  {
   "cell_type": "markdown",
   "metadata": {
    "slideshow": {
     "slide_type": "skip"
    }
   },
   "source": [
    "<!--HEADER-->\n",
    "[*Notas sobre modelagem da epidemia de Covid-19*](https://github.com/rmsrosa/modcovid19) - [*IM-UFRJ*](https://www.im.ufrj.br)."
   ]
  },
  {
   "cell_type": "markdown",
   "metadata": {
    "slideshow": {
     "slide_type": "skip"
    }
   },
   "source": [
    "<!--BADGES-->\n",
    "<a href=\"https://colab.research.google.com/github/rmsrosa/modcovid19/blob/master/contents/notebooks/07.00.Aula-Modelos_individuos_estruturados.ipynb\"><img align=\"left\" src=\"https://colab.research.google.com/assets/colab-badge.svg\" alt=\"Google Colab\" title=\"Open in Google Colab\"></a>\n",
    "&nbsp;<a href=\"https://mybinder.org/v2/gh/rmsrosa/modcovid19/master?filepath=contents/notebooks/07.00.Aula-Modelos_individuos_estruturados.ipynb\"><img align=\"left\" src=\"https://mybinder.org/badge.svg\" alt=\"Binder\" title=\"Open in Binder\"></a>\n",
    "&nbsp;<a href=\"https://nbviewer.jupyter.org/github/rmsrosa/modelagem_matematica/blob/master/contents/notebooks/07.00.Aula-Modelos_individuos_estruturados.ipynb\"><img align=\"left\" src=\"https://img.shields.io/badge/view in-nbviewer-orange\" alt=\"nbviewer\" title=\"View in NBViewer\"></a>\n",
    "&nbsp;<a href=\"https://nbviewer.jupyter.org/github/rmsrosa/modcovid19/blob/master/contents/slides/07.00.Aula-Modelos_individuos_estruturados.slides.html\"><img align=\"left\" src=\"https://img.shields.io/badge/view-slides-darkgreen\" alt=\"slides\" title=\"View Slides\"></a>\n",
    "&nbsp;<a href=\"https://raw.githubusercontent.com/rmsrosa/modcovid19/master/contents/notebooks/07.00.Aula-Modelos_individuos_estruturados.ipynb\"><img align=\"left\" src=\"https://img.shields.io/badge/download-notebook-9cf\" alt=\"download\" title=\"Download Notebook\"></a>\n",
    "&nbsp;"
   ]
  },
  {
   "cell_type": "markdown",
   "metadata": {
    "slideshow": {
     "slide_type": "skip"
    }
   },
   "source": [
    "<!--NAVIGATOR-->\n",
    "[<- Modelos baseados em indivíuos e o relatório do Imperial Colege](06.00.Aula-Modelos_baseados_em_individuos.ipynb) | [Página Inicial](00.00-Pagina_Inicial.ipynb) \n",
    "\n",
    "---\n"
   ]
  },
  {
   "cell_type": "markdown",
   "metadata": {
    "slideshow": {
     "slide_type": "slide"
    }
   },
   "source": [
    "# Modelos indivuais estocásticos estruturados"
   ]
  },
  {
   "cell_type": "markdown",
   "metadata": {
    "slideshow": {
     "slide_type": "skip"
    }
   },
   "source": [
    "**Importando bibliotecas e definindo funções a serem usadas abaixo**"
   ]
  },
  {
   "cell_type": "code",
   "execution_count": 1,
   "metadata": {},
   "outputs": [],
   "source": [
    "import datetime as dt # date and time tools\n",
    "\n",
    "from collections import namedtuple\n",
    "\n",
    "from os import path\n",
    "\n",
    "import numpy as np\n",
    "from scipy.integrate import solve_ivp\n",
    "import networkx as nx\n",
    "\n",
    "import matplotlib.pyplot as plt\n",
    "import seaborn as sns\n",
    "\n",
    "import io, base64\n",
    "from IPython.display import Image, HTML"
   ]
  },
  {
   "cell_type": "code",
   "execution_count": 2,
   "metadata": {
    "slideshow": {
     "slide_type": "skip"
    }
   },
   "outputs": [
    {
     "name": "stdout",
     "output_type": "stream",
     "text": [
      "Atualização mais recente do kernel: 16/Apr/2020\n"
     ]
    }
   ],
   "source": [
    "dt_string = dt.datetime.now().strftime(\"%d/%b/%Y\")\n",
    "print(f\"Atualização mais recente do kernel: {dt_string}\")"
   ]
  },
  {
   "cell_type": "code",
   "execution_count": 3,
   "metadata": {
    "slideshow": {
     "slide_type": "skip"
    }
   },
   "outputs": [],
   "source": [
    "sns.set_style(\"darkgrid\")"
   ]
  },
  {
   "cell_type": "code",
   "execution_count": 76,
   "metadata": {},
   "outputs": [],
   "source": [
    "class SIR:\n",
    "    MODELO = 'SIR'\n",
    "    VARIAVEIS = ['S', 'I', 'R']\n",
    "    VAR_NOMES = {'S': 'suscetíveis',\n",
    "                 'I': 'infectados',\n",
    "                 'R': 'removidos'\n",
    "                }\n",
    "    def __init__(self, beta, gamma):\n",
    "        super().__init__()\n",
    "        self.beta = beta\n",
    "        self.gamma = gamma\n",
    "        \n",
    "    \n",
    "    def __repr__(self):\n",
    "        return '<instance of ' + self.MODELO + ' class>'\n",
    "\n",
    "    def __str__(self):\n",
    "        return f'Modelo {self.MODELO} com parâmetros beta = {self.beta} e gamma = {self.gamma}.'\n",
    "      \n",
    "    @staticmethod\n",
    "    def diferential(t, X, N, beta, gamma):\n",
    "        S, I = X\n",
    "        dXdt = [- beta*I*S/N, beta*I*S/N - gamma*I]\n",
    "        return dXdt        \n",
    "    \n",
    "    def solve(self, t_span, E0, t_eval = None):\n",
    "        N = sum(E0)\n",
    "        y0 = E0[0:2]\n",
    "        X = solve_ivp(self.diferential, t_span=t_span, y0 = y0, t_eval = t_eval,\n",
    "                      args=(N, self.beta, self.gamma))\n",
    "        return X"
   ]
  },
  {
   "cell_type": "code",
   "execution_count": 77,
   "metadata": {},
   "outputs": [
    {
     "name": "stdout",
     "output_type": "stream",
     "text": [
      "Modelo SIR com parâmetros beta = 0.4 e gamma = 0.15.\n"
     ]
    }
   ],
   "source": [
    "sir1 = SIR(beta=0.4, gamma = 0.15)\n",
    "print(sir1)"
   ]
  },
  {
   "cell_type": "code",
   "execution_count": 78,
   "metadata": {},
   "outputs": [],
   "source": [
    "X = sir1.solve(t_span=[0, 80], E0 = [90, 10, 0], t_eval = np.array(range(81)))"
   ]
  },
  {
   "cell_type": "code",
   "execution_count": 79,
   "metadata": {},
   "outputs": [
    {
     "data": {
      "text/plain": [
       "  message: 'The solver successfully reached the end of the integration interval.'\n",
       "     nfev: 74\n",
       "     njev: 0\n",
       "      nlu: 0\n",
       "      sol: None\n",
       "   status: 0\n",
       "  success: True\n",
       "        t: array([ 0,  1,  2,  3,  4,  5,  6,  7,  8,  9, 10, 11, 12, 13, 14, 15, 16,\n",
       "       17, 18, 19, 20, 21, 22, 23, 24, 25, 26, 27, 28, 29, 30, 31, 32, 33,\n",
       "       34, 35, 36, 37, 38, 39, 40, 41, 42, 43, 44, 45, 46, 47, 48, 49, 50,\n",
       "       51, 52, 53, 54, 55, 56, 57, 58, 59, 60, 61, 62, 63, 64, 65, 66, 67,\n",
       "       68, 69, 70, 71, 72, 73, 74, 75, 76, 77, 78, 79, 80])\n",
       " t_events: None\n",
       "        y: array([[9.00000000e+01, 8.60920060e+01, 8.15703445e+01, 7.64658050e+01,\n",
       "        7.09243672e+01, 6.51110857e+01, 5.91919185e+01, 5.33337273e+01,\n",
       "        4.77042774e+01, 4.24709413e+01, 3.77172503e+01, 3.34732829e+01,\n",
       "        2.97660251e+01, 2.65968470e+01, 2.39415027e+01, 2.17501302e+01,\n",
       "        1.99472515e+01, 1.84317724e+01, 1.70769830e+01, 1.58508733e+01,\n",
       "        1.48070546e+01, 1.39138968e+01, 1.31445483e+01, 1.24770247e+01,\n",
       "        1.18942089e+01, 1.13838512e+01, 1.09385689e+01, 1.05558469e+01,\n",
       "        1.02334612e+01, 9.95324089e+00, 9.70884561e+00, 9.49604449e+00,\n",
       "        9.31084139e+00, 9.14947486e+00, 9.00841819e+00, 8.88437937e+00,\n",
       "        8.77430119e+00, 8.67631896e+00, 8.58971090e+00, 8.51337977e+00,\n",
       "        8.44625655e+00, 8.38730043e+00, 8.33549881e+00, 8.28986730e+00,\n",
       "        8.24944972e+00, 8.21332009e+00, 8.18102818e+00, 8.15238316e+00,\n",
       "        8.12702064e+00, 8.10459256e+00, 8.08476716e+00, 8.06722902e+00,\n",
       "        8.05167903e+00, 8.03783441e+00, 8.02548217e+00, 8.01450503e+00,\n",
       "        8.00476786e+00, 7.99614167e+00, 7.98850375e+00, 7.98173768e+00,\n",
       "        7.97573328e+00, 7.97038669e+00, 7.96561651e+00, 7.96137479e+00,\n",
       "        7.95760981e+00, 7.95427223e+00, 7.95131517e+00, 7.94869415e+00,\n",
       "        7.94636714e+00, 7.94429456e+00, 7.94244555e+00, 7.94080114e+00,\n",
       "        7.93934127e+00, 7.93804686e+00, 7.93689975e+00, 7.93588276e+00,\n",
       "        7.93497962e+00, 7.93417502e+00, 7.93345818e+00, 7.93282138e+00,\n",
       "        7.93225565e+00],\n",
       "       [1.00000000e+01, 1.22432513e+01, 1.47437663e+01, 1.74368681e+01,\n",
       "        2.01615135e+01, 2.27583829e+01, 2.50876522e+01, 2.70289933e+01,\n",
       "        2.84815739e+01, 2.93648989e+01, 2.96765764e+01, 2.94697007e+01,\n",
       "        2.87976998e+01, 2.77256350e+01, 2.63302012e+01, 2.46997266e+01,\n",
       "        2.29341731e+01, 2.11451357e+01, 1.94558431e+01, 1.78864130e+01,\n",
       "        1.63706134e+01, 1.49249154e+01, 1.35617528e+01, 1.22894373e+01,\n",
       "        1.11121582e+01, 1.00299826e+01, 9.03885511e+00, 8.13059802e+00,\n",
       "        7.29610797e+00, 6.53798403e+00, 5.85207124e+00, 5.23308073e+00,\n",
       "        4.67582809e+00, 4.17523334e+00, 3.72632095e+00, 3.32421984e+00,\n",
       "        2.96416334e+00, 2.64143512e+00, 2.35246903e+00, 2.09434992e+00,\n",
       "        1.86425581e+00, 1.65945786e+00, 1.47732039e+00, 1.31530088e+00,\n",
       "        1.17094996e+00, 1.04191368e+00, 9.26516802e-01, 8.23676960e-01,\n",
       "        7.32199713e-01, 6.50942971e-01, 5.78816999e-01, 5.14784419e-01,\n",
       "        4.57860208e-01, 4.07111698e-01, 3.61795273e-01, 3.21452257e-01,\n",
       "        2.85602991e-01, 2.53789560e-01, 2.25576096e-01, 2.00548777e-01,\n",
       "        1.78315824e-01, 1.58507504e-01, 1.40828292e-01, 1.25096812e-01,\n",
       "        1.11123856e-01, 9.87289163e-02, 8.77403517e-02, 7.79953874e-02,\n",
       "        6.93401148e-02, 6.16294921e-02, 5.47495977e-02, 4.86292997e-02,\n",
       "        4.31944196e-02, 3.83742645e-02, 3.41016406e-02, 3.03128533e-02,\n",
       "        2.69477070e-02, 2.39495088e-02, 2.12781414e-02, 1.89047623e-02,\n",
       "        1.67961004e-02]])\n",
       " y_events: None"
      ]
     },
     "execution_count": 79,
     "metadata": {},
     "output_type": "execute_result"
    }
   ],
   "source": [
    "X"
   ]
  },
  {
   "cell_type": "code",
   "execution_count": 66,
   "metadata": {
    "slideshow": {
     "slide_type": "skip"
    }
   },
   "outputs": [
    {
     "name": "stdout",
     "output_type": "stream",
     "text": [
      "[NbConvertApp] Converting notebook 07.00-Modelos_individuos_estruturados.ipynb to slides\n",
      "[NbConvertApp] Writing 290066 bytes to 07.00-Modelos_individuos_estruturados.slides.html\n"
     ]
    }
   ],
   "source": [
    "!jupyter nbconvert 07.00-Modelos_individuos_estruturados.ipynb --to slides --SlidesExporter.reveal_scroll=True"
   ]
  },
  {
   "cell_type": "code",
   "execution_count": null,
   "metadata": {},
   "outputs": [],
   "source": []
  },
  {
   "cell_type": "markdown",
   "metadata": {
    "slideshow": {
     "slide_type": "slide"
    }
   },
   "source": [
    "<!--NAVIGATOR-->\n",
    "\n",
    "---\n",
    "[<- Modelos baseados em indivíuos e o relatório do Imperial Colege](06.00.Aula-Modelos_baseados_em_individuos.ipynb) | [Página Inicial](00.00-Pagina_Inicial.ipynb) "
   ]
  }
 ],
 "metadata": {
  "kernelspec": {
   "display_name": "py38",
   "language": "python",
   "name": "py38"
  },
  "language_info": {
   "codemirror_mode": {
    "name": "ipython",
    "version": 3
   },
   "file_extension": ".py",
   "mimetype": "text/x-python",
   "name": "python",
   "nbconvert_exporter": "python",
   "pygments_lexer": "ipython3",
   "version": "3.8.1"
  }
 },
 "nbformat": 4,
 "nbformat_minor": 4
}
