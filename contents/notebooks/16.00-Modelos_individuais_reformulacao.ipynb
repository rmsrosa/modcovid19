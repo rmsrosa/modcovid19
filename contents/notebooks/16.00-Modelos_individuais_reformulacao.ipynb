{
 "cells": [
  {
   "cell_type": "markdown",
   "metadata": {
    "slideshow": {
     "slide_type": "skip"
    }
   },
   "source": [
    "<!--HEADER-->\n",
    "[*Notas sobre modelagem da epidemia de Covid-19*](https://github.com/rmsrosa/modcovid19) / [*IM-UFRJ*](https://www.im.ufrj.br)."
   ]
  },
  {
   "cell_type": "markdown",
   "metadata": {
    "slideshow": {
     "slide_type": "skip"
    }
   },
   "source": [
    "<!--BADGES-->\n",
    "<a href=\"../slides/16.00-Modelos_individuais_reformulacao.slides.html\" target=\"_blank\"><img align=\"left\" src=\"https://img.shields.io/badge/local-slides-darkgreen\" alt=\"localslides\" title=\"Local Slides\"></a>\n",
    "&nbsp;"
   ]
  },
  {
   "cell_type": "markdown",
   "metadata": {
    "slideshow": {
     "slide_type": "skip"
    }
   },
   "source": [
    "<!--NAVIGATOR-->\n",
    "[<- Modelos individuais - velocidade de processsamento](15.00-Modelos_individuais_velocidade.ipynb) | [Página Inicial](00.00-Pagina_Inicial.ipynb) | [O cenário de múltiplos do Pop350: rede residencial ->](17.00-Construindo_Cenarios_e_Pop_Multi_350_residencial.ipynb)\n",
    "\n",
    "---\n"
   ]
  },
  {
   "cell_type": "markdown",
   "metadata": {
    "slideshow": {
     "slide_type": "slide"
    }
   },
   "source": [
    "# Modelos individuais - reformulação da implementação\n",
    "\n",
    "- Reformular o método para acelerar a execução, baseado nos testes da última aula."
   ]
  },
  {
   "cell_type": "markdown",
   "metadata": {
    "slideshow": {
     "slide_type": "skip"
    }
   },
   "source": [
    "**Importando bibliotecas e definindo funções a serem usadas abaixo**"
   ]
  },
  {
   "cell_type": "code",
   "execution_count": 1,
   "metadata": {
    "slideshow": {
     "slide_type": "skip"
    }
   },
   "outputs": [],
   "source": [
    "import datetime # date and time tools\n",
    "\n",
    "import os, sys\n",
    "\n",
    "import numpy as np\n",
    "\n",
    "from numba import njit, prange\n",
    "import threading\n",
    "\n",
    "import math\n",
    "from timeit import repeat\n",
    "\n",
    "import matplotlib.pyplot as plt\n",
    "import seaborn as sns\n",
    "\n",
    "import io, base64\n",
    "from IPython.display import Image, HTML"
   ]
  },
  {
   "cell_type": "code",
   "execution_count": 2,
   "metadata": {
    "slideshow": {
     "slide_type": "skip"
    }
   },
   "outputs": [],
   "source": [
    "sys.path.insert(0, os.path.abspath(os.path.join(os.getcwd(), '..')))\n",
    "import episiming"
   ]
  },
  {
   "cell_type": "code",
   "execution_count": 3,
   "metadata": {
    "slideshow": {
     "slide_type": "skip"
    }
   },
   "outputs": [
    {
     "name": "stdout",
     "output_type": "stream",
     "text": [
      "Atualização mais recente do kernel: 22/May/2020\n"
     ]
    }
   ],
   "source": [
    "dt_string = datetime.datetime.now().strftime(\"%d/%b/%Y\")\n",
    "print(f\"Atualização mais recente do kernel: {dt_string}\")"
   ]
  },
  {
   "cell_type": "code",
   "execution_count": 4,
   "metadata": {
    "slideshow": {
     "slide_type": "skip"
    }
   },
   "outputs": [],
   "source": [
    "sns.set_style(\"darkgrid\")"
   ]
  },
  {
   "cell_type": "markdown",
   "metadata": {
    "slideshow": {
     "slide_type": "slide"
    }
   },
   "source": [
    "## Modificações\n",
    "\n",
    "### Passo vetorial\n",
    "\n",
    "- Implementamos o \"decorador\" `numba.njit` na **função** `passo_vetorial` e em todas as funções que são chamadas por ela.\n",
    "\n",
    "- A essa implementação demos o nome temporário de `passo_vetorial_jit`.\n",
    "\n",
    "- Com ela, cada **cenário** foi acrescido do **método** `evolucao_jit`.\n",
    "\n",
    "- Para usar o decorador `numba.njit`, tivemos que mudar os parâmetros\n",
    "    - `redes` (lista de grafos do `networkx`)\n",
    "    - `redes_tx_transmissao` (lista de `ndarray` do `numpy`)\n",
    "    \n",
    "- Foram transformados, dentro da parte de preparação função de evolução, antes de entrar no ciclo de evolução, para\n",
    "    - `conexoes` (typed List de typed List do `numba`)\n",
    "    - `tx_transmissao` (typed List de `ndarray` do `numpy`)\n",
    "\n",
    "dados por\n",
    "```python\n",
    "conexoes = List()\n",
    "for rede in redes:\n",
    "    conexoes_aux = list(rede.edges)\n",
    "    typed_conexoes = List()\n",
    "    for c in conexoes_aux:\n",
    "        typed_conexoes.append(c)\n",
    "    conexoes.append(typed_conexoes)\n",
    "    \n",
    "tx_transmissao = List()\n",
    "for rede_tx in redes_tx_transmissao:\n",
    "    tx_transmissao.append(rede_tx)\n",
    "```"
   ]
  },
  {
   "cell_type": "markdown",
   "metadata": {
    "slideshow": {
     "slide_type": "slide"
    }
   },
   "source": [
    "### Evolução de cada simulação\n",
    "\n",
    "Também usamos o decorador `@njit` no ciclo da simulação, criando uma função `simulacao`.\n",
    "\n",
    "Para isso, mudamos, também, as linhas\n",
    "\n",
    "```python\n",
    "S = np.hstack([S, np.count_nonzero(populacao==1)])\n",
    "I = np.hstack([I, np.count_nonzero(populacao==2)])\n",
    "R = np.hstack([R, np.count_nonzero(populacao==3)])\n",
    "```\n",
    "\n",
    "por\n",
    "\n",
    "```python\n",
    "S = hstack_jit(S, np.count_nonzero(pop_estado==1))\n",
    "I = hstack_jit(I, np.count_nonzero(pop_estado==2))\n",
    "R = hstack_jit(R, np.count_nonzero(pop_estado==3))\n",
    "```\n",
    "\n",
    "onde\n",
    "\n",
    "```python\n",
    "@njit\n",
    "def hstack_jit(vetor, valor):\n",
    "    return np.append(vetor, valor)\n",
    "```"
   ]
  },
  {
   "cell_type": "markdown",
   "metadata": {
    "slideshow": {
     "slide_type": "slide"
    }
   },
   "source": [
    "## Comparação\n",
    "\n",
    "Para fins de comparação, rodamos alguns cenários diferentes, com os seguintes dados de simulação:"
   ]
  },
  {
   "cell_type": "code",
   "execution_count": 5,
   "metadata": {
    "slideshow": {
     "slide_type": "fragment"
    }
   },
   "outputs": [],
   "source": [
    "num_sim = 10\n",
    "dt = 1 # primeiro passo\n",
    "t_0 = 0 # instante initial\n",
    "num_dt = 60 # inst\n",
    "dados_temporais = [t_0, dt, num_dt]"
   ]
  },
  {
   "cell_type": "markdown",
   "metadata": {
    "slideshow": {
     "slide_type": "slide"
    }
   },
   "source": [
    "### Rede completa com 60 indivíduos"
   ]
  },
  {
   "cell_type": "code",
   "execution_count": 6,
   "metadata": {
    "slideshow": {
     "slide_type": "slide"
    }
   },
   "outputs": [],
   "source": [
    "completo_60 = episiming.cenarios.RedeCompleta(60, 8, 0.5, 0.2)"
   ]
  },
  {
   "cell_type": "code",
   "execution_count": 7,
   "metadata": {
    "slideshow": {
     "slide_type": "fragment"
    }
   },
   "outputs": [],
   "source": [
    "aux = completo_60.evolui_jit(dados_temporais, num_sim)"
   ]
  },
  {
   "cell_type": "code",
   "execution_count": 8,
   "metadata": {
    "slideshow": {
     "slide_type": "fragment"
    }
   },
   "outputs": [
    {
     "name": "stdout",
     "output_type": "stream",
     "text": [
      "CPU times: user 2.28 s, sys: 37.5 ms, total: 2.32 s\n",
      "Wall time: 2.49 s\n",
      "CPU times: user 24.2 ms, sys: 662 µs, total: 24.8 ms\n",
      "Wall time: 24.9 ms\n"
     ]
    }
   ],
   "source": [
    "%time X = completo_60.evolui(dados_temporais, num_sim)\n",
    "%time X_jit = completo_60.evolui_jit(dados_temporais, num_sim)"
   ]
  },
  {
   "cell_type": "markdown",
   "metadata": {
    "slideshow": {
     "slide_type": "slide"
    }
   },
   "source": [
    "### Rede completa com 600 indivíduos"
   ]
  },
  {
   "cell_type": "code",
   "execution_count": 9,
   "metadata": {
    "slideshow": {
     "slide_type": "fragment"
    }
   },
   "outputs": [],
   "source": [
    "completo_600 = episiming.cenarios.RedeCompleta(600, 8, 0.5, 0.2)"
   ]
  },
  {
   "cell_type": "code",
   "execution_count": 10,
   "metadata": {
    "slideshow": {
     "slide_type": "fragment"
    }
   },
   "outputs": [
    {
     "name": "stdout",
     "output_type": "stream",
     "text": [
      "CPU times: user 1min 36s, sys: 344 ms, total: 1min 37s\n",
      "Wall time: 1min 39s\n"
     ]
    }
   ],
   "source": [
    "%time X_j = completo_600.evolui(dados_temporais, num_sim)"
   ]
  },
  {
   "cell_type": "code",
   "execution_count": 11,
   "metadata": {
    "slideshow": {
     "slide_type": "fragment"
    }
   },
   "outputs": [
    {
     "name": "stdout",
     "output_type": "stream",
     "text": [
      "CPU times: user 1.47 s, sys: 27.9 ms, total: 1.5 s\n",
      "Wall time: 1.53 s\n"
     ]
    }
   ],
   "source": [
    "%time X_jit = completo_600.evolui_jit(dados_temporais, num_sim)"
   ]
  },
  {
   "cell_type": "markdown",
   "metadata": {
    "slideshow": {
     "slide_type": "slide"
    }
   },
   "source": [
    "### Rede Pop350"
   ]
  },
  {
   "cell_type": "code",
   "execution_count": 12,
   "metadata": {
    "slideshow": {
     "slide_type": "fragment"
    }
   },
   "outputs": [],
   "source": [
    "cenario_pop_350 = episiming.cenarios.Pop350()"
   ]
  },
  {
   "cell_type": "code",
   "execution_count": 13,
   "metadata": {
    "slideshow": {
     "slide_type": "fragment"
    }
   },
   "outputs": [
    {
     "name": "stdout",
     "output_type": "stream",
     "text": [
      "CPU times: user 10.4 s, sys: 14.8 ms, total: 10.5 s\n",
      "Wall time: 10.5 s\n",
      "CPU times: user 200 ms, sys: 723 µs, total: 200 ms\n",
      "Wall time: 201 ms\n"
     ]
    }
   ],
   "source": [
    "%time X = cenario_pop_350.evolui(dados_temporais, num_sim)\n",
    "%time X_jit = cenario_pop_350.evolui_jit(dados_temporais, num_sim)"
   ]
  },
  {
   "cell_type": "markdown",
   "metadata": {
    "slideshow": {
     "slide_type": "skip"
    }
   },
   "source": [
    "<!--NAVIGATOR-->\n",
    "\n",
    "---\n",
    "[<- Modelos individuais - velocidade de processsamento](15.00-Modelos_individuais_velocidade.ipynb) | [Página Inicial](00.00-Pagina_Inicial.ipynb) | [O cenário de múltiplos do Pop350: rede residencial ->](17.00-Construindo_Cenarios_e_Pop_Multi_350_residencial.ipynb)"
   ]
  }
 ],
 "metadata": {
  "kernelspec": {
   "display_name": "py38",
   "language": "python",
   "name": "py38"
  },
  "language_info": {
   "codemirror_mode": {
    "name": "ipython",
    "version": 3
   },
   "file_extension": ".py",
   "mimetype": "text/x-python",
   "name": "python",
   "nbconvert_exporter": "python",
   "pygments_lexer": "ipython3",
   "version": "3.8.1"
  }
 },
 "nbformat": 4,
 "nbformat_minor": 4
}
