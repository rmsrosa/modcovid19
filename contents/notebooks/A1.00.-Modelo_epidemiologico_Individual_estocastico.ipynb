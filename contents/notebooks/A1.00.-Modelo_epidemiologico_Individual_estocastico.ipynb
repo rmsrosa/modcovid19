{
 "cells": [
  {
   "cell_type": "markdown",
   "metadata": {
    "slideshow": {
     "slide_type": "skip"
    }
   },
   "source": [
    "<!--HEADER-->\n",
    "[*Notas sobre modelagem da epidemia de Covid-19*](https://github.com/rmsrosa/modcovid19) / [*IM-UFRJ*](https://www.im.ufrj.br)."
   ]
  },
  {
   "cell_type": "markdown",
   "metadata": {
    "slideshow": {
     "slide_type": "skip"
    }
   },
   "source": [
    "<!--BADGES-->\n",
    "<a href=\"../slides/A1.00.-Modelo_epidemiologico_Individual_estocastico.slides.html\" target=\"_blank\"><img align=\"left\" src=\"https://img.shields.io/badge/local-slides-darkgreen\" alt=\"localslides\" title=\"Local Slides\"></a>\n",
    "&nbsp;"
   ]
  },
  {
   "cell_type": "markdown",
   "metadata": {
    "slideshow": {
     "slide_type": "skip"
    }
   },
   "source": [
    "<!--NAVIGATOR-->\n",
    "[<- O cenário da cidade do Rio de Janeiro: distribuição inicial de infectados](32.00-Cenario_Rio_Distribuicao_Infectados.ipynb) | [Página Inicial](00.00-Pagina_Inicial.ipynb) \n",
    "\n",
    "---\n"
   ]
  },
  {
   "cell_type": "markdown",
   "metadata": {},
   "source": [
    "# Modelo epidemiológico individual estocástico em tempos discretos\n",
    "\n",
    "Documentação sobre a **modelagem** e a **implementação numérica** de um **modelo epidemiológico do tipo individual estocástico em tempos discretos**, tendo o município do Rio de Janeiro como foco.\n",
    "\n",
    "Desenvolvido por professores e alunos do [Instituto de Matemática da UFRJ](https://www.im.ufrj.br)."
   ]
  },
  {
   "cell_type": "markdown",
   "metadata": {},
   "source": [
    "## Equipe\n",
    "\n",
    "A equipe responsável por esse projeto é formada pelas seguintes pessoas:\n",
    "\n",
    "- Coordenador:\n",
    "    - Ricardo Martins da Silva Rosa (DMA/IM/UFRJ) \n",
    "- Professores (IM/UFRJ):\n",
    "    - Amaury Alvarez Cruz (DCC)\n",
    "    - Bernardo Freitas Paulo da Costa (DMA)\n",
    "    - Heudson Mirandola (DM)\n",
    "- Aluno de Mestrado (Matemática - IM/UFRJ):\n",
    "    - Thiago Holleben\n",
    "- Alunos de Graduação (Matemática Aplicada - IM/UFRJ):\n",
    "    - Beatriz Farah\n",
    "    - Cynthia Herkenhoff\n",
    "    - Gil Sales Miranda Neto\n",
    "    - Rodrigo Peregrino "
   ]
  },
  {
   "cell_type": "markdown",
   "metadata": {},
   "source": [
    "## Sobre o modelo\n",
    "\n",
    "O modelo está sendo desenvolvido com dados para o **município do Rio de Janeiro**, mas pode ser adaptado a outras regiões, desde que as devidas informações estejam disponíveis.\n",
    "\n",
    "Principais características do modelo:"
   ]
  },
  {
   "cell_type": "markdown",
   "metadata": {},
   "source": [
    "- Modela separadamente cada indivíduo da população. No caso do Rio de Janeiro, são quase sete milhões de indivíduos. Para cada indivíduo, temos os seguintes atributos:\n",
    "\n",
    "    - a sua localização espacial;\n",
    "    \n",
    "    - a sua idade;\n",
    "    \n",
    "    - O grau de vulnerabilidade ou de potencial de infectividade do indivíduo;"
   ]
  },
  {
   "cell_type": "markdown",
   "metadata": {},
   "source": [
    "- Cada indivíduo tem associado a si algumas variáveis:\n",
    "\n",
    "    - O seu estado epidemiológico;\n",
    "    \n",
    "    - O momento de exposição, caso tenha sido infectado;\n",
    "    \n",
    "    - O momento do início do período infeccioso, idem;\n",
    "    \n",
    "    - O momento do fim de recuperação ou de decesso, caso tenha sido infectado. "
   ]
  },
  {
   "cell_type": "markdown",
   "metadata": {},
   "source": [
    "- Cada indivíduo pode estar em um dentre vários estágios possíveis da doença:\n",
    "\n",
    "    - suscetível;\n",
    "    \n",
    "    - exposto;\n",
    "    \n",
    "    - infeccioso assintomático;\n",
    "    \n",
    "    - infeccioso sintomático (com sintomas leves, médios ou graves);\n",
    "    \n",
    "    - recuperado;\n",
    "    \n",
    "    - decesso.\n",
    "    \n",
    "- Independente do estado, cada indivíduo pode estar em diferentes níveis de quarentena."
   ]
  },
  {
   "cell_type": "markdown",
   "metadata": {},
   "source": [
    "- Os indivíduos interagem entre si em diversos tipos de redes de conexão:\n",
    "\n",
    "    - residencial;\n",
    "    \n",
    "    - escolar (em diversos níveis);\n",
    "    \n",
    "    - trabalho;\n",
    "    \n",
    "    - vizinhanças;\n",
    "    \n",
    "    - comércio;\n",
    "    \n",
    "    - aleatoriamente entre todos os indivíduos da região."
   ]
  },
  {
   "cell_type": "markdown",
   "metadata": {},
   "source": [
    "- Naturalmente, um contágio se dá quando um suscetível se encontra com um infeccioso através de uma dessas redes e de acordo com certas probabilidades.\n",
    "\n",
    "- Após o contágio, ou exposição, um indivíduo passa por dois caminhos possíveis, dependendo de uma dada probabilidade:\n",
    "\n",
    "    - um período de latência, seguido de um período infeccioso assintomático, terminando por se recuperar;\n",
    "    \n",
    "    - um período de incubação, seguido de um período infeccioso sintomático, terminando por se recuperar ou vir a óbito (decesso).\n",
    "    \n",
    "- Durante o período infeccioso, o grau de infecciosidade é assumido variável com o tempo."
   ]
  },
  {
   "cell_type": "markdown",
   "metadata": {},
   "source": [
    "- Estocasticidades:\n",
    "\n",
    "    - \n",
    "    \n",
    "    - Os períodos de latência e de incubação são variáveis aleatórias, seguindo uma distribuição log-normal ou weibull.\n",
    "    \n",
    "    - Um teste de Bernoulli é feito para decidir se um exposto será sintomático ou assintomático.\n",
    "    \n",
    "    - "
   ]
  },
  {
   "cell_type": "markdown",
   "metadata": {},
   "source": [
    "## Licenças\n",
    "\n",
    "O texto está disponível sob a [licença CC-BY-NC-ND](https://creativecommons.org/licenses/by-nc-nd/3.0/us/legalcode) e os códigos estão disponíveis sob a [licença GNU GPL Versão 3](https://www.gnu.org/licenses/gpl.html)."
   ]
  },
  {
   "cell_type": "markdown",
   "metadata": {
    "slideshow": {
     "slide_type": "skip"
    }
   },
   "source": [
    "<!--NAVIGATOR-->\n",
    "\n",
    "---\n",
    "[<- O cenário da cidade do Rio de Janeiro: distribuição inicial de infectados](32.00-Cenario_Rio_Distribuicao_Infectados.ipynb) | [Página Inicial](00.00-Pagina_Inicial.ipynb) "
   ]
  }
 ],
 "metadata": {
  "kernelspec": {
   "display_name": "py38",
   "language": "python",
   "name": "py38"
  },
  "language_info": {
   "codemirror_mode": {
    "name": "ipython",
    "version": 3
   },
   "file_extension": ".py",
   "mimetype": "text/x-python",
   "name": "python",
   "nbconvert_exporter": "python",
   "pygments_lexer": "ipython3",
   "version": "3.8.1"
  }
 },
 "nbformat": 4,
 "nbformat_minor": 4
}
