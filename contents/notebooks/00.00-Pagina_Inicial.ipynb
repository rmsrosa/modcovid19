{
 "cells": [
  {
   "cell_type": "markdown",
   "metadata": {
    "slideshow": {
     "slide_type": "skip"
    }
   },
   "source": [
    "<!--HEADER-->\n",
    "[*Notas sobre modelagem da epidemia de Covid-19*](https://github.com/rmsrosa/modcovid19) / [*IM-UFRJ*](https://www.im.ufrj.br)."
   ]
  },
  {
   "cell_type": "markdown",
   "metadata": {
    "slideshow": {
     "slide_type": "skip"
    }
   },
   "source": [
    "<!--BADGES-->\n",
    "<a href=\"../slides/00.00-Pagina_Inicial.slides.html\" target=\"_blank\"><img align=\"left\" src=\"https://img.shields.io/badge/local-slides-darkgreen\" alt=\"localslides\" title=\"Local Slides\"></a>\n",
    "&nbsp;"
   ]
  },
  {
   "cell_type": "markdown",
   "metadata": {
    "slideshow": {
     "slide_type": "skip"
    }
   },
   "source": [
    "<!--NAVIGATOR-->\n",
    "| [Página Inicial](00.00-Pagina_Inicial.ipynb) | [Explorando a base de dados da Covid-19 ->](01.00-Explorando-dados-da-covid-19.ipynb)\n",
    "\n",
    "---\n"
   ]
  },
  {
   "cell_type": "markdown",
   "metadata": {
    "slideshow": {
     "slide_type": "slide"
    }
   },
   "source": [
    "# Página Inicial\n",
    "\n",
    "Abaixo o Sumário dos notebooks sobre as aulas de um curso virtual de modelagem da epidemia de Covid-19 oferecido pelo Professor [Ricardo M. S. Rosa](http://www.im.ufrj.br/rrosa/) do [Instituto de Matemática da UFRJ](http://www.im.ufrj.br) e que estão reunidas no repositório [rmsrosa/modelagem_matematica](https://github.com/rmsrosa/modelagem_matematica).\n",
    "\n",
    "O texto está disponível sob a [licença CC-BY-NC-ND](https://creativecommons.org/licenses/by-nc-nd/3.0/us/legalcode) e os códigos estão disponíveis sob a [licença GNU GPL Versão 3](https://www.gnu.org/licenses/gpl.html)."
   ]
  },
  {
   "cell_type": "markdown",
   "metadata": {
    "slideshow": {
     "slide_type": "slide"
    }
   },
   "source": [
    "## Sumário"
   ]
  },
  {
   "cell_type": "markdown",
   "metadata": {
    "slideshow": {
     "slide_type": "slide"
    }
   },
   "source": [
    "<!--TABLE_OF_CONTENTS-->\n",
    "## [](#)\n",
    "\n",
    "### [Página Inicial](00.00-Pagina_Inicial.ipynb)\n",
    "\n",
    "### [1. Explorando a base de dados da Covid-19](01.00-Explorando-dados-da-covid-19.ipynb)\n",
    "\n",
    "### [2. Ajuste de parâmetros](02.00-Ajuste_de_parametros.ipynb)\n",
    "\n",
    "### [3. Modelos epidemiológicos compartimentais](03.00-Modelos_compartimentais.ipynb)\n",
    "\n",
    "### [4. Modelos compartimentais estruturados](04.00-Compartimentais_estruturados.ipynb)\n",
    "\n",
    "### [5. Qualidade e comparação de modelos](05.00-Qualidade_e_comparacao_de_modelos.ipynb)\n",
    "\n",
    "### [6. Modelos baseados em indivíduos e o relatório do Imperial Colege](06.00-Modelos_baseados_em_individuos.ipynb)\n",
    "\n",
    "### [7. Modelos indivuais estocásticos estruturados](07.00-Modelos_individuos_estruturados.ipynb)\n",
    "\n",
    "### [8. Modelos individuais estocásticos com múltiplas estruturas de conexão](08.00-Modelos_individuais_multiplas_estruturas.ipynb)\n",
    "\n",
    "### [9. Modelos individuais estocásticos - redes e parâmetros](09.00-Modelos_individuais_redes_e_parametros.ipynb)\n",
    "\n",
    "### [10. Modelos individuais - implementação inicial](10.00-Modelos_individuais_implementacao_matricial.ipynb)\n",
    "\n",
    "### [11. Modelos individuais estocásticos - implementação vetorial](11.00-Modelos_individuais_implementacao_vetorial.ipynb)\n",
    "\n",
    "### [12. Modelos individuais - parâmetros](12.00-Modelos_individuais_parametros.ipynb)\n",
    "\n",
    "### [13. Modelos individuais - comparação entre as implementações matricial e vetorial](13.00-Modelos_individuais_comparacao_matricial_vetorial.ipynb)\n",
    "\n",
    "### [14. Modelos individuais - convergência em redes completas](14.00-Modelos_individuais_convergencia_redes_completas.ipynb)\n",
    "\n",
    "### [15. Modelos individuais - velocidade de processsamento](15.00-Modelos_individuais_velocidade.ipynb)\n",
    "\n",
    "### [16. Modelos individuais - reformulação da implementação](16.00-Modelos_individuais_reformulacao.ipynb)\n",
    "\n",
    "### [17. O cenário de múltiplos do Pop350: rede residencial](17.00-Construindo_Cenarios_e_Pop_Multi_350_residencial.ipynb)\n",
    "\n",
    "### [18. O cenário de múltiplos do Pop350: redes sociais](18.00-Construindo_Cenarios_e_Pop_Multi_350_social.ipynb)\n",
    "\n",
    "### [19. O cenário de múltiplos do Pop350: parâmetros](19.00-Construindo_Cenarios_e_Pop_Multi_350_parametros.ipynb)\n",
    "\n",
    "### [20. O cenário da cidade do Rio de Janeiro: rede residencial](20.00-Cenario_Rio_Residencias.ipynb)\n",
    "\n",
    "### [21. Modelo individual: incluindo a fase de exposição](21.00-Modelo_individual_infeccao_e_recuperacao.ipynb)\n",
    "\n",
    "### [22. Construção de cenários: definindo as idades](22.00-Construindo_Cenarios_Distribuicao_Idades.ipynb)\n",
    "\n",
    "### [23. O cenário da cidade do Rio de Janeiro: rede de empresas](23.00-Cenario_Rio_Empresas.ipynb)\n",
    "\n",
    "### [24. O cenário da cidade do Rio de Janeiro: rede escolar](24.00-Cenario_Rio_Escolar.ipynb)\n",
    "\n",
    "### [25. O cenário da cidade do Rio de Janeiro: primeira versão](25.00-Cenario_Rio_primeira_versao.ipynb)\n",
    "\n",
    "### [26. O cenário da cidade do Rio de Janeiro: primeiras simulações](26.00-Cenario_Rio_primeiras_simulacoes.ipynb)\n",
    "\n",
    "### [27. Modelo individual estocástico em tempos discretos adaptado ao município do Rio de Janeiro](27.00-Cenario_Rio_apresentacao.ipynb)\n",
    "\n",
    "### [28. Modelo individual: fase de contágio](28.00-Modelo_Individual_fase_de_contagio.ipynb)\n",
    "\n",
    "### [29. Modelo individual: força de infecção](29.00-Modelo_Individual_forca_de_infeccao.ipynb)\n",
    "\n"
   ]
  },
  {
   "cell_type": "markdown",
   "metadata": {
    "slideshow": {
     "slide_type": "skip"
    }
   },
   "source": [
    "<!--NAVIGATOR-->\n",
    "\n",
    "---\n",
    "| [Página Inicial](00.00-Pagina_Inicial.ipynb) | [Explorando a base de dados da Covid-19 ->](01.00-Explorando-dados-da-covid-19.ipynb)"
   ]
  }
 ],
 "metadata": {
  "kernelspec": {
   "display_name": "Python 3",
   "language": "python",
   "name": "python3"
  },
  "language_info": {
   "codemirror_mode": {
    "name": "ipython",
    "version": 3
   },
   "file_extension": ".py",
   "mimetype": "text/x-python",
   "name": "python",
   "nbconvert_exporter": "python",
   "pygments_lexer": "ipython3",
   "version": "3.8.1"
  }
 },
 "nbformat": 4,
 "nbformat_minor": 4
}
