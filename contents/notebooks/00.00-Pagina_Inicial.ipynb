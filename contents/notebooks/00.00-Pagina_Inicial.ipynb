{
 "cells": [
  {
   "cell_type": "markdown",
   "metadata": {
    "slideshow": {
     "slide_type": "skip"
    }
   },
   "source": [
    "<!--HEADER-->\n",
    "[*Notas sobre modelagem da epidemia de Covid-19*](https://github.com/rmsrosa/modcovid19) / [*IM-UFRJ*](https://www.im.ufrj.br)."
   ]
  },
  {
   "cell_type": "markdown",
   "metadata": {
    "slideshow": {
     "slide_type": "skip"
    }
   },
   "source": [
    "<!--BADGES-->\n",
    "<a href=\"../slides/00.00-Pagina_Inicial.slides.html\" target=\"_blank\"><img align=\"left\" src=\"https://img.shields.io/badge/local-slides-darkgreen\" alt=\"localslides\" title=\"Local Slides\"></a>\n",
    "&nbsp;"
   ]
  },
  {
   "cell_type": "markdown",
   "metadata": {
    "slideshow": {
     "slide_type": "skip"
    }
   },
   "source": [
    "<!--NAVIGATOR-->\n",
    "| [Página Inicial](00.00-Pagina_Inicial.ipynb) | [Explorando a base de dados da Covid-19 ->](01.00.Aula-Explorando-dados-da-covid-19.ipynb)\n",
    "\n",
    "---\n"
   ]
  },
  {
   "cell_type": "markdown",
   "metadata": {
    "slideshow": {
     "slide_type": "slide"
    }
   },
   "source": [
    "# Página Inicial\n",
    "\n",
    "Abaixo o Sumário dos notebooks sobre as aulas de um curso virtual de modelagem da epidemia de Covid-19 oferecido pelo Professor [Ricardo M. S. Rosa](http://www.im.ufrj.br/rrosa/) do [Instituto de Matemática da UFRJ](http://www.im.ufrj.br) e que estão reunidas no repositório [rmsrosa/modelagem_matematica](https://github.com/rmsrosa/modelagem_matematica).\n",
    "\n",
    "O texto está disponível sob a [licença CC-BY-NC-ND](https://creativecommons.org/licenses/by-nc-nd/3.0/us/legalcode) e os códigos estão disponíveis sob a [licença GNU GPL Versão 3](https://www.gnu.org/licenses/gpl.html)."
   ]
  },
  {
   "cell_type": "markdown",
   "metadata": {
    "slideshow": {
     "slide_type": "slide"
    }
   },
   "source": [
    "## Sumário"
   ]
  },
  {
   "cell_type": "markdown",
   "metadata": {
    "slideshow": {
     "slide_type": "slide"
    }
   },
   "source": [
    "<!--TABLE_OF_CONTENTS-->\n",
    "## [](#)\n",
    "\n",
    "### [Página Inicial](00.00-Pagina_Inicial.ipynb)\n",
    "\n",
    "### [Aula 1. Explorando a base de dados da Covid-19](01.00.Aula-Explorando-dados-da-covid-19.ipynb)\n",
    "\n",
    "### [Aula 2. Ajuste de parâmetros](02.00.Aula-Ajuste_de_parametros.ipynb)\n",
    "\n",
    "### [Aula 3. Modelos epidemiológicos compartimentais](03.00.Aula-Modelos_compartimentais.ipynb)\n",
    "\n",
    "### [Aula 4. Modelos compartimentais estruturados](04.00.Aula-Compartimentais_estruturados.ipynb)\n",
    "\n",
    "### [Aula 5. Qualidade e comparação de modelos](05.00.Aula-Qualidade_e_comparacao_de_modelos.ipynb)\n",
    "\n",
    "### [Aula 6. Modelos baseados em indivíduos e o relatório do Imperial Colege](06.00.Aula-Modelos_baseados_em_individuos.ipynb)\n",
    "\n",
    "### [Aula 7. Modelos indivuais estocásticos estruturados](07.00.Aula-Modelos_individuos_estruturados.ipynb)\n",
    "\n",
    "### [Aula 8. Modelos individuais estocásticos com múltiplas estruturas de conexão](08.00.Aula-Modelos_individuais_multiplas_estruturas.ipynb)\n",
    "\n",
    "### [Aula 9. Modelos individuais estocásticos - redes e parâmetros](09.00.Aula-Modelos_individuais_redes_e_parametros.ipynb)\n",
    "\n",
    "### [Aula 10. Modelos individuais - implementação inicial](10.00.Aula-Modelos_individuais_implementacao_matricial.ipynb)\n",
    "\n",
    "### [Aula 11. Modelos individuais estocásticos - implementação vetorial](11.00.Aula-Modelos_individuais_implementacao_vetorial.ipynb)\n",
    "\n",
    "### [Aula 12. Modelos individuais - parâmetros](12.00.Aula-Modelos_individuais_parametros.ipynb)\n",
    "\n",
    "### [Aula 13. Modelos individuais - comparação entre as implementações matricial e vetorial](13.00.Aula-Modelos_individuais_comparacao_matricial_vetorial.ipynb)\n",
    "\n",
    "### [Aula 14. Modelos individuais - convergência em redes completas](14.00.Aula-Modelos_individuais_convergencia_redes_completas.ipynb)\n",
    "\n",
    "### [Aula 15. Modelos individuais - velocidade de processsamento](15.00.Aula-Modelos_individuais_velocidade.ipynb)\n",
    "\n",
    "### [Aula 16. Modelos individuais - reformulação da implementação](16.00.Aula-Modelos_individuais_reformulacao.ipynb)\n",
    "\n",
    "### [Aula 17. O cenário de múltiplos do Pop350](17.00.Aula-Construindo_Cenarios_e_Pop_Multi_350.ipynb)\n",
    "\n"
   ]
  },
  {
   "cell_type": "markdown",
   "metadata": {
    "slideshow": {
     "slide_type": "skip"
    }
   },
   "source": [
    "<!--NAVIGATOR-->\n",
    "\n",
    "---\n",
    "| [Página Inicial](00.00-Pagina_Inicial.ipynb) | [Explorando a base de dados da Covid-19 ->](01.00.Aula-Explorando-dados-da-covid-19.ipynb)"
   ]
  }
 ],
 "metadata": {
  "kernelspec": {
   "display_name": "Python 3",
   "language": "python",
   "name": "python3"
  },
  "language_info": {
   "codemirror_mode": {
    "name": "ipython",
    "version": 3
   },
   "file_extension": ".py",
   "mimetype": "text/x-python",
   "name": "python",
   "nbconvert_exporter": "python",
   "pygments_lexer": "ipython3",
   "version": "3.7.3"
  }
 },
 "nbformat": 4,
 "nbformat_minor": 4
}
