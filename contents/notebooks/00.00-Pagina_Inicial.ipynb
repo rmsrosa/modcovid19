{
 "cells": [
  {
   "cell_type": "markdown",
   "metadata": {
    "slideshow": {
     "slide_type": "skip"
    }
   },
   "source": [
    "<!--HEADER-->\n",
    "[*Notas sobre modelagem da epidemia de Covid-19*](https://github.com/rmsrosa/modcovid19) / [*IM-UFRJ*](https://www.im.ufrj.br)."
   ]
  },
  {
   "cell_type": "markdown",
   "metadata": {
    "slideshow": {
     "slide_type": "skip"
    }
   },
   "source": [
    "<!--BADGES-->\n",
    "<a href=\"../slides/00.00-Pagina_Inicial.slides.html\"><img align=\"left\" src=\"https://img.shields.io/badge/local-slides-darkgreen\" alt=\"localslides\" title=\"Local Slides\"></a>\n",
    "&nbsp;"
   ]
  },
  {
   "cell_type": "markdown",
   "metadata": {
    "slideshow": {
     "slide_type": "skip"
    }
   },
   "source": [
    "<!--NAVIGATOR-->\n",
    "| [Página Inicial](00.00-Pagina_Inicial.ipynb) | [Explorando a base de dados da Covid-19 ->](01.00.Aula-Explorando-dados-da-covid-19.ipynb)\n",
    "\n",
    "---\n"
   ]
  },
  {
   "cell_type": "markdown",
   "metadata": {
    "slideshow": {
     "slide_type": "slide"
    }
   },
   "source": [
    "# Página Inicial\n",
    "\n",
    "Abaixo o Sumário dos notebooks sobre as aulas de um curso virtual de modelagem da epidemia de Covid-19 oferecido pelo Professor [Ricardo M. S. Rosa](http://www.im.ufrj.br/rrosa/) do [Instituto de Matemática da UFRJ](http://www.im.ufrj.br) e que estão reunidas no repositório [rmsrosa/modelagem_matematica](https://github.com/rmsrosa/modelagem_matematica).\n",
    "\n",
    "O texto está disponível sob a [licença CC-BY-NC-ND](https://creativecommons.org/licenses/by-nc-nd/3.0/us/legalcode) e os códigos estão disponíveis sob a [licença GNU GPL Versão 3](https://www.gnu.org/licenses/gpl.html)."
   ]
  },
  {
   "cell_type": "markdown",
   "metadata": {
    "slideshow": {
     "slide_type": "slide"
    }
   },
   "source": [
    "## Sumário"
   ]
  },
  {
   "cell_type": "markdown",
   "metadata": {
    "slideshow": {
     "slide_type": "slide"
    }
   },
   "source": [
    "<!--TABLE_OF_CONTENTS-->\n",
    "## [](#)\n",
    "\n",
    "### [Página Inicial](00.00-Pagina_Inicial.ipynb)\n",
    "\n",
    "### [Aula 1. Explorando a base de dados da Covid-19](01.00.Aula-Explorando-dados-da-covid-19.ipynb)\n",
    "\n",
    "### [Aula 5. Qualidade e comparação de modelos](05.00.Aula-Qualidade_e_comparacao_de_modelos.ipynb)\n",
    "\n",
    "### [Aula 6. Modelos baseados em indivíduos e o relatório do Imperial Colege](06.00.Aula-Modelos_baseados_em_individuos.ipynb)\n",
    "\n",
    "### [Aula 7. Modelos indivuais estocásticos estruturados](07.00.Aula-Modelos_individuos_estruturados.ipynb)\n",
    "\n",
    "### [Aula 8. Modelos Individuais Estocásticos Estruturados](08.00.Aula-Modelos_individuais_estocasticos_2.ipynb)\n",
    "\n"
   ]
  },
  {
   "cell_type": "markdown",
   "metadata": {
    "slideshow": {
     "slide_type": "slide"
    }
   },
   "source": [
    "<!--NAVIGATOR-->\n",
    "\n",
    "---\n",
    "| [Página Inicial](00.00-Pagina_Inicial.ipynb) | [Explorando a base de dados da Covid-19 ->](01.00.Aula-Explorando-dados-da-covid-19.ipynb)"
   ]
  }
 ],
 "metadata": {
  "kernelspec": {
   "display_name": "Python 3",
   "language": "python",
   "name": "python3"
  },
  "language_info": {
   "codemirror_mode": {
    "name": "ipython",
    "version": 3
   },
   "file_extension": ".py",
   "mimetype": "text/x-python",
   "name": "python",
   "nbconvert_exporter": "python",
   "pygments_lexer": "ipython3",
   "version": "3.7.3"
  }
 },
 "nbformat": 4,
 "nbformat_minor": 4
}
