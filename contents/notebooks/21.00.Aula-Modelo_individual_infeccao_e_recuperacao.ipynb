{
 "cells": [
  {
   "cell_type": "markdown",
   "metadata": {
    "slideshow": {
     "slide_type": "skip"
    }
   },
   "source": [
    "<!--HEADER-->\n",
    "[*Notas sobre modelagem da epidemia de Covid-19*](https://github.com/rmsrosa/modcovid19) / [*IM-UFRJ*](https://www.im.ufrj.br)."
   ]
  },
  {
   "cell_type": "markdown",
   "metadata": {
    "slideshow": {
     "slide_type": "skip"
    }
   },
   "source": [
    "<!--BADGES-->\n",
    "<a href=\"../slides/21.00.Aula-Modelo_individual_infeccao_e_recuperacao.slides.html\" target=\"_blank\"><img align=\"left\" src=\"https://img.shields.io/badge/local-slides-darkgreen\" alt=\"localslides\" title=\"Local Slides\"></a>\n",
    "&nbsp;"
   ]
  },
  {
   "cell_type": "markdown",
   "metadata": {
    "slideshow": {
     "slide_type": "skip"
    }
   },
   "source": [
    "<!--NAVIGATOR-->\n",
    "[<- O cenário da cidade do Rio de Janeiro](20.00.Aula-Cenario_Rio.ipynb) | [Página Inicial](00.00-Pagina_Inicial.ipynb) \n",
    "\n",
    "---\n"
   ]
  },
  {
   "cell_type": "markdown",
   "metadata": {
    "slideshow": {
     "slide_type": "slide"
    }
   },
   "source": [
    "# Modelo individual: incluindo incubação e latência\n",
    "\n",
    "- A implementação que fizemos até agora é baseado nos compartimentos SIR, com um suscetível indo direto para uma única fase infecciosa.\n",
    "\n",
    "- Vamos, agora, implementar as fases de incubação e latência"
   ]
  },
  {
   "cell_type": "code",
   "execution_count": 1,
   "metadata": {
    "slideshow": {
     "slide_type": "skip"
    }
   },
   "outputs": [],
   "source": [
    "import datetime # date and time tools\n",
    "\n",
    "import os, sys\n",
    "\n",
    "import math\n",
    "\n",
    "import random\n",
    "\n",
    "import numpy as np\n",
    "\n",
    "import networkx as nx\n",
    "\n",
    "import matplotlib.pyplot as plt\n",
    "import seaborn as sns\n",
    "\n",
    "import io, base64\n",
    "from IPython.display import Image, HTML"
   ]
  },
  {
   "cell_type": "code",
   "execution_count": 2,
   "metadata": {
    "slideshow": {
     "slide_type": "skip"
    }
   },
   "outputs": [],
   "source": [
    "sys.path.insert(0, os.path.abspath(os.path.join(os.getcwd(), '..')))\n",
    "import episiming"
   ]
  },
  {
   "cell_type": "code",
   "execution_count": 3,
   "metadata": {
    "slideshow": {
     "slide_type": "skip"
    }
   },
   "outputs": [],
   "source": [
    "sns.set_style(\"darkgrid\")"
   ]
  },
  {
   "cell_type": "code",
   "execution_count": 4,
   "metadata": {
    "slideshow": {
     "slide_type": "skip"
    }
   },
   "outputs": [
    {
     "name": "stdout",
     "output_type": "stream",
     "text": [
      "Atualização mais recente do kernel: 30/May/2020\n"
     ]
    }
   ],
   "source": [
    "dt_string = datetime.datetime.now().strftime(\"%d/%b/%Y\")\n",
    "print(f\"Atualização mais recente do kernel: {dt_string}\")"
   ]
  },
  {
   "cell_type": "markdown",
   "metadata": {},
   "source": [
    "## Fontes\n",
    "\n",
    "- O artigo [Halloran et al (2008)](#Referências) analisa o resultado das pesquisas de três grupos:\n",
    "\n",
    "    - Imperial College and the University of Pittsburgh **(Imperial/ Pitt)**.\n",
    "\n",
    "    - University of Washington and Fred Hutchinson Cancer Research Center in Seattle and the Los Alamos National Laboratories **(UW/LANL)**.\n",
    "\n",
    "    - Virginia Bioinformatics Institute of the Virginia Polytechnical Institute and State University **(VBI)**.\n",
    "\n",
    "- A diferença principal entre eles está nos tipos de redes considerados, além das particularidades das diferentes regiões estudadas.\n",
    "\n",
    "- Até o momento, temos estudado os artigos associados ao grupo do Imperial/Pitt. \n",
    "\n",
    "- Mas a leitura dos outros artigos e dos materiais complementares correspondentes ajudam no entendimento de alguns pontos obscuros nos artigos relacionados ao modelo do Imperial/Pitt.\n",
    "\n",
    "- Em particular, vamos estudar os artigos [Germann et al (2006)](#Referências) e [Longinit et al (2005)](#Referências), relacionados ao grupo US/LANL.\n",
    "\n",
    "- O artigo citado do grupo VBI não foi encontrado diretamente, mas o seu conteúdo aparece na tese de [Lewis (2011)](#Referências) (sem material suplementar) e um outro artigo possivelmente tratando do mesmo modelo aparece em [Lewis et al (2013)](#Referências)."
   ]
  },
  {
   "cell_type": "markdown",
   "metadata": {},
   "source": [
    "## O processo de infecção e suas fases\n",
    "\n",
    "- O [texto de apoio](#References) do artigo [Germann et al (2006)](#References), mais precisamente a seção **Disease natural history**, nas páginas 3 e 4, em conjunto com a Figura 3 "
   ]
  },
  {
   "cell_type": "markdown",
   "metadata": {},
   "source": [
    "## Número básico de reprodução"
   ]
  },
  {
   "cell_type": "markdown",
   "metadata": {},
   "source": [
    "## Referências\n",
    "\n",
    "- [Imperial College COVID-19 Response Team (16/mar/2020), Impact of non-pharmaceutical interventions (NPIs) to reduce COVID- 19 mortality and healthcare demand, 16 de março de 2020. (Free Download)](https://www.imperial.ac.uk/media/imperial-college/medicine/sph/ide/gida-fellowships/Imperial-College-COVID19-NPI-modelling-16-03-2020.pdf)\n",
    "\n",
    "- [Ferguson NM, Cummings DAT, Fraser C, Cajka JC, Cooley PC, Burke DS (2006). Strategies for mitigating an influenza pandemic. Nature 442 (7101), 448–52 (Free Download)](https://pubmed.ncbi.nlm.nih.gov/16642006/); veja, também, as [notas suplementares](https://www.nature.com/articles/nature04795#Sec2).\n",
    "\n",
    "- [Ferguson, N. M. et al. (2005), Strategies for containing an emerging influenza pandemic\n",
    "in Southeast Asia, Nature 437, 209-214.](https://pubmed.ncbi.nlm.nih.gov/16079797/) (Link para download [aqui](http://citeseerx.ist.psu.edu/viewdoc/download?doi=10.1.1.452.235&rep=rep1&type=pdf) disponibilizado por [CiteSeerX](http://citeseerx.ist.psu.edu/); veja, também, as [notas suplementares](https://static-content.springer.com/esm/art%3A10.1038%2Fnature04017/MediaObjects/41586_2005_BFnature04017_MOESM1_ESM.pdf).\n",
    "\n",
    "- [Germann TC, Kadau K, Longini IM, Macken CA (2006) Proc Natl Acad Sci USA 103:5935–\n",
    "5940 (Free Download)](https://www.pnas.org/content/103/15/5935); veja, também, o [texto de apoio](https://www.pnas.org/content/pnas/suppl/2006/03/24/0601266103.DC1/01266SuppText.pdf) e as [figuras e informações](https://www.pnas.org/content/103/15/5935/tab-figures-data).\n",
    "\n",
    "- [Halloran ME, Ferguson NM, Eubank S, et al (2008), Modeling targeted layered containment of an influenza pandemic in the United States. Proc Natl Acad Sci U S A 105 (12), 4639–44 (Free Download)](https://pubmed.ncbi.nlm.nih.gov/18332436/); veja, também, o [suplemento do artigo](https://www.pnas.org/content/suppl/2008/02/28/0706849105.DC1).\n",
    "\n",
    "- [Lewis, BL (2011), The Essential Role of Highly Detailed Simulations in Support of Public Health Decision-Making; Thesis dissertation at Virginia Polytechnic Institute and State University](https://vtechworks.lib.vt.edu/bitstream/handle/10919/26058/Lewis_BL_D_2011.pdf).\n",
    "\n",
    "- [Lewis, B., Eubank, S., Abrams, A.M. et al. in silico Surveillance: evaluating outbreak detection with simulation models. BMC Med Inform Decis Mak 13, 12 (2013). https://doi.org/10.1186/1472-6947-13-12](https://bmcmedinformdecismak.biomedcentral.com/articles/10.1186/1472-6947-13-12#citeas); veja também o [material eletrônico suplementar](https://bmcmedinformdecismak.biomedcentral.com/articles/10.1186/1472-6947-13-12#Sec13).\n",
    "\n",
    "- [Longini Jr  IM, Nizam A, Xu S, Ungchusak K, Hanshaoworakul W, Cummings DAT, Halloran ME (2005) Containing Pandemic Influenza at the Source, Science 309(5737): 1083-7](https://science.sciencemag.org/content/309/5737/1083); veja, também, o [material suplementar](https://science.sciencemag.org/content/suppl/2005/08/11/1115717.DC1)."
   ]
  },
  {
   "cell_type": "markdown",
   "metadata": {
    "slideshow": {
     "slide_type": "skip"
    }
   },
   "source": [
    "<!--NAVIGATOR-->\n",
    "\n",
    "---\n",
    "[<- O cenário da cidade do Rio de Janeiro](20.00.Aula-Cenario_Rio.ipynb) | [Página Inicial](00.00-Pagina_Inicial.ipynb) "
   ]
  }
 ],
 "metadata": {
  "kernelspec": {
   "display_name": "py38",
   "language": "python",
   "name": "py38"
  },
  "language_info": {
   "codemirror_mode": {
    "name": "ipython",
    "version": 3
   },
   "file_extension": ".py",
   "mimetype": "text/x-python",
   "name": "python",
   "nbconvert_exporter": "python",
   "pygments_lexer": "ipython3",
   "version": "3.8.1"
  }
 },
 "nbformat": 4,
 "nbformat_minor": 4
}
