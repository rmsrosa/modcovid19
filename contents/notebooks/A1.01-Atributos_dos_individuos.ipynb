{
 "cells": [
  {
   "cell_type": "markdown",
   "metadata": {
    "slideshow": {
     "slide_type": "skip"
    }
   },
   "source": [
    "<!--HEADER-->\n",
    "[*Notas sobre modelagem da epidemia de Covid-19*](https://github.com/rmsrosa/modcovid19) / [*IM-UFRJ*](https://www.im.ufrj.br)."
   ]
  },
  {
   "cell_type": "markdown",
   "metadata": {
    "slideshow": {
     "slide_type": "skip"
    }
   },
   "source": [
    "<!--BADGES-->\n",
    "<a href=\"../slides/A1.00.-Modelo_epidemiologico_Individual_estocastico.slides.html\" target=\"_blank\"><img align=\"left\" src=\"https://img.shields.io/badge/local-slides-darkgreen\" alt=\"localslides\" title=\"Local Slides\"></a>\n",
    "&nbsp;"
   ]
  },
  {
   "cell_type": "markdown",
   "metadata": {
    "slideshow": {
     "slide_type": "skip"
    }
   },
   "source": [
    "<!--NAVIGATOR-->\n",
    "[<- O cenário da cidade do Rio de Janeiro: distribuição inicial de infectados](32.00-Cenario_Rio_Distribuicao_Infectados.ipynb) | [Página Inicial](00.00-Pagina_Inicial.ipynb) \n",
    "\n",
    "---\n"
   ]
  },
  {
   "cell_type": "markdown",
   "metadata": {
    "slideshow": {
     "slide_type": "slide"
    }
   },
   "source": [
    "# Atributos dos indivíduos\n",
    "\n",
    "- O modelo considera separadamente cada indivíduo da população. No caso do Rio de Janeiro, são quase sete milhões de indivíduos. \n",
    "\n",
    "\n",
    "- Para cada indivíduo, temos os seguintes atributos:\n",
    "\n",
    "    - a sua localização de sua residência, incluindo coordenadas espaciais, bairro e bloco correspondendo a uma subdivisão da região em blocos;\n",
    "    \n",
    "    - a sua idade;\n",
    "    \n",
    "    - O grau relativo de potencial de infectividade do indivíduo;\n",
    "    \n",
    "- A seguir, descrevemos melhor como esses atributos são construídos."
   ]
  },
  {
   "cell_type": "code",
   "execution_count": 1,
   "metadata": {
    "slideshow": {
     "slide_type": "skip"
    }
   },
   "outputs": [],
   "source": [
    "import datetime\n",
    "\n",
    "import os, sys\n",
    "\n",
    "import math\n",
    "\n",
    "import random\n",
    "\n",
    "import numpy as np\n",
    "from scipy import stats\n",
    "from scipy.interpolate import interp2d\n",
    "\n",
    "import networkx as nx\n",
    "\n",
    "import matplotlib.pyplot as plt\n",
    "import seaborn as sns\n",
    "\n",
    "import io, base64\n",
    "from IPython.display import Image, HTML"
   ]
  },
  {
   "cell_type": "code",
   "execution_count": 2,
   "metadata": {
    "slideshow": {
     "slide_type": "skip"
    }
   },
   "outputs": [],
   "source": [
    "sys.path.insert(0, os.path.abspath(os.path.join(os.getcwd(), '..')))\n",
    "import episiming"
   ]
  },
  {
   "cell_type": "code",
   "execution_count": 3,
   "metadata": {
    "slideshow": {
     "slide_type": "skip"
    }
   },
   "outputs": [],
   "source": [
    "sns.set_style(\"darkgrid\")"
   ]
  },
  {
   "cell_type": "code",
   "execution_count": 4,
   "metadata": {
    "slideshow": {
     "slide_type": "skip"
    }
   },
   "outputs": [
    {
     "name": "stdout",
     "output_type": "stream",
     "text": [
      "Atualização mais recente do kernel: 03/Jul/2020\n"
     ]
    }
   ],
   "source": [
    "dt_string = datetime.datetime.now().strftime(\"%d/%b/%Y\")\n",
    "print(f\"Atualização mais recente do kernel: {dt_string}\")"
   ]
  },
  {
   "cell_type": "markdown",
   "metadata": {
    "slideshow": {
     "slide_type": "slide"
    }
   },
   "source": [
    "## Representação dos indivíduos\n",
    "\n",
    "- Para uma população de $N$ indivíduos, cada indivíduo é representado por um **índice** $i=1, ..., N$.\n",
    "\n",
    "- Associado a cada índice, ou seja, para cada indivíduo, temos os seguintes atributos:\n",
    "\n",
    "    - A sua **posição** $(x_i, y_i)$ em coordenadas espaciais.\n",
    "\n",
    "    - O índice linear (*flattened*) $b_i$ do **bloco** em que está localizado, considerando que a região é compartimentalizada em blocos.\n",
    "\n",
    "    - O **bairro** do indivíduo conforme uma indexação $c_i$, i.e. cada $c_i$ é um número associado a um determinado bairro.\n",
    "\n",
    "    - A **idade** $a_i$ do indivíduo.\n",
    "\n",
    "    - O **grau relativo de infectividade** $\\rho_i$ do indivíduo.\n",
    "    \n",
    "**Observação:** O grau de infectividade, naturalmente, é um grau potencial, que só é efetivo caso o indivíduo se torne infectado."
   ]
  },
  {
   "cell_type": "markdown",
   "metadata": {
    "slideshow": {
     "slide_type": "slide"
    }
   },
   "source": [
    "## Localização\n",
    "\n",
    "- A distribuição populacional é feita a partir de dados de densidade populacional obtidos do [LandScan](https://landscan.ornl.gov).\n",
    "\n",
    "- Os dados do [LandScan](https://landscan.ornl.gov) são disponibilizados por blocos de aproximadamente $1 \\;\\textrm{km}^2$.\n",
    "\n",
    "- Cado indivíduo é, então, associado, também, ao bloco ao qual pertence.\n",
    "\n",
    "- Esses dados são cruzados com dados de localização dos bairros para associar, ainda, cada indivíduo a um bairro."
   ]
  },
  {
   "cell_type": "markdown",
   "metadata": {
    "slideshow": {
     "slide_type": "slide"
    }
   },
   "source": [
    "### Resolução do Lanscan\n",
    "\n",
    "- Os dados do [LandScan](https://landscan.ornl.gov) são, na verdade, do número de habitantes por bloco de 30\" x 30\" (onde \" indica segundos de arco).\n",
    "\n",
    "- A metragem exata dos blocos depende da latitude. As coordenadas geográficas do (centro do) Rio de Janeiro são latitude: 22° 54' 30'' Sul e longitude: 43° 11' 47'' Oeste.\n",
    "\n",
    "- No equador, um minuto de arco corresponde a uma milha náutica, i.e. 1852 metros. Corrigindo para latitude de 23 graus e dividindo por 2, obtemos\n",
    "\n",
    "    $$ \\text{30\" de arco longitudinal no Rio de Janeiro} \\approx \\frac{\\cos\\left(\\frac{180\\pi}{23}\\right) \\times 1852}{2} \\approx 852.39 \\;\\text{metros}.\n",
    "    $$\n",
    "\n",
    "- Já a distância latitudinal não é muito afetada pela latitude e temos\n",
    "\n",
    "    $$ \\text{30\" de arco latitudinal no Rio de Janeiro} \\approx \\text{30\" de arco latitudinal na linha do equador} = \\frac{1852}{2} \\;\\text{metros} = 926 \\;\\text{metros}.\n",
    "    $$\n",
    "    \n",
    "- Cada segundo de arco nos dá uma resolução, no Rio de Janeiro, de $28.41 \\times 30.87$ metros quadrados."
   ]
  },
  {
   "cell_type": "markdown",
   "metadata": {},
   "source": [
    "### Matriz populacional obtida do Landscan\n",
    "\n",
    "- Do [LandScan](https://landscan.ornl.gov), obtemos uma matriz com, entre outras coisas, informações da população em cada bloco de 30\" x 30\".\n",
    "\n",
    "- No caso do Rio de Janeiro, obtemos um matrix 39 x 83.\n",
    "\n",
    "- A matriz foi trabalhada no [QGIS](https://qgis.org/en/site/) e uma **matriz populacional**, em formato numpy, foi obtida, apenas com os dados de população por bloco.\n",
    "\n",
    "- Alguns blocos contém o valor -1, indicando falta de informação.\n",
    "\n",
    "- Outros contém o valor 0, indicando que não há habitantes no bloco, o que pode indicar um bloco no mar, na baía de Guanabara ou em algum área terrestre desocupada, como alguma área de reserva ambiental.\n",
    "\n",
    "- Abaixo, carregamos a matriz na memória, substituímos o valor -1 por 0 e obtemos algumas informações."
   ]
  },
  {
   "cell_type": "code",
   "execution_count": 5,
   "metadata": {},
   "outputs": [
    {
     "name": "stdout",
     "output_type": "stream",
     "text": [
      "Dimensão da matriz de blocos: (39, 83)\n",
      "Região representada pelo LandScan:  70.748 x 36.114 km^2\n",
      "Total de blocos: 3237\n",
      "Total de blocos habitados: 1454\n",
      "População: 6857853\n"
     ]
    }
   ],
   "source": [
    "landscan_rio = np.load('../input/dados_rio/landscan_rio.npy').astype(int)\n",
    "landscan_rio = np.maximum(landscan_rio, 0)\n",
    "landscan_rio_xscale = 0.85239\n",
    "landscan_rio_yscale = 0.926\n",
    "landscan_rio_xdim = landscan_rio.shape[1]\n",
    "landscan_rio_ydim = landscan_rio.shape[0]\n",
    "landscan_rio_xextent = landscan_rio_xdim*landscan_rio_xscale\n",
    "landscan_rio_yextent = landscan_rio_ydim*landscan_rio_yscale\n",
    "\n",
    "print(f'Dimensão da matriz de blocos: {landscan_rio.shape}')\n",
    "print('Região representada pelo LandScan: ',\n",
    "      f'{landscan_rio_xextent:.3f} x {landscan_rio_yextent:.3f} km^2')\n",
    "print(f'Total de blocos: {landscan_rio_xdim*landscan_rio_ydim}')\n",
    "print(f'Total de blocos habitados: {(landscan_rio[landscan_rio>0]>1).sum()}')\n",
    "print(f'População: {landscan_rio.sum()}')"
   ]
  },
  {
   "cell_type": "markdown",
   "metadata": {},
   "source": [
    "### Visualização em escala logarítmica\n",
    "\n",
    "- Usamos escala logarítmica para visualizar melhor a variação na população:\n",
    "\n",
    "$$ \\ln( 1 + \\textrm{população})\n",
    "$$\n",
    "\n",
    "- Ajustamos, ainda, as escalas dos eixos de acordo com a resolução do [LandScan](https://landscan.ornl.gov) para o Rio de Janeiro"
   ]
  },
  {
   "cell_type": "code",
   "execution_count": 6,
   "metadata": {},
   "outputs": [
    {
     "data": {
      "image/png": "[encoded data removed]",
      "text/plain": [
       "<Figure size 864x432 with 1 Axes>"
      ]
     },
     "metadata": {},
     "output_type": "display_data"
    }
   ],
   "source": [
    "plt.figure(figsize=(12,6))\n",
    "plt.imshow(np.log(1 + landscan_rio), cmap='seismic', interpolation='none',\n",
    "           extent=[0,landscan_rio_xextent,0,landscan_rio_yextent])\n",
    "plt.grid(False)\n",
    "plt.xlabel('km', fontsize=14)\n",
    "plt.ylabel('km', fontsize=14)\n",
    "plt.title(f'Distribuição da população de {int(landscan_rio.sum())} indivíduos', fontsize=16)\n",
    "plt.show()"
   ]
  },
  {
   "cell_type": "markdown",
   "metadata": {},
   "source": [
    "### Sobre a resolução da malha\n",
    "\n",
    "- Observe que a malha está visivelmente grosseira.\n",
    "\n",
    "- Se usarmos essa resolução, corremos o risco de distribuir os indivíduos em locais inabitáveis, como o mar e a baía.\n",
    "\n",
    "- Além disso, com essa resolução, a associação com os bairros pode gerar inconsistências.\n",
    "\n",
    "- Para resolver isso, fazemos o seguinte:\n",
    "    \n",
    "    - carregamos uma matriz de bairros com uma resolução melhor; e\n",
    "    \n",
    "    - interpolamos os dados da matriz populacional para a resolução mais fina da matriz de bairros.\n",
    "    \n",
    "- Naturalmente, a interpolação deve preservar o total de habitantes de cada bloco da matriz populacional."
   ]
  },
  {
   "cell_type": "markdown",
   "metadata": {},
   "source": [
    "### Bairros\n",
    "\n",
    "- A matriz de bairros é obtida de a partir de dados de ...\n",
    "\n",
    "- Um arquivo do tipo [shapefile](https://desktop.arcgis.com/en/arcmap/10.3/manage-data/shapefiles/what-is-a-shapefile.htm) é obtido, com a delimitação de cada bairro.\n",
    "\n",
    "- No [QGIS](https://qgis.org/en/site/), após definirmos uma resolução espacial, exportamos os dados para uma **matriz de bairros**, associando cada bloco a um bairro.\n",
    "\n",
    "- Aqui, definimos uma resolução 100 vezes maior do que a obtida do [LandScan](https://landscan.ornl.gov). Mais precisamente, 10 vezes mais fina em cada direção.\n",
    "\n",
    "- Obtemos, assim, uma matriz 390 x 830.\n",
    "\n",
    "- Cada bloco da matriz de bairros cobre uma área de 3\" x 3\" kilômetros quadrados, ou seja, aproximadamente 85,2 x 92,6 metros quadrados.\n",
    "\n",
    "- Cada elemento da matriz é um número inteiro; cada número inteiro representando um bairro.\n",
    "\n",
    "- São 163 bairros."
   ]
  },
  {
   "cell_type": "code",
   "execution_count": 7,
   "metadata": {},
   "outputs": [],
   "source": [
    "geoloc_Bairros_MRJ_fino = np.load(\n",
    "        os.path.join('..', 'input', 'dados_rio','geoloc_Bairros_MRJ_fino.npy')\n",
    "    ).astype(int)"
   ]
  },
  {
   "cell_type": "code",
   "execution_count": 8,
   "metadata": {},
   "outputs": [
    {
     "name": "stdout",
     "output_type": "stream",
     "text": [
      "Dimensão da matriz de blocos: (390, 830)\n",
      "Número de bairros: 163\n"
     ]
    }
   ],
   "source": [
    "print(f'Dimensão da matriz de blocos: {geoloc_Bairros_MRJ_fino.shape}')\n",
    "print(f'Número de bairros: {geoloc_Bairros_MRJ_fino.max()}')"
   ]
  },
  {
   "cell_type": "markdown",
   "metadata": {},
   "source": [
    "### Visualizando a divisão administrativa do Rio de Janeiro"
   ]
  },
  {
   "cell_type": "code",
   "execution_count": 9,
   "metadata": {},
   "outputs": [
    {
     "data": {
      "image/png": "[encoded data removed]",
      "text/plain": [
       "<Figure size 864x432 with 1 Axes>"
      ]
     },
     "metadata": {},
     "output_type": "display_data"
    }
   ],
   "source": [
    "plt.figure(figsize=(12,6))\n",
    "plt.imshow(geoloc_Bairros_MRJ_fino, cmap='tab20', interpolation='none',\n",
    "           extent=[0,landscan_rio_xextent,0,landscan_rio_yextent])\n",
    "plt.grid(False)\n",
    "plt.xlabel('km', fontsize=14)\n",
    "plt.ylabel('km', fontsize=14)\n",
    "plt.title(f'Divisão administrativa do Rio de Janeiro, em {geoloc_Bairros_MRJ_fino.max()} bairros',\n",
    "          fontsize=16)\n",
    "plt.show()"
   ]
  },
  {
   "cell_type": "markdown",
   "metadata": {},
   "source": [
    "### Refinamento da malha populacional\n",
    "\n",
    "- Uma estratégia simples é apenas dividir uniformemente o total da população de cada bloco da matriz populacional pelo número de subblocos habitados da matriz de bairros.\n",
    "\n",
    "- Outra estratégia é interpolar os dados, mas nesse caso devemos tomar cuidado em preservar o total da população de cada bloco.\n",
    "\n",
    "- Uma solução para essa interpolação é a seguinte:\n",
    "\n",
    "    - interpretar o número de habitantes por bloco como uma distribuição de probabilidade;\n",
    "    \n",
    "    - interpolar essa distribuição de maneira linear por partes;\n",
    "    \n",
    "- distribuir os habitantes de cada bloco pelos bloquinhos, usando a distribuição de probabilidades interpolada como pesos. "
   ]
  },
  {
   "cell_type": "code",
   "execution_count": 10,
   "metadata": {},
   "outputs": [],
   "source": [
    "def refina_matriz_populacional(landscan_rio, geoloc_Bairros_MRJ_fino):\n",
    "\n",
    "    tx_refinamento_x = geoloc_Bairros_MRJ_fino.shape[1]/landscan_rio.shape[1]\n",
    "    tx_refinamento_y = geoloc_Bairros_MRJ_fino.shape[0]/landscan_rio.shape[0]\n",
    "\n",
    "    x = np.arange(landscan_rio.shape[1])\n",
    "    y = np.arange(landscan_rio.shape[0])\n",
    "\n",
    "    x_fino = np.arange(0, landscan_rio.shape[1], 1/tx_refinamento_x)\n",
    "    y_fino = np.arange(0, landscan_rio.shape[0], 1/tx_refinamento_y)\n",
    "\n",
    "    f = interp2d(x, y, landscan_rio, kind='linear')\n",
    "    landscan_rio_fino = f(x_fino, y_fino)*np.minimum(geoloc_Bairros_MRJ_fino,1)\n",
    "    \n",
    "    return landscan_rio_fino"
   ]
  },
  {
   "cell_type": "code",
   "execution_count": 11,
   "metadata": {},
   "outputs": [],
   "source": [
    "tx_refinamento_x = int(geoloc_Bairros_MRJ_fino.shape[1]/landscan_rio.shape[1])\n",
    "tx_refinamento_y = int(geoloc_Bairros_MRJ_fino.shape[0]/landscan_rio.shape[0])\n",
    "\n",
    "xs = list(range(landscan_rio.shape[1]))\n",
    "ys = list(range(landscan_rio.shape[0]))"
   ]
  },
  {
   "cell_type": "code",
   "execution_count": 12,
   "metadata": {},
   "outputs": [],
   "source": [
    "xs_fino = np.arange(0, landscan_rio.shape[1], 1/tx_refinamento_x)\n",
    "ys_fino = np.arange(0, landscan_rio.shape[0], 1/tx_refinamento_y)\n",
    "\n",
    "f = interp2d(xs, ys, landscan_rio, kind='linear')\n",
    "landscan_interp = f(xs_fino, ys_fino)*np.minimum(geoloc_Bairros_MRJ_fino,1)"
   ]
  },
  {
   "cell_type": "code",
   "execution_count": 13,
   "metadata": {},
   "outputs": [],
   "source": [
    "sem_bairros = list()\n",
    "for j in xs:\n",
    "    for i in ys:\n",
    "        if landscan_rio[i,j]:\n",
    "            landscan_interp_local = landscan_interp[i*tx_refinamento_y:(i+1)*tx_refinamento_y,\n",
    "                                                    j*tx_refinamento_x:(j+1)*tx_refinamento_x].flatten()\n",
    "            if landscan_interp_local.sum() == 0:\n",
    "                sem_bairros.append([i,j])\n",
    "#            distrib_0 = np.rint(landscan_rio[i,j]*landscan_interp_local/landscan_interp_local.sum()).astype('int')\n",
    "#            print(landscan_rio[i,j] - distrib_0.sum())\n",
    "#            np.random.choice(landscan_rio[x,y], tx_refinamento_x*tx_refinamento_y,\n",
    "#                             replace=False, p=prob_fino_local)\n",
    "\n",
    "landbad = np.zeros_like(landscan_rio)\n",
    "for ij in sem_bairros:\n",
    "    landbad[ij[0], ij[1]] = landscan_rio[ij[0], ij[1]]"
   ]
  },
  {
   "cell_type": "code",
   "execution_count": 14,
   "metadata": {},
   "outputs": [
    {
     "data": {
      "image/png": "[encoded data removed]",
      "text/plain": [
       "<Figure size 864x432 with 1 Axes>"
      ]
     },
     "metadata": {},
     "output_type": "display_data"
    }
   ],
   "source": [
    "plt.figure(figsize=(12,6))\n",
    "plt.imshow(geoloc_Bairros_MRJ_fino, cmap='tab20', interpolation='none',\n",
    "           extent=[0,landscan_rio_xextent,0,landscan_rio_yextent])\n",
    "plt.imshow(np.log(1 + landbad), cmap='binary', interpolation='none',\n",
    "           extent=[0,landscan_rio_xextent,0,landscan_rio_yextent], alpha=0.5)\n",
    "plt.grid(False)\n",
    "plt.xlabel('km', fontsize=14)\n",
    "plt.ylabel('km', fontsize=14)\n",
    "plt.title(f'Divisão administrativa do Rio de Janeiro e densidade populacional',\n",
    "          fontsize=16)\n",
    "plt.show()"
   ]
  },
  {
   "cell_type": "code",
   "execution_count": null,
   "metadata": {},
   "outputs": [],
   "source": [
    "x = 20\n",
    "y = 32\n",
    "print(landscan_rio[x,y])\n",
    "print(list(range(x*tx_refinamento_x,(x+1)*tx_refinamento_x)))\n",
    "print(list(range(y*tx_refinamento_y, (y+1)*tx_refinamento_y)))\n",
    "prob_fino_local = prob_fino[x*tx_refinamento_x:(x+1)*tx_refinamento_x,\n",
    "                                        y*tx_refinamento_y:(y+1)*tx_refinamento_y]\n",
    "prob_fino_local_flat = prob_fino_local.flatten()/prob_fino_local.sum()\n",
    "distrib = np.rint(landscan_rio[x,y]*prob_fino_local_flat).astype('int')\n",
    "print(f'Primeira distribuição (total {distrib.sum()}):\\n', distrib)\n",
    "print(prob_fino.shape)\n",
    "print(prob_fino_local.shape)\n",
    "#print(prob_fino_local)\n",
    "#print(type(int(landscan_rio[x,y])))\n",
    "#np.random.choice(tx_refinamento_x*tx_refinamento_y, int(landscan_rio[x,y]),\n",
    "#                 replace=False, p=prob_fino_local_flat)\n",
    "print(prob_fino_local.sum()/tx_refinamento_x/tx_refinamento_y)"
   ]
  },
  {
   "cell_type": "code",
   "execution_count": null,
   "metadata": {},
   "outputs": [],
   "source": [
    "np.random.choice(100, 10, replace=False, p=prob_fino_local_flat)"
   ]
  },
  {
   "cell_type": "code",
   "execution_count": null,
   "metadata": {},
   "outputs": [],
   "source": [
    "np.random.choice(100, 1000)"
   ]
  },
  {
   "cell_type": "code",
   "execution_count": null,
   "metadata": {},
   "outputs": [],
   "source": [
    "landscan_rio_fino = refina_matriz_populacional(landscan_rio, geoloc_Bairros_MRJ_fino)"
   ]
  },
  {
   "cell_type": "code",
   "execution_count": null,
   "metadata": {},
   "outputs": [],
   "source": [
    "print(landscan_rio.sum())\n",
    "print(landscan_rio_fino.sum()/100)"
   ]
  },
  {
   "cell_type": "code",
   "execution_count": null,
   "metadata": {},
   "outputs": [],
   "source": [
    "plt.figure(figsize=(12,6))\n",
    "plt.imshow(np.log(1 + landscan_rio_fino), cmap='seismic', interpolation='none',\n",
    "           extent=[0,landscan_rio_xextent,0,landscan_rio_yextent])\n",
    "plt.grid(False)\n",
    "plt.xlabel('km', fontsize=14)\n",
    "plt.ylabel('km', fontsize=14)\n",
    "plt.title(f'Densidade de probabilidade de distribuição da população', fontsize=16)\n",
    "plt.show()"
   ]
  },
  {
   "cell_type": "code",
   "execution_count": null,
   "metadata": {},
   "outputs": [],
   "source": [
    "plt.figure(figsize=(12,6))\n",
    "plt.imshow(geoloc_Bairros_MRJ_fino, cmap='tab20', interpolation='none',\n",
    "           extent=[0,landscan_rio_xextent,0,landscan_rio_yextent])\n",
    "plt.imshow(np.log(1 + landscan_rio_fino), cmap='binary', interpolation='none',\n",
    "           extent=[0,landscan_rio_xextent,0,landscan_rio_yextent], alpha=0.5)\n",
    "plt.grid(False)\n",
    "plt.xlabel('km', fontsize=14)\n",
    "plt.ylabel('km', fontsize=14)\n",
    "plt.title(f'Divisão administrativa do Rio de Janeiro e densidade populacional',\n",
    "          fontsize=16)\n",
    "plt.show()"
   ]
  },
  {
   "cell_type": "markdown",
   "metadata": {
    "slideshow": {
     "slide_type": "slide"
    }
   },
   "source": [
    "## Grau relativo de infectividade\n",
    "\n",
    "- Cada indivíduo tem um potencial maior ou menor de transmitir a doença, de acordo com as suas características.\n",
    "\n",
    "- Para levar isso em consideração, um parâmetro relativo (adimensional) $\\rho_i$ é definido para cada indivíduo.\n",
    "\n",
    "- Este parâmetro é tomado de acordo com uma [distribuição gama](https://en.wikipedia.org/wiki/Beta_distribution) com média 1 (ver [DeGroot & Schervish (2012)](#Referências)).\n",
    "\n",
    "- Uma distribuição gama é caracterizada por dois *fatores de forma*, $\\alpha$ e $\\beta$.\n",
    "\n",
    "- Com esses fatores, a função densidade de probabilidade (PDF) de gama é\n",
    "\n",
    "$$\n",
    "\\begin{align}\n",
    "f(x;\\alpha,\\beta) & = \\frac{ \\beta^\\alpha x^{\\alpha-1} e^{-\\beta x}}{\\Gamma(\\alpha)} \\quad \\textrm{para } x > 0, \\quad \\textrm{com } \\alpha, \\beta > 0,\n",
    "\\end{align}\n",
    "$$\n",
    "\n",
    "- Acima, temos a função gama $\\Gamma(\\alpha) = \\int_0^\\infty x^{\\alpha-1} e^{-x} \\;\\textrm{d}x$, necessária para que a integral de $f(x;\\alpha,\\beta)$ em $(0,\\infty)$ seja 1 e, portanto, que ela seja a função densidade de uma probabilidade.\n",
    "\n",
    "- Dados os parâmetros $\\alpha$ e $\\beta$, a distribuição gama tem como valor médio \n",
    "\n",
    "$$ \\textrm{valor médio} = \\frac{\\alpha}{\\beta}.\n",
    "$$\n",
    "\n",
    "- Como queremos média $1$, precisamos que $\\alpha=\\beta$.\n",
    "\n",
    "- No nosso modelo, usamos os mesmos parâmetros utilizados pelo grupo do Imperial/Pitt, ver [Ferguson el al (2005)](#Referências), a saber $\\alpha = \\beta = 0.2$."
   ]
  },
  {
   "cell_type": "markdown",
   "metadata": {
    "slideshow": {
     "slide_type": "slide"
    }
   },
   "source": [
    "### Definindo a infectividade no scipy\n",
    "\n",
    "- Utilizamos a função [scipy.stats.gamma](https://docs.scipy.org/doc/scipy/reference/generated/scipy.stats.gamma.html) para distribuir os valores de $\\rho_i$.\n",
    "\n",
    "- Também podemos utilizar [numpy.random.gamma](https://numpy.org/doc/stable/reference/random/generated/numpy.random.gamma.html).\n",
    "\n",
    "- E utilizamos o método `scipy.stats.gamma.pdf` para visualizar a PDF da distribuição com esses parâmetros.\n",
    "\n",
    "- Observe que o `scipy` define a função gama com parâmetros `a`, `loc` e `scale`:\n",
    "\n",
    "```python\n",
    "gamma.pdf(x, a, loc, scale) = gamma.pdf((x - loc) / scale, a) / scale\n",
    "```\n",
    "\n",
    "onde `gamma.pdf(x, a)` é dada por $x^{a-1}e^{-x}/\\Gamma(a)$, ou seja,\n",
    "\n",
    "$$ \\textrm{gamma.pdf(x, a, loc, scale)} = \\frac{(x-\\textrm{loc})^{a-1}}{\\textrm{scale}^a}\\frac{\\exp\\left(-\\frac{x-\\textrm{loc}}{\\textrm{scale}}\\right)}{\\Gamma(a)}.\n",
    "$$\n",
    "\n",
    "- Acima, `a` representa o parâmetro $\\alpha$ e `loc` é um *deslocamento* na abcissa, que, no nosso caso, não estamos considerando. Por fim, `scale` é o inverso de $\\beta$ (é o termo `k` na outra representação vista em [distribuição gama](https://en.wikipedia.org/wiki/Beta_distribution) e também o nome do argumento usado por [numpy.random.gamma](https://numpy.org/doc/stable/reference/random/generated/numpy.random.gamma.html)). \n",
    "\n",
    "- Assim, para o nosso caso, temos\n",
    "\n",
    "$$ \\textrm{gamma.pdf(x, a=alpha, loc=0, scale=1/beta)} = \\beta^\\alpha x^{\\alpha-1}\\frac{e^{-\\beta x}}{\\Gamma(\\alpha)} = f(x; \\alpha, \\beta),\n",
    "$$"
   ]
  },
  {
   "cell_type": "markdown",
   "metadata": {
    "slideshow": {
     "slide_type": "slide"
    }
   },
   "source": [
    "### Construindo a distribuição da infectividade\n",
    "\n",
    "- Abaixo, alguns gráficos para visualizar a distribuição de $\\rho_i$ na população.\n",
    "\n",
    "- Tomamos uma população de 1000 indivíduos para exemplificar.\n",
    "\n",
    "- E fazemos `a` = $\\alpha = 0.2$ e `scale` = $1/\\beta = 5$ em [scipy.stats.gamma](https://docs.scipy.org/doc/scipy/reference/generated/scipy.stats.gamma.html)."
   ]
  },
  {
   "cell_type": "code",
   "execution_count": null,
   "metadata": {
    "slideshow": {
     "slide_type": "fragment"
    }
   },
   "outputs": [],
   "source": [
    "num_pop = 1000\n",
    "rho_forma = 0.2\n",
    "rho_escala = 5\n",
    "ppf_min = 0.45\n",
    "ppf_max = 0.95\n",
    "gamma_x = np.linspace(stats.gamma.ppf(ppf_min, a=rho_forma, scale=rho_escala),\n",
    "                      stats.gamma.ppf(ppf_max, a=rho_forma, scale=rho_escala),\n",
    "                      200)\n",
    "gamma_pdf = stats.gamma.pdf(gamma_x, a=rho_forma, scale=rho_escala)\n",
    "rho = stats.gamma.rvs(a=rho_forma, scale=rho_escala, size=num_pop)\n",
    "#rho = np.random.gamma(rho_forma, rho_escala, num_pop)\n",
    "#%timeit rho = np.random.gamma(shape=rho_forma, scale=rho_escala, size=num_pop)\n",
    "#%timeit rho = stats.gamma.rvs(a=rho_forma, scale=rho_escala, size=num_pop)\n",
    "print('rho_i gerado de acordo com a distribuição gama')\n",
    "print(f'- fator de forma: {rho_forma}')\n",
    "print(f'- escala: {rho_escala}')\n",
    "print(f'- valor médio: {rho_escala *rho_forma}')"
   ]
  },
  {
   "cell_type": "code",
   "execution_count": null,
   "metadata": {
    "slideshow": {
     "slide_type": "slide"
    }
   },
   "outputs": [],
   "source": [
    "plt.figure(figsize=(12,6))\n",
    "plt.plot(gamma_x, gamma_pdf)\n",
    "plt.xlabel(r'$x$', fontsize=14)\n",
    "plt.ylabel(r'$y$', fontsize=14)\n",
    "plt.title(r'função densidade de probabilidade da distribuição gamma',\n",
    "          fontsize=16)\n",
    "plt.show()"
   ]
  },
  {
   "cell_type": "markdown",
   "metadata": {
    "slideshow": {
     "slide_type": "slide"
    }
   },
   "source": [
    "### Visualizando a distribuição da infectividade\n",
    "\n",
    "- A seguir, alguns gráficos para visualizar a distribuição de $\\rho_i$ na população."
   ]
  },
  {
   "cell_type": "code",
   "execution_count": null,
   "metadata": {
    "slideshow": {
     "slide_type": "fragment"
    }
   },
   "outputs": [],
   "source": [
    "plt.figure(figsize=(12,6))\n",
    "plt.plot(rho, 'o', markersize=4, label=r'$\\rho_i$')\n",
    "plt.plot(range(num_pop), np.mean(rho)*np.ones(num_pop), '--', label='média')\n",
    "plt.xlabel(r'$i$', fontsize=14)\n",
    "plt.ylabel(r'$rho_i$', fontsize=14)\n",
    "plt.legend(fontsize=12)\n",
    "plt.title(r'Valor de $\\rho_i$ para cada um dos' + f' {num_pop} indivíduos' \n",
    "          + f' (média obtida: {np.mean(rho):.2f})', fontsize=16)\n",
    "plt.show()"
   ]
  },
  {
   "cell_type": "code",
   "execution_count": null,
   "metadata": {
    "slideshow": {
     "slide_type": "slide"
    }
   },
   "outputs": [],
   "source": [
    "plt.figure(figsize=(12,6))\n",
    "plt.plot(rho, 'o', markersize=4, label=r'$\\rho_i$')\n",
    "plt.plot(range(num_pop), np.mean(rho)*np.ones(num_pop), '--', label='média')\n",
    "plt.xlabel(r'$i$', fontsize=14)\n",
    "plt.ylabel(r'$rho_i$', fontsize=14)\n",
    "plt.yscale('log')\n",
    "plt.legend(fontsize=12)\n",
    "plt.title(r'Valor, em escala logarítmica, de $\\rho_i$ para cada um dos'\n",
    "          + f' {num_pop} indivíduos', fontsize=16)\n",
    "plt.show()"
   ]
  },
  {
   "cell_type": "code",
   "execution_count": null,
   "metadata": {
    "slideshow": {
     "slide_type": "slide"
    }
   },
   "outputs": [],
   "source": [
    "plt.figure(figsize=(12,6))\n",
    "plt.hist(rho, bins=22)\n",
    "#plt.plot(range(num_pop), np.mean(rho)*np.ones(num_pop), '--', label='média')\n",
    "plt.xlabel(r'$\\rho$', fontsize=14)\n",
    "plt.ylabel(r'#{$\\rho_i=\\rho$}', fontsize=14)\n",
    "#plt.yscale('log')\n",
    "plt.title(r'Histograma da distribuição gamma de $\\rho_i$'\n",
    "          + f'\\n(fator de forma {rho_forma:.1f} e escala {rho_escala:.1f}, com média {rho_forma*rho_escala:.2f})',\n",
    "          fontsize=16)\n",
    "plt.show()"
   ]
  },
  {
   "cell_type": "code",
   "execution_count": null,
   "metadata": {
    "slideshow": {
     "slide_type": "slide"
    }
   },
   "outputs": [],
   "source": [
    "plt.figure(figsize=(12,6))\n",
    "plt.hist(rho, bins=22)\n",
    "#plt.plot(range(num_pop), np.mean(rho)*np.ones(num_pop), '--', label='média')\n",
    "plt.xlabel(r'$\\rho$', fontsize=14)\n",
    "plt.ylabel(r'$\\ln$ #{$\\rho_i=\\rho$}', fontsize=14)\n",
    "plt.yscale('log')\n",
    "plt.title(r'Histograma da distribuição gamma de $\\rho_i$ em escala logarítmica'\n",
    "          + f'\\n(fator de forma {rho_forma:.1f} e escala {rho_escala:.1f}, com média {rho_forma*rho_escala:.2f})',\n",
    "          fontsize=16)\n",
    "plt.show()"
   ]
  },
  {
   "cell_type": "markdown",
   "metadata": {
    "slideshow": {
     "slide_type": "slide"
    }
   },
   "source": [
    "## Referências\n",
    "\n",
    "- [DeGroot MH, Schervish MJ (2012), Probability and Statistics, 4th edition, Pearson Education, Inc.](https://www.pearson.com/us/higher-education/program/De-Groot-Probability-and-Statistics-4th-Edition/PGM146802.html)."
   ]
  },
  {
   "cell_type": "markdown",
   "metadata": {
    "slideshow": {
     "slide_type": "skip"
    }
   },
   "source": [
    "<!--NAVIGATOR-->\n",
    "\n",
    "---\n",
    "[<- O cenário da cidade do Rio de Janeiro: distribuição inicial de infectados](32.00-Cenario_Rio_Distribuicao_Infectados.ipynb) | [Página Inicial](00.00-Pagina_Inicial.ipynb) "
   ]
  }
 ],
 "metadata": {
  "kernelspec": {
   "display_name": "py38",
   "language": "python",
   "name": "py38"
  },
  "language_info": {
   "codemirror_mode": {
    "name": "ipython",
    "version": 3
   },
   "file_extension": ".py",
   "mimetype": "text/x-python",
   "name": "python",
   "nbconvert_exporter": "python",
   "pygments_lexer": "ipython3",
   "version": "3.8.1"
  }
 },
 "nbformat": 4,
 "nbformat_minor": 4
}
