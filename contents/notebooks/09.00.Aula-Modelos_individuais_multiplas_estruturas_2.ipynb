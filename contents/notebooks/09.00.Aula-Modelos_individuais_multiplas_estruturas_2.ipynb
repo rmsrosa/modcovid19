{
 "cells": [
  {
   "cell_type": "markdown",
   "metadata": {
    "slideshow": {
     "slide_type": "skip"
    }
   },
   "source": [
    "<!--HEADER-->\n",
    "[*Notas sobre modelagem da epidemia de Covid-19*](https://github.com/rmsrosa/modcovid19) / [*IM-UFRJ*](https://www.im.ufrj.br)."
   ]
  },
  {
   "cell_type": "markdown",
   "metadata": {
    "slideshow": {
     "slide_type": "skip"
    }
   },
   "source": [
    "<!--BADGES-->\n",
    "<a href=\"../slides/09.00.Aula-Modelos_individuais_multiplas_estruturas_2.slides.html\"><img align=\"left\" src=\"https://img.shields.io/badge/local-slides-darkgreen\" alt=\"localslides\" title=\"Local Slides\"></a>\n",
    "&nbsp;"
   ]
  },
  {
   "cell_type": "markdown",
   "metadata": {
    "slideshow": {
     "slide_type": "skip"
    }
   },
   "source": [
    "<!--NAVIGATOR-->\n",
    "[<- Modelos individuais estocásticos com múltiplas estruturas de conexão - parte I](08.00.Aula-Modelos_individuais_multiplas_estruturas.ipynb) | [Página Inicial](00.00-Pagina_Inicial.ipynb) | [Modelos individuais estocásticos com múltiplas estruturas de conexão - parte III ->](10.00.Aula-Modelos_individuais_multiplas_estruturas_3.ipynb)\n",
    "\n",
    "---\n"
   ]
  },
  {
   "cell_type": "markdown",
   "metadata": {
    "slideshow": {
     "slide_type": "slide"
    }
   },
   "source": [
    "# Modelos individuais estocásticos com múltiplas estruturas de conexão - parte II\n",
    "\n",
    "## Objetivos\n",
    "\n",
    "- Continuar o estudo de **modelos estocásticos individuais espacialmente estruturados e com evolução temporal discreta.**\n",
    "\n",
    "- Destrinchar melhor as **estruturas dos modelos** do tipo usado pelo **Imperial College**\n",
    "\n",
    "- Também vamos **analisar o código desenvolvido até agora.**"
   ]
  },
  {
   "cell_type": "code",
   "execution_count": 1,
   "metadata": {
    "slideshow": {
     "slide_type": "skip"
    }
   },
   "outputs": [
    {
     "name": "stdout",
     "output_type": "stream",
     "text": [
      "Atualização mais recente do kernel: 28/Apr/2020\n"
     ]
    }
   ],
   "source": [
    "import datetime as dt # date and time tools\n",
    "dt_string = dt.datetime.now().strftime(\"%d/%b/%Y\")\n",
    "print(f\"Atualização mais recente do kernel: {dt_string}\")"
   ]
  },
  {
   "cell_type": "markdown",
   "metadata": {
    "slideshow": {
     "slide_type": "slide"
    }
   },
   "source": [
    "## Fontes\n",
    "\n",
    "### Fontes mencionadas\n",
    "\n",
    "- O modelo usado pelo Imperial College na análise da epidemia do Covid-19 é mencionado sem muitos detalhes no relatório:\n",
    "\n",
    "    - [Relatório de 16 de março do Imperial College](#Referências);\n",
    "\n",
    "- As principais referências sobre a modelagem que aparecem no relatório são\n",
    "\n",
    "    - o artigo [Ferguson et al (2006)](#Referências) e o seu [material suplementar](https://www.nature.com/articles/nature04795#Sec2);\n",
    "    \n",
    "    - o artigo [Ferguson et al. (2005)](#Referências) e as suas [notas suplementares](https://static-content.springer.com/esm/art%3A10.1038%2Fnature04017/MediaObjects/41586_2005_BFnature04017_MOESM1_ESM.pdf); e\n",
    "\n",
    "    - o artigo [Halloran et al (2008)](#Referências) e o seu [suplemento](https://www.pnas.org/content/suppl/2008/02/28/0706849105.DC1)."
   ]
  },
  {
   "cell_type": "markdown",
   "metadata": {
    "slideshow": {
     "slide_type": "slide"
    }
   },
   "source": [
    "### Alinhavando as fontes\n",
    "\n",
    "- O artigo do [Halloran et al (2008)](#Referências) combina resultados de três modelos semelhantes mas de grupos diferentes:\n",
    "\n",
    "    - **UW/ LANL:** University of Washington and Fred Hutchinson Cancer Research Center in Seattle and the Los Alamos National Laboratories.\n",
    "\n",
    "    - **Imperial/Pitt:** Imperial College and the University of Pittsburgh.\n",
    "    \n",
    "    - **VBI:** Virginia Bioinformatics Institute of the Virginia Polytechnical Institute and State University.\n",
    "\n",
    "- O artigo [Halloran et al (2008)](#Referências) detalha brevemente o modelo em seu [suplemento](https://www.pnas.org/content/suppl/2008/02/28/0706849105.DC1).\n",
    "\n",
    "- Menciona que mais detalhes podem ser encontrados no [material suplementar](https://www.nature.com/articles/nature04795#Sec2) do artigo [Ferguson et al. (2006)](#Referências).\n",
    "\n",
    "- Este é mais detalhado, mas ainda deixa outros detalhes para as [notas suplementares](https://static-content.springer.com/esm/art%3A10.1038%2Fnature04017/MediaObjects/41586_2005_BFnature04017_MOESM1_ESM.pdf) do artigo [Ferguson et al (2005)](#Referências).\n",
    "\n",
    "\n",
    "- Todos consideram **modelos individuais, estocásticos, estruturados espacialmente e com evolução temporal discreta**.\n",
    "\n",
    "- As diferenças estão nas estruturas espaciais (i.e. nas redes de conexões)."
   ]
  },
  {
   "cell_type": "markdown",
   "metadata": {
    "slideshow": {
     "slide_type": "slide"
    }
   },
   "source": [
    "### Em resumo\n",
    "\n",
    "- Vamos focar nas seguintes descrições da modelagem:\n",
    "\n",
    "    - Seção **Methods: Transmission Model** do [Relatório de 16 de março do Imperial College](#Referências).\n",
    "    \n",
    "    - O [suplemento](https://www.pnas.org/content/suppl/2008/02/28/0706849105.DC1) do artigo [Halloran et al (2008)](#Referências).\n",
    "    \n",
    "    - O [material suplementar](https://www.nature.com/articles/nature04795#Sec2) do artigo [Ferguson et al. (2006)](#Referências).\n",
    "    \n",
    "    - As [notas suplementares](https://static-content.springer.com/esm/art%3A10.1038%2Fnature04017/MediaObjects/41586_2005_BFnature04017_MOESM1_ESM.pdf) do artigo [Ferguson et al (2005)](#Referências)."
   ]
  },
  {
   "cell_type": "markdown",
   "metadata": {
    "slideshow": {
     "slide_type": "slide"
    }
   },
   "source": [
    "### Modelo do relatório\n",
    "\n",
    "- A seguir, uma leitura da breve descrição do modelo no [Relatório de 16 de março do Imperial College](#Referências).\n",
    "\n",
    "- São quatro partes:\n",
    "\n",
    "    - Distribuição dos indivíduos e das suas redes de contatos.\n",
    "    \n",
    "    - Processo de transmissão.\n",
    "    \n",
    "    - Parâmetros.\n",
    "    \n",
    "    - Inicialização."
   ]
  },
  {
   "cell_type": "markdown",
   "metadata": {
    "slideshow": {
     "slide_type": "slide"
    }
   },
   "source": [
    "#### Sobre a distribuição dos indivíduos e das suas redes de contatos.\n",
    "\n",
    "- **Indivíduos** residem em áreas **de acordo com** dados de **densidade populacional** de alta-resolução.\n",
    "\n",
    "- **Contatos** com outros indivíduos são separados em vários tipos:\n",
    "\n",
    "    - entre os moradores de uma mesma residência;\n",
    "\n",
    "    - nas escolas;\n",
    "\n",
    "    - nos locais de trabalho; e\n",
    "\n",
    "    - aleatoriamente na comunidade em geral.\n",
    "\n",
    "- Dados de **censo** usados para definir a distribuição dos **indivíduos por idade** (dividido por décadas).\n",
    "\n",
    "- Dados de **censo** usados para definir a distribuição do **tamanho das residências**.\n",
    "\n",
    "- Dados de **número médio do tamanho de salas de aula** e de **proporção de alunos/funcionários** foram usados para gerar dados sintético de escolas distribuídas proporcionalmente à densidade local da população.\n",
    "\n",
    "- Dados da **distribuição do tamanho (número de funcionários) dos locais de trabalho** foram usados para gerar os locais de trabalho e os dados de mobilidade foram usados para alocar esses locais de trabalho entre a população.\n",
    "\n",
    "- Os indivíduos foram designidados a cada um desses locais no ínicio das simulações."
   ]
  },
  {
   "cell_type": "markdown",
   "metadata": {
    "slideshow": {
     "slide_type": "slide"
    }
   },
   "source": [
    "#### Sobre o processo de transmissão\n",
    "\n",
    "- O **contágio** se dá através de contatos entre suscetíveis e infectados:\n",
    "\n",
    "    - entre os moradores de uma mesma residência;\n",
    "\n",
    "    - nas escolas;\n",
    "\n",
    "    - nos locais de trabalho; e\n",
    "\n",
    "    - aleatoriamente na comunidade em geral e dependendo da distância entre os indivíduos.\n",
    "\n",
    "- O **número de contatos por indivíduo na escola** é assumido como sendo o **dobro do número** de contatos em **outros locais**, para refletir as taxas de incidência em crianças observadas em pandemias anteriores de *influenza.*\n",
    "\n",
    "- Com a parametrização acima, aproximadamente um terço das transmissões ocorre dentro das residências, um terço ocorre nas escolas e no local de trabalho e o um terço restante, na comunidade em geral.\n",
    "\n",
    "- Esse padrão de contatos reproduz aqueles mencionados em pesquisas de misturas sociais."
   ]
  },
  {
   "cell_type": "markdown",
   "metadata": {
    "slideshow": {
     "slide_type": "slide"
    }
   },
   "source": [
    "#### Sobre os parâmetros\n",
    "\n",
    "- **Período de incubação** de 5,1 dias.\n",
    "\n",
    "- **Início do período de contágio:**\n",
    "\n",
    "    - a partir de 12h antes do desenvolvimento dos sintomas, no caso dos sintomáticos\n",
    "    \n",
    "    - a partir de 4,6 dias após a infecção, no caso dos assintomáticos, com um perfil temporal de infecção que resulta em uma média de 6,5 dias de tempo de geração médio (no caso dos assintomáticos, é assumido que a taxa de infecção decai com o tempo).\n",
    "\n",
    "- É assumido que os **sintomáticos são 50% mais infecciosos que os assintomáticos.**\n",
    "\n",
    "- Com base nos dados iniciais da epidemia em Wuhan, é assumido que $R_0 = 2.4$, mas valores entre $2.2$ e $2.6$ também são examinados.\n",
    "    \n",
    "- A **taxa de infecção individual** $\\tau$ é assumida variável, descrita por uma distribuição gamma com média 1 e um parâmetro de forma $\\alpha = 0.25$ (logo $k=\\alpha$, média $\\theta k = \\theta\\alpha = 1$ e parâmetro de escala inversa $\\beta = 1/\\theta = k = 0.25$).    "
   ]
  },
  {
   "cell_type": "markdown",
   "metadata": {
    "slideshow": {
     "slide_type": "slide"
    }
   },
   "source": [
    "#### Infectados iniciais\n",
    "\n",
    "- Inicialmente, é assumido um crescimento exponencial de infectados, a partir do início de janeiro de 2020.\n",
    "\n",
    "- É assumido um **tempo de duplicação** de 5 dias.\n",
    "\n",
    "- O dado inicial é **calibrado segundo os dados de óbitos** até o dia 14 de março de 2020."
   ]
  },
  {
   "cell_type": "markdown",
   "metadata": {
    "slideshow": {
     "slide_type": "slide"
    }
   },
   "source": [
    "### Modelos mencionados no artigo Halloran et al (2008)\n",
    "\n",
    "- O artigo menciona **três grupos de pesquisa.**\n",
    "\n",
    "- As **diferenças** estão nos tipos de **redes de contato** considerados:\n",
    "\n",
    "| rede | Imperial | UW | VBI |\n",
    "| --- | --- | --- | --- |\n",
    "| Home | + | + | + |\n",
    "| Work | + | + | + |\n",
    "| School | + | + | + |\n",
    "| Day care |  | + |  |\n",
    "| Play group |  | + |  |\n",
    "| College |  |  | + |\n",
    "| Shopping |  |  | + |\n",
    "| Neighborhood |  | + |  |\n",
    "| Neighborhood clusters |  | + |  |\n",
    "| Other/Community | + |  | + |\n",
    "\n",
    "- Vamos continuar focando no modelo do Imperial College"
   ]
  },
  {
   "cell_type": "markdown",
   "metadata": {
    "slideshow": {
     "slide_type": "slide"
    }
   },
   "source": [
    "### Descrição dos contatos no artigo Ferguson et al (2006)\n",
    "\n",
    "- O [material suplementar](https://www.nature.com/articles/nature04795#Sec2) é bastante extenso.\n",
    "\n",
    "- A essência foi descrita na análise do relatório do Imperial College.\n",
    "\n",
    "- Fora isso, vale ressaltar:\n",
    "\n",
    "     - A densidade populacional é proveniente de dados do [Landscan](https://landscan.ornl.gov/), com resolução inferior da ordem de $1\\,\\texttt{km}^2$.\n",
    "        \n",
    "    - Um modelo heurístico (investigar!) foi usado para gerar as idades dos indivíduos de cada residência, de forma a manter 'gaps' típicos de geração nas residências, ao mesmo tempo em que segue a distribuição de faixa etária de acordo com o tamanho da residência.\n",
    "\n",
    "    - Dados da localização, tamanho e nível escolar de cada escola, assim como os dados de densidade populacional, foram usados para alocar as escolas.\n",
    "    \n",
    "    - Cada aluno foi selecionado aleatoriamente para uma das três escolas mais próximas (*primary*) ou seis mais próximas (*secondary*)\n",
    "    \n",
    "    - Trabalhadores foram selecionados de acordo com distribuição do número de trabalhadores em relação ao tamanho (?) do local de trabalho.\n",
    "    \n",
    "    - A alocação dos trabalhadores se deu de acordo com uma distribuição da forma $f(d) = 1/(1+(d/a)^b)$, onde $a=4\\,\\texttt{km}$ e $b=3$ (parâmetros ajustados aos dados). (Nos EUA e na Tailândia, a distribuição foi outra.)\n",
    "\n",
    "    - Estou ignorando dados de viagens aérea no caso da cidade do Rio."
   ]
  },
  {
   "cell_type": "markdown",
   "metadata": {
    "slideshow": {
     "slide_type": "slide"
    }
   },
   "source": [
    "### Descrição do modelo no artigo Ferguson et al (2006)\n",
    "\n",
    "- Passos temporais de $\\Delta t = 0.25 \\,\\texttt{dias} = 6\\,\\texttt{horas}$.\n",
    "\n",
    "- A cada passo de tempo, um indivíduo suscetível tem probabilidade $1 - e^{-\\lambda_i \\Delta t}$ de ser infectado, onde $\\lambda_i$ é a taxa de risco instantâneo de infecção.\n",
    "\n",
    "- $\\lambda_i$ vem de três fontes: residência, local de trabalho e encontros aleatórios (mais detalhes nas [notas suplementares](https://static-content.springer.com/esm/art%3A10.1038%2Fnature04017/MediaObjects/41586_2005_BFnature04017_MOESM1_ESM.pdf) do artigo [Ferguson et al (2005)](#Referências)\n",
    "\n",
    "- O contatos aleatórios dependem da distância através do uso de \"modelos de gravidade\" (?), representando contatos aleatórios associados a deslocamentos e viagens.\n",
    "    \n",
    "- O *kernel* de decaimento espacial tem a mesma forma que a função de alocação de trabalhadores: $f(d) = 1/(1+(d/a)^b)$, onde $a=4\\,\\texttt{km}$ e $b=3$.\n",
    "    "
   ]
  },
  {
   "cell_type": "markdown",
   "metadata": {
    "slideshow": {
     "slide_type": "slide"
    }
   },
   "source": [
    "### Descrição do modelo no artigo Ferguson et al (2005)\n",
    "\n",
    "- As [notas suplementares](https://static-content.springer.com/esm/art%3A10.1038%2Fnature04017/MediaObjects/41586_2005_BFnature04017_MOESM1_ESM.pdf) do [Ferguson et al (2005)](#Referências) são as mais detalhadas.\n",
    "\n",
    "- A **região geográfica** é um domínio $\\Omega\\subset \\mathbb{R}^2$.\n",
    "\n",
    "- A **população total** é um inteiro $N$.\n",
    "\n",
    "- Há um determinado número de **residências**.\n",
    "\n",
    "- Há quatro tipos de **lugares** (*places*), $n_p = 1, 2, 3, 4$, com os três primeiros representando tipos de **escola**, segundo a escolarização, e o último, o **local de trabalho**.\n",
    "\n",
    "- Um **indivíduo** $i\\in \\{1, \\ldots, N\\}$ é representado por\n",
    "\n",
    "    - sua **idade** $a_i$;\n",
    "    \n",
    "    - sua **residência** $h_i$ (determinada pela função de densidade populacional e dados de censo da pirâmide etária);\n",
    "\n",
    "    - seu **local de estudo/trabalho** $l_i^j$;\n",
    "    \n",
    "    - o seu **estado** $I_i$, de acordo com $I_i = 1$, se infectado (ou contagioso?), ou $I_i=0$, caso contrário.\n",
    "    \n",
    "    - o **grau da infecção** $C_i$, de acordo com $C_i=1$, se severa, ou $C_i=0$, caso contrário. A cada nova infecção, o indivíduo recém-infectado é aleatoriamente selecionado se $C_i=0$ ou $1$, com 50% de chance para cada grau.\n",
    "    \n",
    "    - o **instante de infecção** $\\tau_i$, indicando o instante em que o indivíduo $i$ se tornou infectado (contagioso?)\n",
    "    \n",
    "    - a **força de infecção** $\\lambda_i$, detalhada mais abaixo.\n",
    "    \n",
    "- Quantidades derivadas:\n",
    "\n",
    "    - $n_i$ é o **número de pessoas na residência** do indivíduo $i$;\n",
    "    \n",
    "    - $m_i^j$ é o **número de pessoas no mesmo local** do indivíduo $i$."
   ]
  },
  {
   "cell_type": "markdown",
   "metadata": {
    "slideshow": {
     "slide_type": "slide"
    }
   },
   "source": [
    "### Força de infecção\n",
    "\n",
    "A **força de infecção** $\\lambda_i$ de cada indivíduo é dada por\n",
    "\n",
    "$$ \n",
    "  \\begin{align*}\n",
    "    \\lambda_i & = \\frac{1}{n_i^\\alpha}\\sum_{k; h_k = h_i}  I_k \\beta_h\\kappa(t-\\tau_k)\\rho_k(1 + C_k (\\omega-1)) \\quad \\textrm{(na residência)} \\\\\n",
    "    & \\quad + \\sum_{j, k; l_k^j = l_i^j} \\frac{I_k \\beta_p^j\\kappa(t-\\tau_k)\\rho_k(1 + C_k(\\omega\\psi_p^j(t-\\tau_\\kappa)-1)}{m_i^j} \\quad \\textrm{(na local de escola/trabalho)} \\\\\n",
    "    & \\quad + \\frac{\\sum_k I_k\\zeta(a_i)\\beta_c\\kappa(t-\\tau_k)f(d_{i,k})\\rho_k(1 + C_k (\\omega-1))}{\\sum_k f(d_{i,k})} \\quad \\textrm{(aleatoriamente na comunidade)},\n",
    "  \\end{align*}\n",
    "$$\n",
    "\n",
    "onde\n",
    "\n",
    "- $i, k$ são índices de indivíduos;\n",
    "\n",
    "- $j$ é um índice de local;\n",
    "\n",
    "- $\\beta_k$, $\\beta_p^j$ e $\\beta_c$ são coeficientes de transmissão em **residências**, **locais de trabalho/escola** e na **comunidade**;\n",
    "\n",
    "- $\\alpha=0.8$ é uma potência para escalonar em função do tamanho da residência;\n",
    "\n",
    "- $\\omega=2$ é um fator de contágio para infecções severas, em relação a não-severas.\n",
    "\n",
    "- $\\psi_p^j = 0.1, 0.2, 0.25, 0.5$, para $j=1,2,3,4$ e $s>0.25 \\;\\texttt{dias}$, e $\\psi_p^j=0$, caso contrário, são os fatores de taxa de contato, em cada tipo de local, para infecções severas, como função do tempo $s=t-\\tau$ desde o início do contágio.\n",
    "\n",
    "- $f(d_{i,k})$ é o núcleo de distância e $d_{i,k}$ é a distância euclidiana entre os indivíduos $i$ e $k$.\n",
    "\n",
    "- $\\zeta(a_i)$ é a taxa relativa de contato em relação à mobilidade de um indivíduo com idade $a_i$.\n",
    "\n",
    "- $\\rho_k = 1$ é a taxa relativa de infecção do indivíduo $k$. (Mais geralmente $\\rho_k$ pode ser dado por uma distribuição $\\gamma$ com média $1$ e fator de forma $\\alpha=0.2$.)"
   ]
  },
  {
   "cell_type": "markdown",
   "metadata": {
    "slideshow": {
     "slide_type": "slide"
    }
   },
   "source": [
    "### Parâmetros\n",
    "\n",
    "- Almejando $R_0 = 1.8$ total.\n",
    "\n",
    "- $\\beta_h = 0.4/\\texttt{dia}$, correspondendo a $R_0 = 0.6$ (nas residências);\n",
    "\n",
    "- Particiona os coeficientes de transmissão fora das residências em partes iguais em relação aos valores correspodentes de $R_0$:\n",
    "\n",
    "    - $\\beta_p^j = 0.94/\\texttt{dia}$ (nas escolas - $j=1,2,3$);\n",
    "    \n",
    "    - $\\beta_4^j= 0.47/\\texttt{dia}$ (no trabalho);\n",
    "    \n",
    "    - $\\beta_c = 0.075/\\texttt{dia}$ (na comunidade em geral)."
   ]
  },
  {
   "cell_type": "markdown",
   "metadata": {
    "slideshow": {
     "slide_type": "slide"
    }
   },
   "source": [
    "## Dados\n",
    "\n",
    "- [LandScan: ](Landscan.ornl.gov)\n",
    "    - estimativa de população a cada quilômetro quadrado.\n",
    "    - aberto livremente apenas para instituições educacionais (professores, alunos ou funcionários);\n",
    "    - precisa de e-mail institucional;\n",
    "    - após a inscrição online, demora entre 2 e 3 dias para a liberação (ou não);\n",
    "    - coloquei como \"sim\" na pergunta sobre se desejo publicar artigo com os dados (não que eu tenha isso em mente, mas pode ser que aconteça);\n",
    "    - justifiquei escrevendo \"*for constructing a population network for individual-based modeling of the covid-19 epidemics in Brazil, in particular in the city and in the sate of Rio de Janeiro.*\"\n",
    "- [IBGE - Rio de Janeiro: ](https://cidades.ibge.gov.br/brasil/rj/rio-de-janeiro/panorama) \n",
    "    - densidade demográfica por município;\n",
    "    - pirâmide etária;\n",
    "    - alunos por nível escolar;\n",
    "    - emprego."
   ]
  },
  {
   "cell_type": "markdown",
   "metadata": {
    "slideshow": {
     "slide_type": "slide"
    }
   },
   "source": [
    "# Referências\n",
    "\n",
    "- [Imperial College COVID-19 Response Team (16/mar/2020), Impact of non-pharmaceutical interventions (NPIs) to reduce COVID- 19 mortality and healthcare demand, 16 de março de 2020 (Free Download).](https://www.imperial.ac.uk/media/imperial-college/medicine/sph/ide/gida-fellowships/Imperial-College-COVID19-NPI-modelling-16-03-2020.pdf)\n",
    "\n",
    "- [Ferguson, N. M. et al. (2005), Strategies for containing an emerging influenza pandemic\n",
    "in Southeast Asia, Nature 437, 209-214.](https://pubmed.ncbi.nlm.nih.gov/16079797/) (Link para download [aqui](http://citeseerx.ist.psu.edu/viewdoc/download?doi=10.1.1.452.235&rep=rep1&type=pdf) disponibilizado por [CiteSeerX](http://citeseerx.ist.psu.edu/); veja, também, as [notas suplementares](https://static-content.springer.com/esm/art%3A10.1038%2Fnature04017/MediaObjects/41586_2005_BFnature04017_MOESM1_ESM.pdf).)\n",
    "\n",
    "\n",
    "- [Ferguson NM, Cummings DAT, Fraser C, Cajka JC, Cooley PC, Burke DS (2006). Strategies for mitigating an influenza pandemic. Nature 442 (7101), 448–52 (Free Download)](https://pubmed.ncbi.nlm.nih.gov/16642006/); veja, também, as [notas suplementares](https://www.nature.com/articles/nature04795#Sec2). \n",
    "\n",
    "- [Halloran ME, Ferguson NM, Eubank S, et al (2008), Modeling targeted layered containment of an influenza pandemic in the United States. Proc Natl Acad Sci U S A 105 (12), 4639–44 (Free Download)](https://pubmed.ncbi.nlm.nih.gov/18332436/); veja, também, o [suplemento do artigo](https://www.pnas.org/content/suppl/2008/02/28/0706849105.DC1).\n",
    "\n",
    "- [Landscan data](https://landscan.ornl.gov/): dados da distribuição global da população, com resolução da ordem de $1\\,km^2$ ($30''\\times 30''$).\n",
    "\n",
    "- [M. J. Keeling & P. Rohani (2007), Modeling Infectious Diseases in Humans and Animals, Princeton University Press.](https://press.princeton.edu/books/hardcover/9780691116174/modeling-infectious-diseases-in-humans-and-animals)\n",
    "\n",
    "- [I. Z. Kiss, J. Miller & P. L. Simon (2017), Mathematics of Epidemics on Networks: From Exact to Approximate Models, Springer-Verlag.](https://www.springer.com/br/book/9783319508047)\n",
    "\n",
    "Veja a página [Imperial College - Covid 19](https://www.imperial.ac.uk/mrc-global-infectious-disease-analysis/covid-19/) para mais relatórios, publicações e outras informações do Imperial College."
   ]
  },
  {
   "cell_type": "markdown",
   "metadata": {
    "slideshow": {
     "slide_type": "skip"
    }
   },
   "source": [
    "<!--NAVIGATOR-->\n",
    "\n",
    "---\n",
    "[<- Modelos individuais estocásticos com múltiplas estruturas de conexão - parte I](08.00.Aula-Modelos_individuais_multiplas_estruturas.ipynb) | [Página Inicial](00.00-Pagina_Inicial.ipynb) | [Modelos individuais estocásticos com múltiplas estruturas de conexão - parte III ->](10.00.Aula-Modelos_individuais_multiplas_estruturas_3.ipynb)"
   ]
  }
 ],
 "metadata": {
  "kernelspec": {
   "display_name": "py38",
   "language": "python",
   "name": "py38"
  },
  "language_info": {
   "codemirror_mode": {
    "name": "ipython",
    "version": 3
   },
   "file_extension": ".py",
   "mimetype": "text/x-python",
   "name": "python",
   "nbconvert_exporter": "python",
   "pygments_lexer": "ipython3",
   "version": "3.8.1"
  }
 },
 "nbformat": 4,
 "nbformat_minor": 4
}
