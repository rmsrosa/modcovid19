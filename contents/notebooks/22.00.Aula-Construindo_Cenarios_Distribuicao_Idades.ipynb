{
 "cells": [
  {
   "cell_type": "markdown",
   "metadata": {
    "slideshow": {
     "slide_type": "skip"
    }
   },
   "source": [
    "<!--HEADER-->\n",
    "[*Notas sobre modelagem da epidemia de Covid-19*](https://github.com/rmsrosa/modcovid19) / [*IM-UFRJ*](https://www.im.ufrj.br)."
   ]
  },
  {
   "cell_type": "markdown",
   "metadata": {
    "slideshow": {
     "slide_type": "skip"
    }
   },
   "source": [
    "<!--BADGES-->\n",
    "<a href=\"../slides/17.00.Aula-Construindo_Cenarios_e_Pop_Multi_350_residencial.slides.html\" target=\"_blank\"><img align=\"left\" src=\"https://img.shields.io/badge/local-slides-darkgreen\" alt=\"localslides\" title=\"Local Slides\"></a>\n",
    "&nbsp;"
   ]
  },
  {
   "cell_type": "markdown",
   "metadata": {
    "slideshow": {
     "slide_type": "skip"
    }
   },
   "source": [
    "<!--NAVIGATOR-->\n",
    "[<- Modelos individuais - reformulação da implementação](16.00.Aula-Modelos_individuais_reformulacao.ipynb) | [Página Inicial](00.00-Pagina_Inicial.ipynb) | [O cenário de múltiplos do Pop350: redes sociais ->](18.00.Aula-Construindo_Cenarios_e_Pop_Multi_350_social.ipynb)\n",
    "\n",
    "---\n"
   ]
  },
  {
   "cell_type": "markdown",
   "metadata": {
    "slideshow": {
     "slide_type": "slide"
    }
   },
   "source": [
    "# Construção de cenários: definindo as idades\n",
    "\n",
    "- O objetivo, aqui, é definir as idades de cada indivíduo da população.\n",
    "\n",
    "- Isso será feito após a alocação dos indivíduos em residências.\n",
    "\n",
    "- Como exemplo, vamos usar a rede de residências de uma fração da população do Rio de Janeiro."
   ]
  },
  {
   "cell_type": "code",
   "execution_count": 1,
   "metadata": {
    "slideshow": {
     "slide_type": "skip"
    }
   },
   "outputs": [],
   "source": [
    "import datetime # date and time tools\n",
    "\n",
    "import os, sys\n",
    "\n",
    "import math\n",
    "\n",
    "import random\n",
    "\n",
    "import numpy as np\n",
    "from scipy.stats import zipf\n",
    "\n",
    "import networkx as nx\n",
    "\n",
    "from numba import jit, njit, prange\n",
    "from numba.typed import List\n",
    "import threading # for multi-threading with numba.jit\n",
    "\n",
    "import matplotlib.pyplot as plt\n",
    "import seaborn as sns\n",
    "\n",
    "import io, base64\n",
    "from IPython.display import Image, HTML"
   ]
  },
  {
   "cell_type": "code",
   "execution_count": 2,
   "metadata": {
    "slideshow": {
     "slide_type": "skip"
    }
   },
   "outputs": [],
   "source": [
    "sys.path.insert(0, os.path.abspath(os.path.join(os.getcwd(), '..')))\n",
    "import episiming"
   ]
  },
  {
   "cell_type": "code",
   "execution_count": 3,
   "metadata": {
    "slideshow": {
     "slide_type": "skip"
    }
   },
   "outputs": [],
   "source": [
    "sns.set_style(\"darkgrid\")"
   ]
  },
  {
   "cell_type": "code",
   "execution_count": 4,
   "metadata": {
    "slideshow": {
     "slide_type": "skip"
    }
   },
   "outputs": [
    {
     "name": "stdout",
     "output_type": "stream",
     "text": [
      "Atualização mais recente do kernel: 07/Jun/2020\n"
     ]
    }
   ],
   "source": [
    "dt_string = datetime.datetime.now().strftime(\"%d/%b/%Y\")\n",
    "print(f\"Atualização mais recente do kernel: {dt_string}\")"
   ]
  },
  {
   "cell_type": "markdown",
   "metadata": {},
   "source": [
    "## Distribuição espacial da população da cidade do Rio de Janeiro\n",
    "\n",
    "### Carregando os dados\n",
    "\n",
    "Os dados populacionais por quilômetro quadrado da cidade do Rio de Janeiro foram obtidos pelo [Landscan](https://landscan.ornl.gov).\n",
    "\n",
    "Como feito anteriormente, após carregarmos os dados, zeramos os valores das células com -1, que indicam falta de informação."
   ]
  },
  {
   "cell_type": "code",
   "execution_count": 5,
   "metadata": {},
   "outputs": [],
   "source": [
    "landscan_rio = np.maximum(np.load('../input/dados_rio/landscan_rio.npy').astype(int), 0)"
   ]
  },
  {
   "cell_type": "markdown",
   "metadata": {},
   "source": [
    "### Reduzindo a população para testes\n",
    "\n",
    "Na montagem do cenário, com o objetivo de realizar testes mais rápidos, com populações menores, dividimos a população de cada bloco por um determinado fator.\n",
    "\n",
    "Essa divisão nos dá números em ponto flutuante, que então truncamos para a sua parte inteira."
   ]
  },
  {
   "cell_type": "code",
   "execution_count": 6,
   "metadata": {},
   "outputs": [
    {
     "name": "stdout",
     "output_type": "stream",
     "text": [
      "População: 67973\n"
     ]
    }
   ],
   "source": [
    "pop_por_bloco = (landscan_rio/100).astype(int)\n",
    "num_pop = pop_por_bloco.sum()\n",
    "print(f'População: {num_pop}')"
   ]
  },
  {
   "cell_type": "markdown",
   "metadata": {},
   "source": [
    "### Visualização da distribuição populacional em escala logarítmica"
   ]
  },
  {
   "cell_type": "code",
   "execution_count": 7,
   "metadata": {},
   "outputs": [
    {
     "data": {
      "image/png": "[encoded data removed]",
      "text/plain": [
       "<Figure size 1080x504 with 1 Axes>"
      ]
     },
     "metadata": {},
     "output_type": "display_data"
    }
   ],
   "source": [
    "plt.figure(figsize=(15,7))\n",
    "plt.imshow(np.log(1 + landscan_rio), cmap='bwr', interpolation='nearest')\n",
    "plt.grid(False)\n",
    "plt.title(f'Distribuição da população de {int(landscan_rio.sum())} indivíduos', fontsize=16)\n",
    "plt.show()"
   ]
  },
  {
   "cell_type": "markdown",
   "metadata": {},
   "source": [
    "### Censo residencial\n",
    "\n",
    "A distribuição da população em residências é feita segundo um censo com a porcentagem de residências por número de residentes:"
   ]
  },
  {
   "cell_type": "code",
   "execution_count": 8,
   "metadata": {},
   "outputs": [],
   "source": [
    "censo_residencial = np.array([.21, .26, .20, .17, .08, .04, .02, 0.02])"
   ]
  },
  {
   "cell_type": "markdown",
   "metadata": {},
   "source": [
    "### Distribuindo e alocando os indivíduos e as suas residências"
   ]
  },
  {
   "cell_type": "code",
   "execution_count": 9,
   "metadata": {},
   "outputs": [
    {
     "name": "stdout",
     "output_type": "stream",
     "text": [
      "CPU times: user 823 ms, sys: 15.4 ms, total: 838 ms\n",
      "Wall time: 850 ms\n"
     ]
    }
   ],
   "source": [
    "%%time\n",
    "pos_residencias, pos_individuos, res_individuos, pop_blocos_indices \\\n",
    "    = episiming.cenarios.aloca_residencias_e_individuos(pop_por_bloco, censo_residencial)"
   ]
  },
  {
   "cell_type": "markdown",
   "metadata": {},
   "source": [
    "### Distribuição por tamanho de residência"
   ]
  },
  {
   "cell_type": "code",
   "execution_count": 10,
   "metadata": {},
   "outputs": [],
   "source": [
    "num_tam_res = len(censo_residencial)\n",
    "distrib_tam_por_res = np.array([len(res_individuos[k]) for k in range(len(res_individuos))])\n",
    "distrib_res = np.array([len(distrib_tam_por_res[distrib_tam_por_res == j]) for j in range(1,num_tam_res+1)])"
   ]
  },
  {
   "cell_type": "code",
   "execution_count": 11,
   "metadata": {},
   "outputs": [
    {
     "data": {
      "image/png": "[encoded data removed]",
      "text/plain": [
       "<Figure size 864x432 with 1 Axes>"
      ]
     },
     "metadata": {},
     "output_type": "display_data"
    }
   ],
   "source": [
    "plt.figure(figsize=(12,6))\n",
    "bar_width = 0.4\n",
    "r1 = [j for j in range(1,num_tam_res+1)]\n",
    "r2 = [j + 1.1*bar_width for j in range(1,num_tam_res+1)]\n",
    "plt.bar(r1, censo_residencial, width=bar_width, label='censo')\n",
    "plt.bar(r2, distrib_res/num_pop, width=bar_width, label=f'distribuição obtida')\n",
    "plt.xlabel('número de moradores da residência', fontsize=14)\n",
    "plt.ylabel('densidade populacional', fontsize=14)\n",
    "plt.legend(fontsize=12)\n",
    "plt.title(f'Densidade de distribuição populacional por tamanho de residência para {num_pop} indivíduos',\n",
    "          fontsize=16)\n",
    "plt.show()  "
   ]
  },
  {
   "cell_type": "markdown",
   "metadata": {},
   "source": [
    "## Pirâmide etária do rio de Janeiro\n",
    "\n",
    "- Como as pirâmides etárias do Rio de Janeiro e do Brasil são razoavelmente diferentes, vamos trabalhar com os dados do Rio.\n",
    "\n",
    "- Inicialmente, consideramos a pirâmide populacional da cidade do Rio de Janeiro disponível na [Tabela 6407 do IBGE - População residente, por sexo e grupo de idade](https://sidra.ibge.gov.br/tabela/6407#resultado), que infelizemente não diferencia faixas acima de 65 anos:\n",
    "\n",
    "\n",
    "| Total | 100,0 |\n",
    "| --- | --- |\n",
    "| 0 a 4 anos | 9,4 |\n",
    "| 5 a 9 anos | 11,9 |\n",
    "| 10 a 13 anos | 13,2 |\n",
    "| 14 a 17 anos | 15,5 |\n",
    "| 18 e 19 anos | 14,2 |\n",
    "| 20 a 24 anos | 14,0 |\n",
    "| 25 a 29 | 22,0 |\n",
    "| 30 a 39 anos | 15,5 |\n",
    "| 40 a 49 anos | 14,2 |\n",
    "| 50 a 59 anos | 14,0 |\n",
    "| 60 a 64 anos | 14,0 |\n",
    "| 65 ou mais | 22,0 |\n",
    "\n"
   ]
  },
  {
   "cell_type": "markdown",
   "metadata": {},
   "source": [
    "###  Tabelando os dados disponíveis\n",
    "\n",
    "Primeiramente montamos duas listas, umas com as faixas etárias e outra com a fração da população em cada faixa."
   ]
  },
  {
   "cell_type": "code",
   "execution_count": 12,
   "metadata": {},
   "outputs": [
    {
     "name": "stdout",
     "output_type": "stream",
     "text": [
      "Conferindo a soma das frações dos grupos de idades: 1.0\n"
     ]
    }
   ],
   "source": [
    "idades_grupos = np.array([0, 5, 10, 14, 18, 20, 25, 30, 40, 50, 60, 65, 100])\n",
    "idades_fracoes_grupos = np.array([0.047, 0.046, 0.043, 0.049, 0.027, 0.065, 0.067, 0.155, 0.142,\n",
    "                                  0.140, 0.064, 0.155])\n",
    "print(f'Conferindo a soma das frações dos grupos de idades: {idades_fracoes_grupos.sum()}')"
   ]
  },
  {
   "cell_type": "code",
   "execution_count": 13,
   "metadata": {},
   "outputs": [
    {
     "data": {
      "image/png": "[encoded data removed]",
      "text/plain": [
       "<Figure size 864x432 with 1 Axes>"
      ]
     },
     "metadata": {},
     "output_type": "display_data"
    }
   ],
   "source": [
    "plt.figure(figsize=(12,6))\n",
    "bar_width = [idades_grupos[j+1] - idades_grupos[j] - 1 for j in range(len(idades_grupos)-1)]\n",
    "plt.bar(idades_grupos[:-1], idades_fracoes_grupos, width=bar_width, align='edge')\n",
    "plt.xticks(idades_grupos)\n",
    "plt.xlabel('idade', fontsize=14)\n",
    "plt.ylabel('fração da população', fontsize=14)\n",
    "plt.title('Fração da população em função idade', fontsize=16)\n",
    "plt.show()"
   ]
  },
  {
   "cell_type": "markdown",
   "metadata": {},
   "source": [
    "### Interpolando e extrapolando os dados\n",
    "\n",
    "Agora, interpolamos os dados para ter frações para cada idade na faixas acima e extrapolamos no caso da última faixa.\n",
    "\n",
    "Vou fazer uma interpolação/extrapolação simples, de maneira constante por partes, mas podemos melhorar isso, principalmente usando o número de nascidos na faixa de 0 a 1 ano e frações para idades maiores."
   ]
  },
  {
   "cell_type": "code",
   "execution_count": 14,
   "metadata": {},
   "outputs": [
    {
     "name": "stdout",
     "output_type": "stream",
     "text": [
      "1.0000000000000002\n"
     ]
    }
   ],
   "source": [
    "idade = 0\n",
    "idades_fracoes = list()\n",
    "for j in range(len(idades_grupos)-1):\n",
    "    idades_fracoes += (idades_grupos[j+1] - idades_grupos[j]) \\\n",
    "        * [idades_fracoes_grupos[j]/(idades_grupos[j+1]-idades_grupos[j])]\n",
    "\n",
    "idades_fracoes = np.array(idades_fracoes)\n",
    "print(idades_fracoes.sum())"
   ]
  },
  {
   "cell_type": "code",
   "execution_count": 15,
   "metadata": {},
   "outputs": [
    {
     "data": {
      "image/png": "[encoded data removed]",
      "text/plain": [
       "<Figure size 864x360 with 1 Axes>"
      ]
     },
     "metadata": {},
     "output_type": "display_data"
    }
   ],
   "source": [
    "plt.figure(figsize=(12,5))\n",
    "plt.bar(range(len(idades_fracoes)), idades_fracoes, width=0.95, align='edge')\n",
    "plt.xlabel('idade', fontsize=14)\n",
    "plt.ylabel('fração da população', fontsize=14)\n",
    "plt.title('Fração da população em função idade', fontsize=16)\n",
    "plt.show()"
   ]
  },
  {
   "cell_type": "markdown",
   "metadata": {},
   "source": [
    "## Distribuição das idades dos indivíduos\n",
    "\n",
    "- A estratégia é usar os dados da pirâmide populacional do Rio de Janeiro como pesos nas escolhas das idades dos indivíduos.\n",
    "\n",
    "- Vamos fazer por partes, percorrendo as residências por tamanho e sorteando as idades dos residentes;\n",
    "\n",
    "    - Nas casas com um único indivíduo, sorteamos um adulto (20 anos para cima), com pesos proporcionais as faixas de 20 pra cima.\n",
    "    \n",
    "    - Nas casas com dois indivíduos, sorteamos 90% deles com dois adultos e 10% deles com um adulto e uma criança\n",
    "    \n",
    "    - Nas casas com mais de dois indivíduos, sorteamos dois adultos e o restante de qualquer idade\n",
    "    \n",
    "    - A cada passo, atualizamos a população restante para obter novos pesos."
   ]
  },
  {
   "cell_type": "markdown",
   "metadata": {},
   "source": [
    "### Distribuindo as idades"
   ]
  },
  {
   "cell_type": "markdown",
   "metadata": {},
   "source": [
    "- Primeiro, consideramos a população em idade ativa.\n",
    "\n",
    "- De acordo com o IBGE, a população em idade ativa é formada pelos indivíduos com 16 ou mais anos de idade.\n",
    "\n",
    "- Segundo, consideramos a parte economicamente ativa, que são os, de fato, trabalhando de alguma forma. Nesse caso:\n",
    "\n",
    "    - Boa parte dos que têm até 17 ou 18 anos ainda está no ensino médio.\n",
    "\n",
    "    - Uma certa parte dos que têm em torno de vinte anos está na faculdade.\n",
    "    \n",
    "    - Boa parte dos que têm 60 anos ou mais está aposentada.\n",
    "    \n",
    "    - Uma parte razoável dos outros está desocupada.\n",
    "    \n",
    "\n",
    "- Na falta de dados concretos, vou assumir certas frações das populações dessas idades como estando economicamente ativas, para serem alocadas nos locais de trabalho."
   ]
  },
  {
   "cell_type": "markdown",
   "metadata": {},
   "source": [
    "### Separa as residências por tamanho"
   ]
  },
  {
   "cell_type": "code",
   "execution_count": 16,
   "metadata": {},
   "outputs": [
    {
     "name": "stdout",
     "output_type": "stream",
     "text": [
      "CPU times: user 387 ms, sys: 2.44 ms, total: 390 ms\n",
      "Wall time: 390 ms\n"
     ]
    }
   ],
   "source": [
    "%%time\n",
    "res_indices = range(len(res_individuos))\n",
    "res_1 = [r for r in res_individuos if len(r) == 1]\n",
    "res_2 = [r for r in res_individuos if len(r) == 2]\n",
    "res_2b = random.sample(res_2, k=int(0.1*len(res_2)))\n",
    "res_2a = [r for r in res_2 if r not in res_2b]\n",
    "res_3 = [r for r in res_individuos if len(r) >= 3]"
   ]
  },
  {
   "cell_type": "markdown",
   "metadata": {},
   "source": [
    "### Separa a piramide populacional em crianças/jovens e adultos\n",
    "\n",
    "As distribuições são apenas para definir os pesos para as escolhas das idades, não sendo estritamente necessário transformá-los em inteiros cuja soma dê exatamente a população total."
   ]
  },
  {
   "cell_type": "code",
   "execution_count": 17,
   "metadata": {},
   "outputs": [],
   "source": [
    "idades = list(range(len(idades_fracoes)))\n",
    "\n",
    "distrib_idades_adultos = num_pop*idades_fracoes\n",
    "distrib_idades_adultos[:20] = 0\n",
    "\n",
    "distrib_idades_menores = num_pop*idades_fracoes\n",
    "distrib_idades_menores[20:] = 0"
   ]
  },
  {
   "cell_type": "code",
   "execution_count": 18,
   "metadata": {},
   "outputs": [
    {
     "name": "stdout",
     "output_type": "stream",
     "text": [
      "67972.99999999999\n",
      "67973\n"
     ]
    }
   ],
   "source": [
    "print(distrib_idades_adultos.sum() + distrib_idades_menores.sum())\n",
    "print(num_pop)"
   ]
  },
  {
   "cell_type": "code",
   "execution_count": 19,
   "metadata": {},
   "outputs": [
    {
     "data": {
      "image/png": "[encoded data removed]",
      "text/plain": [
       "<Figure size 864x360 with 1 Axes>"
      ]
     },
     "metadata": {},
     "output_type": "display_data"
    }
   ],
   "source": [
    "plt.figure(figsize=(12,5))\n",
    "#plt.bar(range(len(idades_fracoes)), num_pop*idades_fracoes, width=0.95, align='edge')\n",
    "#plt.plot(range(len(idades_fracoes)),num_pop*idades_fracoes, 'r')\n",
    "plt.bar(range(len(distrib_idades_menores)), distrib_idades_menores, width=0.9, align='edge', label='menores')\n",
    "plt.bar(range(len(distrib_idades_adultos)), distrib_idades_adultos, width=0.9, align='edge', label='adultos')\n",
    "plt.xlabel('idade', fontsize=14)\n",
    "plt.ylabel('população', fontsize=14)\n",
    "plt.title('Meta para a irâmide populacional', fontsize=16)\n",
    "plt.legend(fontsize=12)\n",
    "plt.show()"
   ]
  },
  {
   "cell_type": "markdown",
   "metadata": {},
   "source": [
    "### Inicializa a lista de idades dos indivíduos"
   ]
  },
  {
   "cell_type": "code",
   "execution_count": 20,
   "metadata": {},
   "outputs": [],
   "source": [
    "pop_idades = np.zeros(num_pop).astype(int)\n",
    "n = 0"
   ]
  },
  {
   "cell_type": "markdown",
   "metadata": {},
   "source": [
    "### Define a idade dos adultos morando sozinhos\n",
    "\n",
    "Colocamos um adulto nas residências que contém apenas um indivíduo."
   ]
  },
  {
   "cell_type": "code",
   "execution_count": 21,
   "metadata": {},
   "outputs": [
    {
     "name": "stdout",
     "output_type": "stream",
     "text": [
      "14872\n",
      "CPU times: user 62.4 ms, sys: 1.84 ms, total: 64.3 ms\n",
      "Wall time: 63.9 ms\n"
     ]
    }
   ],
   "source": [
    "%%time\n",
    "random.seed(17000000)\n",
    "\n",
    "ind_idades = random.choices(idades, distrib_idades_adultos, k=len(res_1))\n",
    "for j in range(len(res_1)):\n",
    "    pop_idades[res_1[j]] = ind_idades[j]\n",
    "    distrib_idades_adultos[ind_idades[j]] -= 1\n",
    "n += len(res_1)    \n",
    "print(n)"
   ]
  },
  {
   "cell_type": "code",
   "execution_count": 22,
   "metadata": {},
   "outputs": [
    {
     "name": "stdout",
     "output_type": "stream",
     "text": [
      "CPU times: user 4 µs, sys: 1e+03 ns, total: 5 µs\n",
      "Wall time: 9.06 µs\n"
     ]
    }
   ],
   "source": [
    "%%time\n",
    "\n",
    "#for r in res_1:\n",
    "#    ind_idade = random.choices(idades, distrib_idades_adultos, k=1)[0]\n",
    "#    pop_idades[r[0]] = ind_idade\n",
    "#    distrib_idades_adultos[ind_idade] -= 1\n",
    "#    n += 1"
   ]
  },
  {
   "cell_type": "markdown",
   "metadata": {},
   "source": [
    "### Define a idade do único adulto em residências com um adulto e um menor"
   ]
  },
  {
   "cell_type": "code",
   "execution_count": 23,
   "metadata": {},
   "outputs": [
    {
     "name": "stdout",
     "output_type": "stream",
     "text": [
      "15766\n",
      "CPU times: user 5.14 ms, sys: 144 µs, total: 5.28 ms\n",
      "Wall time: 5.34 ms\n"
     ]
    }
   ],
   "source": [
    "%%time\n",
    "random.seed(27000000)\n",
    "\n",
    "ind_idades = random.choices(idades, distrib_idades_adultos, k=len(res_2b))\n",
    "for j in range(len(res_2b)):\n",
    "    pop_idades[res_2b[j]] = ind_idades[j]\n",
    "    distrib_idades_adultos[ind_idades[j]] -= 1\n",
    "n += len(res_2b)\n",
    "print(n)"
   ]
  },
  {
   "cell_type": "code",
   "execution_count": 24,
   "metadata": {},
   "outputs": [
    {
     "name": "stdout",
     "output_type": "stream",
     "text": [
      "CPU times: user 6 µs, sys: 1 µs, total: 7 µs\n",
      "Wall time: 13.1 µs\n"
     ]
    }
   ],
   "source": [
    "%%time\n",
    "#random.seed(27000000)\n",
    "#for r in res_2b:\n",
    "#    ind_idade = random.choices(idades, distrib_idades_adultos, k=1)[0]\n",
    "#    pop_idades[r[0]] = ind_idade\n",
    "#    distrib_idades_adultos[ind_idade] -= 1\n",
    "#    n += 1"
   ]
  },
  {
   "cell_type": "markdown",
   "metadata": {},
   "source": [
    "### Define a idade de dois adultos nas outras residências com dois indivíduos\n",
    "\n",
    "- Nas residêcias com apenas dois indivíduos, já colocamos, anteriormente, um adulto nas residências com uma adulto e um menor. Agora, colocamos dois adultos no restante das residências com dois indivíduos."
   ]
  },
  {
   "cell_type": "code",
   "execution_count": 25,
   "metadata": {},
   "outputs": [
    {
     "name": "stdout",
     "output_type": "stream",
     "text": [
      "Alocados até o momento: 31866\n",
      "CPU times: user 43.5 ms, sys: 2.07 ms, total: 45.6 ms\n",
      "Wall time: 46.9 ms\n"
     ]
    }
   ],
   "source": [
    "%%time\n",
    "len_res_2a = len(res_2a)\n",
    "ind_idades = random.choices(idades, distrib_idades_adultos, k=2*len_res_2a)\n",
    "for j in range(len_res_2a):\n",
    "    pop_idades[res_2a[j][0]] = ind_idades[j]\n",
    "    pop_idades[res_2a[j][1]] = ind_idades[len_res_2a + j]\n",
    "    distrib_idades_adultos[ind_idades[j]] -= 1\n",
    "    distrib_idades_adultos[ind_idades[len_res_2a + j]] -= 1\n",
    "n += 2*len_res_2a\n",
    "print(f'Alocados até o momento: {n}')"
   ]
  },
  {
   "cell_type": "markdown",
   "metadata": {},
   "source": [
    "### Define a idade de dois adultos nas residências com três ou mais indivíduos"
   ]
  },
  {
   "cell_type": "code",
   "execution_count": 26,
   "metadata": {},
   "outputs": [
    {
     "name": "stdout",
     "output_type": "stream",
     "text": [
      "Alocados até o momento: 50088\n",
      "CPU times: user 46.6 ms, sys: 2.16 ms, total: 48.8 ms\n",
      "Wall time: 48.6 ms\n"
     ]
    }
   ],
   "source": [
    "%%time\n",
    "len_res_3 = len(res_3)\n",
    "ind_idades = random.choices(idades, distrib_idades_adultos, k=2*len_res_3)\n",
    "for j in range(len_res_3):\n",
    "    pop_idades[res_3[j][0]] = ind_idades[j]\n",
    "    pop_idades[res_3[j][1]] = ind_idades[len_res_3 + j]\n",
    "    distrib_idades_adultos[ind_idades[j]] -= 1\n",
    "    distrib_idades_adultos[ind_idades[len_res_3 + j]] -= 1\n",
    "n += 2*len_res_3\n",
    "print(f'Alocados até o momento: {n}')"
   ]
  },
  {
   "cell_type": "markdown",
   "metadata": {},
   "source": [
    "### Define a idade dos menores de idade em residências com um adulto e um menor"
   ]
  },
  {
   "cell_type": "code",
   "execution_count": 27,
   "metadata": {},
   "outputs": [
    {
     "name": "stdout",
     "output_type": "stream",
     "text": [
      "Alocados até o momento: 50982\n",
      "CPU times: user 3.33 ms, sys: 608 µs, total: 3.94 ms\n",
      "Wall time: 3.47 ms\n"
     ]
    }
   ],
   "source": [
    "%%time\n",
    "len_res_2b = len(res_2b)\n",
    "ind_idades = random.choices(idades, distrib_idades_menores, k=len_res_2b)\n",
    "for j in range(len_res_2b):\n",
    "    pop_idades[res_2b[j][1]] = ind_idades[j]\n",
    "    distrib_idades_menores[ind_idades[j]] -= 1\n",
    "n += len_res_2b\n",
    "print(f'Alocados até o momento: {n}')"
   ]
  },
  {
   "cell_type": "markdown",
   "metadata": {},
   "source": [
    "### Calcula a distribuição restante de idades"
   ]
  },
  {
   "cell_type": "code",
   "execution_count": 28,
   "metadata": {},
   "outputs": [
    {
     "name": "stdout",
     "output_type": "stream",
     "text": [
      "[598 599 600 606 594 588 585 589 581 581 690 695 683 679 787 771 772 776\n",
      " 873 856  79  60  65  82  48  75  39  78  52  50  79  84  77  68  59  90\n",
      "  44  14  61  55  50  54  67  50  76  51  60  74  47  73  62  39  57  62\n",
      "  61  71  89  67  68  47  56  59  69  43  56   4  38  19   4  21  29  14\n",
      "   9  15  23  34   0  39   6  14  27   6  21  15  30  11  38  15  28  30\n",
      "  15  17  22  26  19  10  19  17  25  25]\n"
     ]
    }
   ],
   "source": [
    "distrib_idades_left = np.array([distrib_idades_menores[j] + distrib_idades_adultos[j] for j in range(len(idades_fracoes))])\n",
    "print(distrib_idades_left.astype(int))"
   ]
  },
  {
   "cell_type": "markdown",
   "metadata": {},
   "source": [
    "### Define a idade do restante dos invidívuos em residências de três ou mais indivíduos"
   ]
  },
  {
   "cell_type": "code",
   "execution_count": 29,
   "metadata": {},
   "outputs": [
    {
     "name": "stdout",
     "output_type": "stream",
     "text": [
      "Alocados ao final: 67973\n",
      "CPU times: user 327 ms, sys: 3.13 ms, total: 330 ms\n",
      "Wall time: 334 ms\n"
     ]
    }
   ],
   "source": [
    "%%time\n",
    "for r in res_3:\n",
    "    ind_idade = random.choices(idades, distrib_idades_left, k=len(r)-2)\n",
    "    pop_idades[r[2:]] = ind_idade\n",
    "    for j in ind_idade:\n",
    "        distrib_idades_left[j] -= 1\n",
    "        n += 1\n",
    "print(f'Alocados ao final: {n}')"
   ]
  },
  {
   "cell_type": "markdown",
   "metadata": {},
   "source": [
    "### Conferindo"
   ]
  },
  {
   "cell_type": "code",
   "execution_count": 30,
   "metadata": {},
   "outputs": [
    {
     "name": "stdout",
     "output_type": "stream",
     "text": [
      "População total: 67973\n",
      "Alocados ao final: 67973\n",
      "Total de alocados via somatório do histograma: 67973\n",
      "Distribuição de indivíduos em função da idade:\n",
      "[ 639  639  640  638  639  625  626  624  626  626  730  731  733  731\n",
      "  832  833  832  833  917  917  884  884  884  884  883  911  910  911\n",
      "  911  911 1054 1053 1054 1053 1054 1054 1052 1054 1054 1053  966  965\n",
      "  964  966  965  966  965  966  964  966  951  952  952  952  952  950\n",
      "  952  952  951  952  870  870  870  870  870  301  302  301  301  301\n",
      "  301  301  301  301  301  300  301  301  301  301  301  302  300  301\n",
      "  302  301  301  301  301  301  300  301  301  301  301  301  301  301\n",
      "  301  301]\n"
     ]
    }
   ],
   "source": [
    "print(f'População total: {num_pop}')\n",
    "print(f'Alocados ao final: {n}')\n",
    "pop_idades_hist = np.array([len(pop_idades[pop_idades==j]) for j in range(100)])\n",
    "print(f'Total de alocados via somatório do histograma: {pop_idades_hist.sum()}')\n",
    "print(f'Distribuição de indivíduos em função da idade:\\n{pop_idades_hist}')"
   ]
  },
  {
   "cell_type": "code",
   "execution_count": 31,
   "metadata": {},
   "outputs": [
    {
     "data": {
      "image/png": "[encoded data removed]",
      "text/plain": [
       "<Figure size 864x360 with 1 Axes>"
      ]
     },
     "metadata": {},
     "output_type": "display_data"
    }
   ],
   "source": [
    "plt.figure(figsize=(12,5))\n",
    "plt.hist(pop_idades, bins = list(range(101)), color='tab:orange', label='histograma')\n",
    "plt.step([i+1 for i in idades],num_pop*idades_fracoes, label='censo')\n",
    "plt.xlabel('idade', fontsize=14)\n",
    "plt.ylabel('população', fontsize=14)\n",
    "plt.title('Histograma das idades da população (número de indivíduos em cada idade', fontsize=16)\n",
    "plt.legend(fontsize=12)\n",
    "plt.show()"
   ]
  },
  {
   "cell_type": "markdown",
   "metadata": {
    "slideshow": {
     "slide_type": "skip"
    }
   },
   "source": [
    "<!--NAVIGATOR-->\n",
    "\n",
    "---\n",
    "[<- Modelos individuais - reformulação da implementação](16.00.Aula-Modelos_individuais_reformulacao.ipynb) | [Página Inicial](00.00-Pagina_Inicial.ipynb) | [O cenário de múltiplos do Pop350: redes sociais ->](18.00.Aula-Construindo_Cenarios_e_Pop_Multi_350_social.ipynb)"
   ]
  }
 ],
 "metadata": {
  "kernelspec": {
   "display_name": "py38",
   "language": "python",
   "name": "py38"
  },
  "language_info": {
   "codemirror_mode": {
    "name": "ipython",
    "version": 3
   },
   "file_extension": ".py",
   "mimetype": "text/x-python",
   "name": "python",
   "nbconvert_exporter": "python",
   "pygments_lexer": "ipython3",
   "version": "3.8.1"
  }
 },
 "nbformat": 4,
 "nbformat_minor": 4
}
