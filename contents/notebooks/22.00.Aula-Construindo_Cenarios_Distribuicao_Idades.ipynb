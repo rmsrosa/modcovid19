{
 "cells": [
  {
   "cell_type": "markdown",
   "metadata": {
    "slideshow": {
     "slide_type": "skip"
    }
   },
   "source": [
    "<!--HEADER-->\n",
    "[*Notas sobre modelagem da epidemia de Covid-19*](https://github.com/rmsrosa/modcovid19) / [*IM-UFRJ*](https://www.im.ufrj.br)."
   ]
  },
  {
   "cell_type": "markdown",
   "metadata": {
    "slideshow": {
     "slide_type": "skip"
    }
   },
   "source": [
    "<!--BADGES-->\n",
    "<a href=\"../slides/22.00.Aula-Construindo_Cenarios_Distribuicao_Idades.slides.html\" target=\"_blank\"><img align=\"left\" src=\"https://img.shields.io/badge/local-slides-darkgreen\" alt=\"localslides\" title=\"Local Slides\"></a>\n",
    "&nbsp;"
   ]
  },
  {
   "cell_type": "markdown",
   "metadata": {
    "slideshow": {
     "slide_type": "skip"
    }
   },
   "source": [
    "<!--NAVIGATOR-->\n",
    "[<- Modelo individual: incluindo a fase de exposição](21.00.Aula-Modelo_individual_infeccao_e_recuperacao.ipynb) | [Página Inicial](00.00-Pagina_Inicial.ipynb) | [O cenário da cidade do Rio de Janeiro: rede de empresas ->](23.00.Aula-Cenario_Rio_Empresas.ipynb)\n",
    "\n",
    "---\n"
   ]
  },
  {
   "cell_type": "markdown",
   "metadata": {
    "slideshow": {
     "slide_type": "slide"
    }
   },
   "source": [
    "# Construção de cenários: definindo as idades\n",
    "\n",
    "- O objetivo, aqui, é definir as idades de cada indivíduo da população.\n",
    "\n",
    "- Isso será feito após a alocação dos indivíduos em residências.\n",
    "\n",
    "- Como exemplo, vamos usar a rede de residências de uma fração da população do Rio de Janeiro."
   ]
  },
  {
   "cell_type": "code",
   "execution_count": 1,
   "metadata": {
    "slideshow": {
     "slide_type": "skip"
    }
   },
   "outputs": [],
   "source": [
    "import datetime # date and time tools\n",
    "\n",
    "import os, sys\n",
    "\n",
    "import math\n",
    "\n",
    "import random\n",
    "\n",
    "import numpy as np\n",
    "from scipy.stats import zipf\n",
    "\n",
    "import networkx as nx\n",
    "\n",
    "from numba import jit, njit, prange\n",
    "from numba.typed import List\n",
    "import threading # for multi-threading with numba.jit\n",
    "\n",
    "import matplotlib.pyplot as plt\n",
    "import seaborn as sns\n",
    "\n",
    "import io, base64\n",
    "from IPython.display import Image, HTML"
   ]
  },
  {
   "cell_type": "code",
   "execution_count": 2,
   "metadata": {
    "slideshow": {
     "slide_type": "skip"
    }
   },
   "outputs": [],
   "source": [
    "sys.path.insert(0, os.path.abspath(os.path.join(os.getcwd(), '..')))\n",
    "import episiming"
   ]
  },
  {
   "cell_type": "code",
   "execution_count": 3,
   "metadata": {
    "slideshow": {
     "slide_type": "skip"
    }
   },
   "outputs": [],
   "source": [
    "sns.set_style(\"darkgrid\")"
   ]
  },
  {
   "cell_type": "code",
   "execution_count": 4,
   "metadata": {
    "slideshow": {
     "slide_type": "skip"
    }
   },
   "outputs": [
    {
     "name": "stdout",
     "output_type": "stream",
     "text": [
      "Atualização mais recente do kernel: 09/Jun/2020\n"
     ]
    }
   ],
   "source": [
    "dt_string = datetime.datetime.now().strftime(\"%d/%b/%Y\")\n",
    "print(f\"Atualização mais recente do kernel: {dt_string}\")"
   ]
  },
  {
   "cell_type": "markdown",
   "metadata": {
    "slideshow": {
     "slide_type": "slide"
    }
   },
   "source": [
    "## Distribuição espacial da população da cidade do Rio de Janeiro\n",
    "\n",
    "### Carregando os dados\n",
    "\n",
    "Os dados populacionais por quilômetro quadrado da cidade do Rio de Janeiro foram obtidos pelo [Landscan](https://landscan.ornl.gov).\n",
    "\n",
    "Como feito anteriormente, após carregarmos os dados, zeramos os valores das células com -1, que indicam falta de informação."
   ]
  },
  {
   "cell_type": "code",
   "execution_count": 5,
   "metadata": {
    "slideshow": {
     "slide_type": "fragment"
    }
   },
   "outputs": [],
   "source": [
    "landscan_rio = np.maximum(np.load('../input/dados_rio/landscan_rio.npy').astype(int), 0)"
   ]
  },
  {
   "cell_type": "markdown",
   "metadata": {
    "slideshow": {
     "slide_type": "slide"
    }
   },
   "source": [
    "### Reduzindo a população para testes\n",
    "\n",
    "Na montagem do cenário, com o objetivo de realizar testes mais rápidos, com populações menores, dividimos a população de cada bloco por um determinado fator.\n",
    "\n",
    "Essa divisão nos dá números em ponto flutuante, que então truncamos para a sua parte inteira."
   ]
  },
  {
   "cell_type": "code",
   "execution_count": 6,
   "metadata": {
    "slideshow": {
     "slide_type": "fragment"
    }
   },
   "outputs": [
    {
     "name": "stdout",
     "output_type": "stream",
     "text": [
      "População: 67973\n"
     ]
    }
   ],
   "source": [
    "pop_por_bloco = (landscan_rio/100).astype(int)\n",
    "num_pop = pop_por_bloco.sum()\n",
    "print(f'População: {num_pop}')"
   ]
  },
  {
   "cell_type": "markdown",
   "metadata": {
    "slideshow": {
     "slide_type": "slide"
    }
   },
   "source": [
    "### Visualização da distribuição populacional em escala logarítmica"
   ]
  },
  {
   "cell_type": "code",
   "execution_count": 7,
   "metadata": {
    "slideshow": {
     "slide_type": "fragment"
    }
   },
   "outputs": [
    {
     "data": {
      "image/png": "[encoded data removed]",
      "text/plain": [
       "<Figure size 1080x504 with 1 Axes>"
      ]
     },
     "metadata": {},
     "output_type": "display_data"
    }
   ],
   "source": [
    "plt.figure(figsize=(15,7))\n",
    "plt.imshow(np.log(1 + landscan_rio), cmap='bwr', interpolation='nearest')\n",
    "plt.grid(False)\n",
    "plt.title(f'Distribuição da população de {int(landscan_rio.sum())} indivíduos', fontsize=16)\n",
    "plt.show()"
   ]
  },
  {
   "cell_type": "markdown",
   "metadata": {
    "slideshow": {
     "slide_type": "slide"
    }
   },
   "source": [
    "### Censo residencial\n",
    "\n",
    "A distribuição da população em residências é feita segundo um censo com a porcentagem de residências por número de residentes:"
   ]
  },
  {
   "cell_type": "code",
   "execution_count": 8,
   "metadata": {
    "slideshow": {
     "slide_type": "fragment"
    }
   },
   "outputs": [],
   "source": [
    "censo_residencial = np.array([.21, .26, .20, .17, .08, .04, .02, 0.02])"
   ]
  },
  {
   "cell_type": "markdown",
   "metadata": {
    "slideshow": {
     "slide_type": "slide"
    }
   },
   "source": [
    "### Distribuindo e alocando os indivíduos e as suas residências"
   ]
  },
  {
   "cell_type": "code",
   "execution_count": 9,
   "metadata": {
    "slideshow": {
     "slide_type": "fragment"
    }
   },
   "outputs": [
    {
     "name": "stdout",
     "output_type": "stream",
     "text": [
      "CPU times: user 1.03 s, sys: 28 ms, total: 1.05 s\n",
      "Wall time: 1.22 s\n"
     ]
    }
   ],
   "source": [
    "%%time\n",
    "pos_residencias, pos_individuos, res_individuos, pop_blocos_indices \\\n",
    "    = episiming.cenarios.aloca_residencias_e_individuos(pop_por_bloco, censo_residencial)"
   ]
  },
  {
   "cell_type": "markdown",
   "metadata": {
    "slideshow": {
     "slide_type": "slide"
    }
   },
   "source": [
    "### Distribuição por tamanho de residência"
   ]
  },
  {
   "cell_type": "code",
   "execution_count": 10,
   "metadata": {
    "slideshow": {
     "slide_type": "fragment"
    }
   },
   "outputs": [],
   "source": [
    "num_tam_res = len(censo_residencial)\n",
    "distrib_tam_por_res = np.array([len(res_individuos[k]) for k in range(len(res_individuos))])\n",
    "distrib_res = np.array([len(distrib_tam_por_res[distrib_tam_por_res == j]) for j in range(1,num_tam_res+1)])"
   ]
  },
  {
   "cell_type": "code",
   "execution_count": 11,
   "metadata": {
    "slideshow": {
     "slide_type": "fragment"
    }
   },
   "outputs": [
    {
     "data": {
      "image/png": "[encoded data removed]",
      "text/plain": [
       "<Figure size 864x432 with 1 Axes>"
      ]
     },
     "metadata": {},
     "output_type": "display_data"
    }
   ],
   "source": [
    "plt.figure(figsize=(12,6))\n",
    "bar_width = 0.4\n",
    "r1 = [j for j in range(1,num_tam_res+1)]\n",
    "r2 = [j + 1.1*bar_width for j in range(1,num_tam_res+1)]\n",
    "plt.bar(r1, censo_residencial, width=bar_width, label='censo')\n",
    "plt.bar(r2, distrib_res/num_pop, width=bar_width, label=f'distribuição obtida')\n",
    "plt.xlabel('número de moradores da residência', fontsize=14)\n",
    "plt.ylabel('densidade populacional', fontsize=14)\n",
    "plt.legend(fontsize=12)\n",
    "plt.title(f'Densidade de distribuição populacional por tamanho de residência para {num_pop} indivíduos',\n",
    "          fontsize=16)\n",
    "plt.show()  "
   ]
  },
  {
   "cell_type": "markdown",
   "metadata": {
    "slideshow": {
     "slide_type": "slide"
    }
   },
   "source": [
    "## Pirâmide etária do rio de Janeiro\n",
    "\n",
    "- Como as pirâmides etárias do Rio de Janeiro e do Brasil são razoavelmente diferentes, vamos trabalhar com os dados do Rio.\n",
    "\n",
    "- Inicialmente, consideramos a pirâmide populacional da cidade do Rio de Janeiro disponível na [Tabela 6407 do IBGE - População residente, por sexo e grupo de idade](https://sidra.ibge.gov.br/tabela/6407#resultado), que infelizemente não diferencia faixas acima de 65 anos:\n",
    "\n",
    "\n",
    "| Total | 100,0 |\n",
    "| --- | --- |\n",
    "| 0 a 4 anos | 9,4 |\n",
    "| 5 a 9 anos | 11,9 |\n",
    "| 10 a 13 anos | 13,2 |\n",
    "| 14 a 17 anos | 15,5 |\n",
    "| 18 e 19 anos | 14,2 |\n",
    "| 20 a 24 anos | 14,0 |\n",
    "| 25 a 29 | 22,0 |\n",
    "| 30 a 39 anos | 15,5 |\n",
    "| 40 a 49 anos | 14,2 |\n",
    "| 50 a 59 anos | 14,0 |\n",
    "| 60 a 64 anos | 14,0 |\n",
    "| 65 ou mais | 22,0 |\n",
    "\n"
   ]
  },
  {
   "cell_type": "markdown",
   "metadata": {
    "slideshow": {
     "slide_type": "slide"
    }
   },
   "source": [
    "###  Tabelando os dados disponíveis\n",
    "\n",
    "Primeiramente montamos duas listas, umas com as faixas etárias e outra com a fração da população em cada faixa."
   ]
  },
  {
   "cell_type": "code",
   "execution_count": 12,
   "metadata": {
    "slideshow": {
     "slide_type": "fragment"
    }
   },
   "outputs": [
    {
     "name": "stdout",
     "output_type": "stream",
     "text": [
      "Conferindo a soma das frações dos grupos de idades: 1.0\n"
     ]
    }
   ],
   "source": [
    "idades_grupos = np.array([0, 5, 10, 14, 18, 20, 25, 30, 40, 50, 60, 65])\n",
    "idades_fracoes_grupos = np.array([0.047, 0.046, 0.043, 0.049, 0.027, 0.065, 0.067, 0.155, 0.142,\n",
    "                                  0.140, 0.064, 0.155])\n",
    "idade_max = 100\n",
    "print(f'Conferindo a soma das frações dos grupos de idades: {idades_fracoes_grupos.sum()}')"
   ]
  },
  {
   "cell_type": "markdown",
   "metadata": {
    "slideshow": {
     "slide_type": "slide"
    }
   },
   "source": [
    "### Visualizando a pirâmide"
   ]
  },
  {
   "cell_type": "code",
   "execution_count": 13,
   "metadata": {
    "slideshow": {
     "slide_type": "fragment"
    }
   },
   "outputs": [
    {
     "data": {
      "image/png": "[encoded data removed]",
      "text/plain": [
       "<Figure size 864x432 with 1 Axes>"
      ]
     },
     "metadata": {},
     "output_type": "display_data"
    }
   ],
   "source": [
    "plt.figure(figsize=(12,6))\n",
    "bar_width = [idades_grupos[j+1] - idades_grupos[j] - 1 for j in range(len(idades_grupos)-1)] \\\n",
    "            + [idade_max - idades_grupos[-1] -1]\n",
    "plt.bar(idades_grupos, idades_fracoes_grupos, width=bar_width, align='edge')\n",
    "plt.xticks(idades_grupos)\n",
    "plt.xlabel('idade', fontsize=14)\n",
    "plt.ylabel('fração da população', fontsize=14)\n",
    "plt.title('Fração da população em função idade', fontsize=16)\n",
    "plt.show()"
   ]
  },
  {
   "cell_type": "markdown",
   "metadata": {
    "slideshow": {
     "slide_type": "slide"
    }
   },
   "source": [
    "### Interpolando e extrapolando os dados\n",
    "\n",
    "Agora, interpolamos os dados para ter frações para cada idade na faixas acima e extrapolamos no caso da última faixa.\n",
    "\n",
    "Vou fazer uma interpolação/extrapolação simples, de maneira constante por partes, mas podemos melhorar isso, principalmente usando o número de nascidos na faixa de 0 a 1 ano e frações para idades maiores."
   ]
  },
  {
   "cell_type": "code",
   "execution_count": 14,
   "metadata": {
    "slideshow": {
     "slide_type": "fragment"
    }
   },
   "outputs": [
    {
     "name": "stdout",
     "output_type": "stream",
     "text": [
      "1.0000000000000002\n"
     ]
    }
   ],
   "source": [
    "idades_fracoes = list()\n",
    "for j in range(len(idades_grupos)-1):\n",
    "    idades_fracoes += (idades_grupos[j+1] - idades_grupos[j]) \\\n",
    "        * [idades_fracoes_grupos[j]/(idades_grupos[j+1]-idades_grupos[j])]\n",
    "\n",
    "idades_fracoes += (idade_max - idades_grupos[-1]) \\\n",
    "        * [idades_fracoes_grupos[-1]/(idade_max-idades_grupos[-1])]\n",
    "\n",
    "idades_fracoes = np.array(idades_fracoes)\n",
    "print(idades_fracoes.sum())"
   ]
  },
  {
   "cell_type": "markdown",
   "metadata": {
    "slideshow": {
     "slide_type": "slide"
    }
   },
   "source": [
    "### Visualizando a pirâmide"
   ]
  },
  {
   "cell_type": "code",
   "execution_count": 15,
   "metadata": {
    "slideshow": {
     "slide_type": "fragment"
    }
   },
   "outputs": [
    {
     "data": {
      "image/png": "[encoded data removed]",
      "text/plain": [
       "<Figure size 864x360 with 1 Axes>"
      ]
     },
     "metadata": {},
     "output_type": "display_data"
    }
   ],
   "source": [
    "plt.figure(figsize=(12,5))\n",
    "plt.bar(range(len(idades_fracoes)), idades_fracoes, width=0.95, align='edge')\n",
    "plt.xlabel('idade', fontsize=14)\n",
    "plt.ylabel('fração da população', fontsize=14)\n",
    "plt.title('Fração da população em função idade', fontsize=16)\n",
    "plt.show()"
   ]
  },
  {
   "cell_type": "markdown",
   "metadata": {
    "slideshow": {
     "slide_type": "slide"
    }
   },
   "source": [
    "## Distribuição das idades dos indivíduos\n",
    "\n",
    "- A estratégia é usar os dados da pirâmide populacional do Rio de Janeiro como pesos nas escolhas das idades dos indivíduos.\n",
    "\n",
    "- Vamos fazer por partes, percorrendo as residências por tamanho e sorteando as idades dos residentes;\n",
    "\n",
    "    - Nas casas com um único indivíduo, sorteamos um adulto (20 anos para cima), com pesos proporcionais as faixas de 20 pra cima.\n",
    "    \n",
    "    - Nas casas com dois indivíduos, sorteamos 90% deles com dois adultos e 10% deles com um adulto e uma criança\n",
    "    \n",
    "    - Nas casas com mais de dois indivíduos, sorteamos dois adultos e o restante de qualquer idade\n",
    "    \n",
    "    - A cada passo, atualizamos a população restante para obter novos pesos."
   ]
  },
  {
   "cell_type": "markdown",
   "metadata": {
    "slideshow": {
     "slide_type": "slide"
    }
   },
   "source": [
    "### Distribuindo as idades\n",
    "\n",
    "- Primeiro, consideramos a população em idade ativa.\n",
    "\n",
    "- De acordo com o IBGE, a população em idade ativa é formada pelos indivíduos com 16 ou mais anos de idade.\n",
    "\n",
    "- Segundo, consideramos a parte economicamente ativa, que são os, de fato, trabalhando de alguma forma. Nesse caso:\n",
    "\n",
    "    - Boa parte dos que têm até 17 ou 18 anos ainda está no ensino médio.\n",
    "\n",
    "    - Uma certa parte dos que têm em torno de vinte anos está na faculdade.\n",
    "    \n",
    "    - Boa parte dos que têm 60 anos ou mais está aposentada.\n",
    "    \n",
    "    - Uma parte razoável dos outros está desocupada.\n",
    "    \n",
    "\n",
    "- Na falta de dados concretos, vou assumir certas frações das populações dessas idades como estando economicamente ativas, para serem alocadas nos locais de trabalho."
   ]
  },
  {
   "cell_type": "markdown",
   "metadata": {
    "slideshow": {
     "slide_type": "slide"
    }
   },
   "source": [
    "### Separa as residências por tamanho"
   ]
  },
  {
   "cell_type": "code",
   "execution_count": 16,
   "metadata": {
    "slideshow": {
     "slide_type": "fragment"
    }
   },
   "outputs": [
    {
     "name": "stdout",
     "output_type": "stream",
     "text": [
      "CPU times: user 487 ms, sys: 5.81 ms, total: 493 ms\n",
      "Wall time: 500 ms\n"
     ]
    }
   ],
   "source": [
    "%%time\n",
    "res = (num_tam_res+1)*[[]]\n",
    "for j in range(1,num_tam_res+1):\n",
    "    res[j] = [r for r in res_individuos if len(r) == j]\n",
    "res_2b = random.sample(res[2], k=int(0.1*len(res[2])))\n",
    "res_2a = [r for r in res[2] if r not in res_2b]\n",
    "res_3mais = []\n",
    "for res_k in res[3:]:\n",
    "    res_3mais += res_k"
   ]
  },
  {
   "cell_type": "markdown",
   "metadata": {
    "slideshow": {
     "slide_type": "slide"
    }
   },
   "source": [
    "### Separa a piramide populacional em crianças/jovens e adultos\n",
    "\n",
    "As distribuições são apenas para definir os pesos para as escolhas das idades, não sendo estritamente necessário transformá-los em inteiros cuja soma dê exatamente a população total."
   ]
  },
  {
   "cell_type": "code",
   "execution_count": 17,
   "metadata": {
    "slideshow": {
     "slide_type": "fragment"
    }
   },
   "outputs": [],
   "source": [
    "idades = list(range(len(idades_fracoes)))\n",
    "\n",
    "distrib_idades_adultos = num_pop*idades_fracoes\n",
    "distrib_idades_adultos[:20] = 0\n",
    "\n",
    "distrib_idades_menores = num_pop*idades_fracoes\n",
    "distrib_idades_menores[20:] = 0"
   ]
  },
  {
   "cell_type": "markdown",
   "metadata": {
    "slideshow": {
     "slide_type": "slide"
    }
   },
   "source": [
    "### Visualizando"
   ]
  },
  {
   "cell_type": "code",
   "execution_count": 18,
   "metadata": {
    "slideshow": {
     "slide_type": "fragment"
    }
   },
   "outputs": [
    {
     "data": {
      "image/png": "[encoded data removed]",
      "text/plain": [
       "<Figure size 864x360 with 1 Axes>"
      ]
     },
     "metadata": {},
     "output_type": "display_data"
    }
   ],
   "source": [
    "plt.figure(figsize=(12,5))\n",
    "plt.bar(range(len(distrib_idades_menores)), distrib_idades_menores,\n",
    "        width=0.9, align='edge', color='tab:orange', label='menores')\n",
    "plt.bar(range(len(distrib_idades_adultos)), distrib_idades_adultos,\n",
    "        width=0.9, align='edge', color='tab:blue', label='adultos')\n",
    "plt.xlabel('idade', fontsize=14)\n",
    "plt.ylabel('população', fontsize=14)\n",
    "plt.title('Meta para a pirâmide populacional', fontsize=16)\n",
    "plt.legend(fontsize=12)\n",
    "plt.show()"
   ]
  },
  {
   "cell_type": "markdown",
   "metadata": {
    "slideshow": {
     "slide_type": "slide"
    }
   },
   "source": [
    "### Inicializa a lista de idades dos indivíduos"
   ]
  },
  {
   "cell_type": "code",
   "execution_count": 19,
   "metadata": {
    "slideshow": {
     "slide_type": "fragment"
    }
   },
   "outputs": [],
   "source": [
    "pop_idades = np.zeros(num_pop).astype(int)\n",
    "n = 0"
   ]
  },
  {
   "cell_type": "code",
   "execution_count": 20,
   "metadata": {
    "slideshow": {
     "slide_type": "fragment"
    }
   },
   "outputs": [
    {
     "name": "stdout",
     "output_type": "stream",
     "text": [
      "Total do histograma: 67973\n",
      "Total de alocados com um ano ou mais: 0\n",
      "Distribuição de indivíduos em função da idade:\n",
      "[67973     0     0     0     0     0     0     0     0     0     0     0\n",
      "     0     0     0     0     0     0     0     0     0     0     0     0\n",
      "     0     0     0     0     0     0     0     0     0     0     0     0\n",
      "     0     0     0     0     0     0     0     0     0     0     0     0\n",
      "     0     0     0     0     0     0     0     0     0     0     0     0\n",
      "     0     0     0     0     0     0     0     0     0     0     0     0\n",
      "     0     0     0     0     0     0     0     0     0     0     0     0\n",
      "     0     0     0     0     0     0     0     0     0     0     0     0\n",
      "     0     0     0     0]\n"
     ]
    }
   ],
   "source": [
    "pop_idades_hist = np.array([len(pop_idades[pop_idades==j]) for j in range(100)])\n",
    "pop_idades_hist_1up = np.array([len(pop_idades[pop_idades==j]) for j in range(1,100)])\n",
    "print(f'Total do histograma: {pop_idades_hist.sum()}')\n",
    "print(f'Total de alocados com um ano ou mais: {pop_idades_hist_1up.sum()}')\n",
    "print(f'Distribuição de indivíduos em função da idade:\\n{pop_idades_hist}')"
   ]
  },
  {
   "cell_type": "markdown",
   "metadata": {
    "slideshow": {
     "slide_type": "slide"
    }
   },
   "source": [
    "### Define a idade dos adultos morando sozinhos\n",
    "\n",
    "Colocamos um adulto nas residências que contém apenas um indivíduo."
   ]
  },
  {
   "cell_type": "code",
   "execution_count": 21,
   "metadata": {
    "slideshow": {
     "slide_type": "fragment"
    }
   },
   "outputs": [
    {
     "name": "stdout",
     "output_type": "stream",
     "text": [
      "14886\n",
      "14886\n",
      "CPU times: user 75.3 ms, sys: 2.05 ms, total: 77.4 ms\n",
      "Wall time: 78.4 ms\n"
     ]
    }
   ],
   "source": [
    "%%time\n",
    "random.seed(17000001)\n",
    "\n",
    "ind_idades = random.choices(idades, distrib_idades_adultos, k=len(res[1]))\n",
    "for j in range(len(res[1])):\n",
    "    pop_idades[res[1][j]] = ind_idades[j]\n",
    "    distrib_idades_adultos[ind_idades[j]] -= 1\n",
    "n += len(res[1])\n",
    "print(len(res[1]))\n",
    "print(n)"
   ]
  },
  {
   "cell_type": "code",
   "execution_count": 22,
   "metadata": {
    "slideshow": {
     "slide_type": "fragment"
    }
   },
   "outputs": [
    {
     "name": "stdout",
     "output_type": "stream",
     "text": [
      "Total do histograma: 67973\n",
      "Total de alocados com um ano ou mais: 14886\n",
      "Distribuição de indivíduos em função da idade:\n",
      "[53087     0     0     0     0     0     0     0     0     0     0     0\n",
      "     0     0     0     0     0     0     0     0   244   236   244   229\n",
      "   241   254   241   265   245   245   293   307   310   276   277   307\n",
      "   286   281   308   311   253   251   281   267   275   277   309   265\n",
      "   268   282   279   299   261   229   250   274   275   273   253   257\n",
      "   245   249   237   233   238    72    83    85    86    66    77    95\n",
      "    95    83    97    73    69    67    81    90    80    71    81    86\n",
      "    95    78    75    77    89   105   105    86   102    92    93    68\n",
      "    62    85    87    70]\n"
     ]
    }
   ],
   "source": [
    "pop_idades_hist = np.array([len(pop_idades[pop_idades==j]) for j in range(100)])\n",
    "pop_idades_hist_1up = np.array([len(pop_idades[pop_idades==j]) for j in range(1,100)])\n",
    "print(f'Total do histograma: {pop_idades_hist.sum()}')\n",
    "print(f'Total de alocados com um ano ou mais: {pop_idades_hist_1up.sum()}')\n",
    "print(f'Distribuição de indivíduos em função da idade:\\n{pop_idades_hist}')"
   ]
  },
  {
   "cell_type": "markdown",
   "metadata": {
    "slideshow": {
     "slide_type": "slide"
    }
   },
   "source": [
    "### Define a idade do único adulto em residências com um adulto e um menor"
   ]
  },
  {
   "cell_type": "code",
   "execution_count": 23,
   "metadata": {
    "slideshow": {
     "slide_type": "fragment"
    }
   },
   "outputs": [
    {
     "name": "stdout",
     "output_type": "stream",
     "text": [
      "895\n",
      "15781\n",
      "CPU times: user 3.1 ms, sys: 648 µs, total: 3.75 ms\n",
      "Wall time: 3.33 ms\n"
     ]
    }
   ],
   "source": [
    "%%time\n",
    "random.seed(27000002)\n",
    "\n",
    "ind_idades = random.choices(idades, distrib_idades_adultos, k=len(res_2b))\n",
    "for j in range(len(res_2b)):\n",
    "    pop_idades[res_2b[j][0]] = ind_idades[j]\n",
    "    distrib_idades_adultos[ind_idades[j]] -= 1\n",
    "n += len(res_2b)\n",
    "print(len(res_2b))\n",
    "print(n)"
   ]
  },
  {
   "cell_type": "code",
   "execution_count": 24,
   "metadata": {
    "slideshow": {
     "slide_type": "fragment"
    }
   },
   "outputs": [
    {
     "name": "stdout",
     "output_type": "stream",
     "text": [
      "Total do histograma: 67973\n",
      "Total de alocados com um ano ou mais: 15781\n",
      "Distribuição de indivíduos em função da idade:\n",
      "[52192     0     0     0     0     0     0     0     0     0     0     0\n",
      "     0     0     0     0     0     0     0     0   265   247   263   250\n",
      "   251   266   263   277   263   260   314   327   328   298   295   323\n",
      "   311   297   323   327   274   265   299   289   286   291   327   279\n",
      "   280   296   291   318   277   247   270   292   287   291   268   266\n",
      "   262   261   249   248   248    74    90    91    90    71    87   103\n",
      "   101    90   103    77    71    75    84    95    84    78    84    92\n",
      "    97    84    77    83    91   107   112    89   105    95    96    71\n",
      "    65    92    93    75]\n"
     ]
    }
   ],
   "source": [
    "pop_idades_hist = np.array([len(pop_idades[pop_idades==j]) for j in range(100)])\n",
    "pop_idades_hist_1up = np.array([len(pop_idades[pop_idades==j]) for j in range(1,100)])\n",
    "print(f'Total do histograma: {pop_idades_hist.sum()}')\n",
    "print(f'Total de alocados com um ano ou mais: {pop_idades_hist_1up.sum()}')\n",
    "print(f'Distribuição de indivíduos em função da idade:\\n{pop_idades_hist}')"
   ]
  },
  {
   "cell_type": "markdown",
   "metadata": {
    "slideshow": {
     "slide_type": "slide"
    }
   },
   "source": [
    "### Define a idade de dois adultos nas outras residências com dois indivíduos\n",
    "\n",
    "- Nas residêcias com apenas dois indivíduos, já colocamos, anteriormente, um adulto nas residências com uma adulto e um menor. Agora, colocamos dois adultos no restante das residências com dois indivíduos."
   ]
  },
  {
   "cell_type": "code",
   "execution_count": 25,
   "metadata": {
    "slideshow": {
     "slide_type": "fragment"
    }
   },
   "outputs": [
    {
     "name": "stdout",
     "output_type": "stream",
     "text": [
      "Alocados nesta etapa: 16118\n",
      "Alocados até o momento: 31899\n",
      "CPU times: user 44.3 ms, sys: 2.32 ms, total: 46.6 ms\n",
      "Wall time: 49.9 ms\n"
     ]
    }
   ],
   "source": [
    "%%time\n",
    "random.seed(37010203)\n",
    "len_res_2a = len(res_2a)\n",
    "ind_idades = random.choices(idades, distrib_idades_adultos, k=2*len_res_2a)\n",
    "for j in range(len_res_2a):\n",
    "    pop_idades[res_2a[j][0]] = ind_idades[j]\n",
    "    pop_idades[res_2a[j][1]] = ind_idades[len_res_2a + j]\n",
    "    distrib_idades_adultos[ind_idades[j]] -= 1\n",
    "    distrib_idades_adultos[ind_idades[len_res_2a + j]] -= 1\n",
    "n += 2*len_res_2a\n",
    "print(f'Alocados nesta etapa: {2*len_res_2a}')\n",
    "print(f'Alocados até o momento: {n}')"
   ]
  },
  {
   "cell_type": "code",
   "execution_count": 26,
   "metadata": {
    "slideshow": {
     "slide_type": "fragment"
    }
   },
   "outputs": [
    {
     "name": "stdout",
     "output_type": "stream",
     "text": [
      "Total do histograma: 67973\n",
      "Total de alocados com um ano ou mais: 31899\n",
      "Distribuição de indivíduos em função da idade:\n",
      "[36074     0     0     0     0     0     0     0     0     0     0     0\n",
      "     0     0     0     0     0     0     0     0   516   522   547   545\n",
      "   499   532   557   545   516   560   632   641   634   607   616   649\n",
      "   633   623   639   633   537   571   565   552   562   574   594   561\n",
      "   559   630   578   591   577   548   529   595   593   577   573   568\n",
      "   481   502   507   521   529   172   196   172   184   176   172   183\n",
      "   187   186   185   170   171   171   163   183   179   162   176   181\n",
      "   164   187   179   176   190   191   198   185   189   177   176   180\n",
      "   168   179   188   183]\n"
     ]
    }
   ],
   "source": [
    "pop_idades_hist = np.array([len(pop_idades[pop_idades==j]) for j in range(100)])\n",
    "pop_idades_hist_1up = np.array([len(pop_idades[pop_idades==j]) for j in range(1,100)])\n",
    "print(f'Total do histograma: {pop_idades_hist.sum()}')\n",
    "print(f'Total de alocados com um ano ou mais: {pop_idades_hist_1up.sum()}')\n",
    "print(f'Distribuição de indivíduos em função da idade:\\n{pop_idades_hist}')"
   ]
  },
  {
   "cell_type": "markdown",
   "metadata": {
    "slideshow": {
     "slide_type": "slide"
    }
   },
   "source": [
    "### Define a idade de dois adultos nas residências com três ou mais indivíduos"
   ]
  },
  {
   "cell_type": "code",
   "execution_count": 27,
   "metadata": {
    "slideshow": {
     "slide_type": "fragment"
    }
   },
   "outputs": [
    {
     "name": "stdout",
     "output_type": "stream",
     "text": [
      "Alocados nesta etapa: 18200\n",
      "Alocados até o momento: 50099\n",
      "CPU times: user 49.5 ms, sys: 2.72 ms, total: 52.2 ms\n",
      "Wall time: 55.6 ms\n"
     ]
    }
   ],
   "source": [
    "%%time\n",
    "random.seed(47010204)\n",
    "len_res_3mais = len(res_3mais)\n",
    "ind_idades = random.choices(idades, distrib_idades_adultos, k=2*len_res_3mais)\n",
    "for j in range(len_res_3mais):\n",
    "    pop_idades[res_3mais[j][0]] = ind_idades[j]\n",
    "    pop_idades[res_3mais[j][1]] = ind_idades[len_res_3mais + j]\n",
    "    distrib_idades_adultos[ind_idades[j]] -= 1\n",
    "    distrib_idades_adultos[ind_idades[len_res_3mais + j]] -= 1\n",
    "n += 2*len_res_3mais\n",
    "print(f'Alocados nesta etapa: {2*len_res_3mais}')\n",
    "print(f'Alocados até o momento: {n}')"
   ]
  },
  {
   "cell_type": "code",
   "execution_count": 28,
   "metadata": {
    "slideshow": {
     "slide_type": "fragment"
    }
   },
   "outputs": [
    {
     "name": "stdout",
     "output_type": "stream",
     "text": [
      "Total do histograma: 67973\n",
      "Total de alocados com um ano ou mais: 50099\n",
      "Distribuição de indivíduos em função da idade:\n",
      "[17874     0     0     0     0     0     0     0     0     0     0     0\n",
      "     0     0     0     0     0     0     0     0   858   849   838   827\n",
      "   806   850   855   870   852   838   953  1011   965   975   981   985\n",
      "  1003  1012  1004   977   900   921   900   894   922   902   902   881\n",
      "   924   934   851   873   859   877   891   880   920   880   878   912\n",
      "   827   797   829   801   847   282   276   271   294   278   262   294\n",
      "   273   281   290   287   281   282   271   267   262   271   293   274\n",
      "   278   282   298   272   275   284   293   287   284   255   300   274\n",
      "   283   279   273   282]\n"
     ]
    }
   ],
   "source": [
    "pop_idades_hist = np.array([len(pop_idades[pop_idades==j]) for j in range(100)])\n",
    "pop_idades_hist_1up = np.array([len(pop_idades[pop_idades==j]) for j in range(1,100)])\n",
    "print(f'Total do histograma: {pop_idades_hist.sum()}')\n",
    "print(f'Total de alocados com um ano ou mais: {pop_idades_hist_1up.sum()}')\n",
    "print(f'Distribuição de indivíduos em função da idade:\\n{pop_idades_hist}')"
   ]
  },
  {
   "cell_type": "markdown",
   "metadata": {
    "slideshow": {
     "slide_type": "slide"
    }
   },
   "source": [
    "### Define a idade dos menores de idade em residências com um adulto e um menor"
   ]
  },
  {
   "cell_type": "code",
   "execution_count": 29,
   "metadata": {
    "slideshow": {
     "slide_type": "fragment"
    }
   },
   "outputs": [
    {
     "name": "stdout",
     "output_type": "stream",
     "text": [
      "Alocados nesta etapa: 895\n",
      "Alocados até o momento: 50994\n",
      "CPU times: user 5.05 ms, sys: 1.16 ms, total: 6.21 ms\n",
      "Wall time: 8.47 ms\n"
     ]
    }
   ],
   "source": [
    "%%time\n",
    "random.seed(57010205)\n",
    "len_res_2b = len(res_2b)\n",
    "ind_idades = random.choices(idades, distrib_idades_menores, k=len_res_2b)\n",
    "for j in range(len_res_2b):\n",
    "    pop_idades[res_2b[j][1]] = ind_idades[j]\n",
    "    distrib_idades_menores[ind_idades[j]] -= 1\n",
    "n += len_res_2b\n",
    "print(f'Alocados nesta etapa: {len_res_2b}')\n",
    "print(f'Alocados até o momento: {n}')"
   ]
  },
  {
   "cell_type": "markdown",
   "metadata": {
    "slideshow": {
     "slide_type": "slide"
    }
   },
   "source": [
    "### Calcula a distribuição restante de idades"
   ]
  },
  {
   "cell_type": "code",
   "execution_count": 30,
   "metadata": {
    "slideshow": {
     "slide_type": "fragment"
    }
   },
   "outputs": [
    {
     "name": "stdout",
     "output_type": "stream",
     "text": [
      "[595 599 602 609 602 580 588 578 585 585 665 684 705 684 775 777 784 792\n",
      " 858 855  25  34  45  56  77  60  55  40  58  72 100  42  88  78  72  68\n",
      "  50  41  49  76  65  44  65  71  43  63  63  84  41  31 100  78  92  74\n",
      "  60  71  31  71  73  39  43  73  41  69  23  19  25  30   7  23  39   7\n",
      "  28  20  11  14  20  19  30  34  39  30   8  27  23  19   3  29  26  17\n",
      "   8  14  17  46   1  27  18  22  28  19]\n"
     ]
    }
   ],
   "source": [
    "distrib_idades_left = np.array([distrib_idades_menores[j] \\\n",
    "                                + distrib_idades_adultos[j] for j in range(len(idades_fracoes))])\n",
    "print(distrib_idades_left.astype(int))"
   ]
  },
  {
   "cell_type": "markdown",
   "metadata": {
    "slideshow": {
     "slide_type": "slide"
    }
   },
   "source": [
    "### Verifica histograma até o momento"
   ]
  },
  {
   "cell_type": "code",
   "execution_count": 31,
   "metadata": {
    "slideshow": {
     "slide_type": "fragment"
    }
   },
   "outputs": [
    {
     "name": "stdout",
     "output_type": "stream",
     "text": [
      "População total: 67973\n",
      "Alocados até o mometo: 50994\n",
      "Total do histograma: 67973\n",
      "Total de alocados com um ano ou mais: 50951\n",
      "Distribuição de indivíduos em função da idade:\n",
      "[17022    39    36    29    36    45    37    47    40    40    65    46\n",
      "    25    46    57    55    48    40    59    62   858   849   838   827\n",
      "   806   850   855   870   852   838   953  1011   965   975   981   985\n",
      "  1003  1012  1004   977   900   921   900   894   922   902   902   881\n",
      "   924   934   851   873   859   877   891   880   920   880   878   912\n",
      "   827   797   829   801   847   282   276   271   294   278   262   294\n",
      "   273   281   290   287   281   282   271   267   262   271   293   274\n",
      "   278   282   298   272   275   284   293   287   284   255   300   274\n",
      "   283   279   273   282]\n"
     ]
    }
   ],
   "source": [
    "print(f'População total: {num_pop}')\n",
    "print(f'Alocados até o mometo: {n}')\n",
    "pop_idades_hist = np.array([len(pop_idades[pop_idades==j]) for j in range(100)])\n",
    "pop_idades_hist_1up = np.array([len(pop_idades[pop_idades==j]) for j in range(1,100)])\n",
    "print(f'Total do histograma: {pop_idades_hist.sum()}')\n",
    "print(f'Total de alocados com um ano ou mais: {pop_idades_hist_1up.sum()}')\n",
    "print(f'Distribuição de indivíduos em função da idade:\\n{pop_idades_hist}')"
   ]
  },
  {
   "cell_type": "markdown",
   "metadata": {
    "slideshow": {
     "slide_type": "slide"
    }
   },
   "source": [
    "### Define a idade do restante dos invidívuos em residências de três ou mais indivíduos"
   ]
  },
  {
   "cell_type": "code",
   "execution_count": 32,
   "metadata": {
    "slideshow": {
     "slide_type": "fragment"
    }
   },
   "outputs": [
    {
     "name": "stdout",
     "output_type": "stream",
     "text": [
      "Alocados até o momento: 67973\n",
      "CPU times: user 60.7 ms, sys: 2.91 ms, total: 63.6 ms\n",
      "Wall time: 70.7 ms\n"
     ]
    }
   ],
   "source": [
    "%%time\n",
    "for k in range(3,num_tam_res+1):\n",
    "    ind_idades = random.choices(idades, distrib_idades_left, k=(k-2)*len(res[k]))\n",
    "    for j in range(len(res[k])):\n",
    "        for l in range(2, k):\n",
    "            pop_idades[res[k][j][l]] = ind_idades[(l-2)*len(res[k]) + j]\n",
    "            distrib_idades_left[ind_idades[(l-2)*len(res[k]) + j]] -= 1\n",
    "    n += (k-2)*len(res[k])\n",
    "#print(f'Alocados nesta etapa: {len_res_2b}')\n",
    "print(f'Alocados até o momento: {n}')"
   ]
  },
  {
   "cell_type": "markdown",
   "metadata": {
    "slideshow": {
     "slide_type": "slide"
    }
   },
   "source": [
    "### Conferindo"
   ]
  },
  {
   "cell_type": "code",
   "execution_count": 33,
   "metadata": {
    "slideshow": {
     "slide_type": "fragment"
    }
   },
   "outputs": [
    {
     "name": "stdout",
     "output_type": "stream",
     "text": [
      "População total: 67973\n",
      "Alocados ao final: 67973\n",
      "Total de alocados via somatório do histograma: 67973\n",
      "Distribuição de indivíduos em função da idade:\n",
      "[ 640  637  642  634  636  627  612  626  620  629  730  734  742  736\n",
      "  832  832  835  836  913  914  884  884  882  885  885  907  908  911\n",
      "  910  914 1052 1055 1054 1052 1052 1051 1058 1055 1050 1055  966  965\n",
      "  965  967  963  967  966  963  965  965  954  953  951  953  952  949\n",
      "  952  949  955  952  869  869  870  868  869  301  301  305  301  301\n",
      "  302  301  299  303  301  300  302  303  301  299  303  301  301  300\n",
      "  301  299  302  301  300  302  299  300  302  304  301  301  302  305\n",
      "  301  300]\n"
     ]
    }
   ],
   "source": [
    "print(f'População total: {num_pop}')\n",
    "print(f'Alocados ao final: {n}')\n",
    "pop_idades_hist = np.array([len(pop_idades[pop_idades==j]) for j in range(100)])\n",
    "print(f'Total de alocados via somatório do histograma: {pop_idades_hist.sum()}')\n",
    "print(f'Distribuição de indivíduos em função da idade:\\n{pop_idades_hist}')"
   ]
  },
  {
   "cell_type": "markdown",
   "metadata": {
    "slideshow": {
     "slide_type": "slide"
    }
   },
   "source": [
    "### Visualizando"
   ]
  },
  {
   "cell_type": "code",
   "execution_count": 34,
   "metadata": {
    "slideshow": {
     "slide_type": "fragment"
    }
   },
   "outputs": [
    {
     "data": {
      "image/png": "[encoded data removed]",
      "text/plain": [
       "<Figure size 864x360 with 1 Axes>"
      ]
     },
     "metadata": {},
     "output_type": "display_data"
    }
   ],
   "source": [
    "plt.figure(figsize=(12,5))\n",
    "plt.hist(pop_idades, bins = list(range(101)), color='tab:orange', label='pirâmide obtida')\n",
    "plt.step([i+1 for i in idades],num_pop*idades_fracoes, label='pirâmide segundo censo')\n",
    "plt.xlabel('idade', fontsize=14)\n",
    "plt.ylabel('população', fontsize=14)\n",
    "plt.title('Histograma das idades da população (número de indivíduos em cada idade)', fontsize=16)\n",
    "plt.legend(fontsize=12)\n",
    "plt.show()"
   ]
  },
  {
   "cell_type": "markdown",
   "metadata": {
    "slideshow": {
     "slide_type": "slide"
    }
   },
   "source": [
    "## Aplicando em outras frações da população do Rio\n",
    "\n",
    "- O código acima foi implementado no módulo de simulação em uma função chamada `gera_idades`.\n",
    "\n",
    "    - Essa função recebe os argumentos\n",
    "\n",
    "        - `num_pop` (inteiro indicando a população total);\n",
    "        - `num_tam_res` (inteiro positivo indicando o maior tamanho possível para as residências);\n",
    "        - `res_individuos` (lista de listas, com o índice de indivíduos em cada residência);\n",
    "        - `idades_fracoes` (lista de pontos flutuantes com as frações da população para cada ano de vida)\n",
    "\n",
    "    - Retornando\n",
    "\n",
    "        - `pop_idades` (lista de inteiros, com a idade de cada indivíduo).\n",
    "\n",
    "- O argumento `idades_fracoes` pode ser obtido através da função `obtem_idades_fracoes`, com os seguintes dados obtidos, tipicamente, de uma pirâmide etária:\n",
    "\n",
    "    - `idades_grupos` (as faixas de idades da pirâmide etária);\n",
    "    - `idades_fracoes_grupos` (as frações da população em cada faixa etária);\n",
    "    - `idade_max` (a idade máxima considerada para a população; default 100).\n",
    "\n",
    "- Vamos usar essas funções para definir as idades em outras frações da população do Rio de Janeiro."
   ]
  },
  {
   "cell_type": "markdown",
   "metadata": {
    "slideshow": {
     "slide_type": "slide"
    }
   },
   "source": [
    "### Pirâmide populacional\n",
    "\n",
    "Vamos considerar os seguintes dados da pirâmide populacional, como feito acima."
   ]
  },
  {
   "cell_type": "code",
   "execution_count": 35,
   "metadata": {
    "slideshow": {
     "slide_type": "fragment"
    }
   },
   "outputs": [
    {
     "name": "stdout",
     "output_type": "stream",
     "text": [
      "Conferindo a soma das frações dos grupos de idades: 1.0\n"
     ]
    }
   ],
   "source": [
    "idades_grupos = np.array([0, 5, 10, 14, 18, 20, 25, 30, 40, 50, 60, 65])\n",
    "idades_fracoes_grupos = np.array([0.047, 0.046, 0.043, 0.049, 0.027, 0.065, 0.067, 0.155, 0.142,\n",
    "                                  0.140, 0.064, 0.155])\n",
    "idade_max = 100\n",
    "print(f'Conferindo a soma das frações dos grupos de idades: {idades_fracoes_grupos.sum()}')"
   ]
  },
  {
   "cell_type": "markdown",
   "metadata": {
    "slideshow": {
     "slide_type": "slide"
    }
   },
   "source": [
    "#### Interpolando/extrapolando as frações das faixas da pirâmide populacional"
   ]
  },
  {
   "cell_type": "code",
   "execution_count": 36,
   "metadata": {
    "slideshow": {
     "slide_type": "fragment"
    }
   },
   "outputs": [],
   "source": [
    "idades_fracoes = episiming.cenarios.obtem_idades_fracoes(idades_grupos, idades_fracoes_grupos)"
   ]
  },
  {
   "cell_type": "markdown",
   "metadata": {
    "slideshow": {
     "slide_type": "slide"
    }
   },
   "source": [
    "#### Visualizando a pirâmide"
   ]
  },
  {
   "cell_type": "code",
   "execution_count": 37,
   "metadata": {
    "slideshow": {
     "slide_type": "fragment"
    }
   },
   "outputs": [
    {
     "data": {
      "image/png": "[encoded data removed]",
      "text/plain": [
       "<Figure size 864x360 with 1 Axes>"
      ]
     },
     "metadata": {},
     "output_type": "display_data"
    }
   ],
   "source": [
    "plt.figure(figsize=(12,5))\n",
    "plt.bar(list(range(idade_max)), idades_fracoes, width=0.9, align = 'edge', color='tab:orange')\n",
    "plt.step(list(range(1, idade_max+1)), idades_fracoes, label='pirâmide segundo censo')\n",
    "plt.ylim([0,1.1*idades_fracoes.max()])\n",
    "plt.xlabel('idade', fontsize=14)\n",
    "plt.ylabel('fração da população', fontsize=14)\n",
    "plt.title('Pirâmide populacional (em frações da população total)', fontsize=16)\n",
    "plt.legend(fontsize=12)\n",
    "plt.show()"
   ]
  },
  {
   "cell_type": "markdown",
   "metadata": {
    "slideshow": {
     "slide_type": "slide"
    }
   },
   "source": [
    "### População um por dez mil"
   ]
  },
  {
   "cell_type": "code",
   "execution_count": 38,
   "metadata": {
    "slideshow": {
     "slide_type": "fragment"
    }
   },
   "outputs": [
    {
     "name": "stdout",
     "output_type": "stream",
     "text": [
      "População: 297\n"
     ]
    }
   ],
   "source": [
    "pop_por_bloco = (landscan_rio/10000).astype(int)\n",
    "num_pop = pop_por_bloco.sum()\n",
    "print(f'População: {num_pop}')"
   ]
  },
  {
   "cell_type": "markdown",
   "metadata": {
    "slideshow": {
     "slide_type": "slide"
    }
   },
   "source": [
    "#### Aloca população e residências"
   ]
  },
  {
   "cell_type": "code",
   "execution_count": 39,
   "metadata": {},
   "outputs": [
    {
     "name": "stdout",
     "output_type": "stream",
     "text": [
      "CPU times: user 342 ms, sys: 11.2 ms, total: 353 ms\n",
      "Wall time: 384 ms\n"
     ]
    }
   ],
   "source": [
    "%%time\n",
    "pos_residencias, pos_individuos, res_individuos, pop_blocos_indices \\\n",
    "    = episiming.cenarios.aloca_residencias_e_individuos(pop_por_bloco, censo_residencial)"
   ]
  },
  {
   "cell_type": "markdown",
   "metadata": {
    "slideshow": {
     "slide_type": "slide"
    }
   },
   "source": [
    "#### Número de tamanhos de residências"
   ]
  },
  {
   "cell_type": "code",
   "execution_count": 40,
   "metadata": {
    "slideshow": {
     "slide_type": "fragment"
    }
   },
   "outputs": [],
   "source": [
    "num_tam_res = len(censo_residencial)"
   ]
  },
  {
   "cell_type": "markdown",
   "metadata": {
    "slideshow": {
     "slide_type": "slide"
    }
   },
   "source": [
    "#### Gera idades"
   ]
  },
  {
   "cell_type": "code",
   "execution_count": 41,
   "metadata": {
    "slideshow": {
     "slide_type": "fragment"
    }
   },
   "outputs": [
    {
     "name": "stdout",
     "output_type": "stream",
     "text": [
      "CPU times: user 3.19 ms, sys: 145 µs, total: 3.34 ms\n",
      "Wall time: 4.07 ms\n"
     ]
    }
   ],
   "source": [
    "%%time\n",
    "pop_idades = episiming.cenarios.gera_idades(num_pop, num_tam_res, res_individuos, idades_fracoes)"
   ]
  },
  {
   "cell_type": "markdown",
   "metadata": {
    "slideshow": {
     "slide_type": "slide"
    }
   },
   "source": [
    "#### Visualizando a pirâmide populacional obtida"
   ]
  },
  {
   "cell_type": "code",
   "execution_count": 42,
   "metadata": {
    "slideshow": {
     "slide_type": "fragment"
    }
   },
   "outputs": [
    {
     "data": {
      "image/png": "[encoded data removed]",
      "text/plain": [
       "<Figure size 864x360 with 1 Axes>"
      ]
     },
     "metadata": {},
     "output_type": "display_data"
    }
   ],
   "source": [
    "plt.figure(figsize=(12,5))\n",
    "plt.hist(pop_idades, bins = list(range(idade_max+1)), color='tab:orange', label='pirâmide obtida')\n",
    "plt.step(list(range(1, idade_max+1)), num_pop*idades_fracoes, label='pirâmide segundo censo')\n",
    "plt.xlabel('idade', fontsize=14)\n",
    "plt.ylabel('população', fontsize=14)\n",
    "plt.title(f'Pirâmide populacional obtida para {num_pop} indivíduos, em comparação com a meta', fontsize=16)\n",
    "plt.legend(fontsize=12)\n",
    "plt.show()"
   ]
  },
  {
   "cell_type": "markdown",
   "metadata": {
    "slideshow": {
     "slide_type": "slide"
    }
   },
   "source": [
    "### População um por mil"
   ]
  },
  {
   "cell_type": "code",
   "execution_count": 43,
   "metadata": {
    "slideshow": {
     "slide_type": "fragment"
    }
   },
   "outputs": [
    {
     "name": "stdout",
     "output_type": "stream",
     "text": [
      "População: 6333\n"
     ]
    }
   ],
   "source": [
    "pop_por_bloco = (landscan_rio/1000).astype(int)\n",
    "num_pop = pop_por_bloco.sum()\n",
    "print(f'População: {num_pop}')"
   ]
  },
  {
   "cell_type": "markdown",
   "metadata": {
    "slideshow": {
     "slide_type": "fragment"
    }
   },
   "source": [
    "#### Aloca população e residências"
   ]
  },
  {
   "cell_type": "code",
   "execution_count": 44,
   "metadata": {
    "slideshow": {
     "slide_type": "fragment"
    }
   },
   "outputs": [
    {
     "name": "stdout",
     "output_type": "stream",
     "text": [
      "CPU times: user 260 ms, sys: 7.87 ms, total: 268 ms\n",
      "Wall time: 294 ms\n"
     ]
    }
   ],
   "source": [
    "%%time\n",
    "pos_residencias, pos_individuos, res_individuos, pop_blocos_indices \\\n",
    "    = episiming.cenarios.aloca_residencias_e_individuos(pop_por_bloco, censo_residencial)"
   ]
  },
  {
   "cell_type": "markdown",
   "metadata": {
    "slideshow": {
     "slide_type": "fragment"
    }
   },
   "source": [
    "#### Gera idades"
   ]
  },
  {
   "cell_type": "code",
   "execution_count": 45,
   "metadata": {
    "slideshow": {
     "slide_type": "fragment"
    }
   },
   "outputs": [
    {
     "name": "stdout",
     "output_type": "stream",
     "text": [
      "CPU times: user 28 ms, sys: 911 µs, total: 28.9 ms\n",
      "Wall time: 30.7 ms\n"
     ]
    }
   ],
   "source": [
    "%%time\n",
    "pop_idades = episiming.cenarios.gera_idades(num_pop, num_tam_res, res_individuos, idades_fracoes)"
   ]
  },
  {
   "cell_type": "markdown",
   "metadata": {
    "slideshow": {
     "slide_type": "slide"
    }
   },
   "source": [
    "#### Visualizando a pirâmide populacional obtida"
   ]
  },
  {
   "cell_type": "code",
   "execution_count": 46,
   "metadata": {
    "slideshow": {
     "slide_type": "fragment"
    }
   },
   "outputs": [
    {
     "data": {
      "image/png": "[encoded data removed]",
      "text/plain": [
       "<Figure size 864x360 with 1 Axes>"
      ]
     },
     "metadata": {},
     "output_type": "display_data"
    }
   ],
   "source": [
    "plt.figure(figsize=(12,5))\n",
    "plt.hist(pop_idades, bins = list(range(idade_max+1)), color='tab:orange', label='pirâmide obtida')\n",
    "plt.step(list(range(1, idade_max+1)), num_pop*idades_fracoes, label='pirâmide segundo censo')\n",
    "plt.xlabel('idade', fontsize=14)\n",
    "plt.ylabel('população', fontsize=14)\n",
    "plt.title(f'Pirâmide populacional obtida para {num_pop} indivíduos, em comparação com a meta', fontsize=16)\n",
    "plt.legend(fontsize=12)\n",
    "plt.show()"
   ]
  },
  {
   "cell_type": "markdown",
   "metadata": {
    "slideshow": {
     "slide_type": "slide"
    }
   },
   "source": [
    "### População um por cem"
   ]
  },
  {
   "cell_type": "code",
   "execution_count": 47,
   "metadata": {
    "slideshow": {
     "slide_type": "fragment"
    }
   },
   "outputs": [
    {
     "name": "stdout",
     "output_type": "stream",
     "text": [
      "População: 67973\n"
     ]
    }
   ],
   "source": [
    "pop_por_bloco = (landscan_rio/100).astype(int)\n",
    "num_pop = pop_por_bloco.sum()\n",
    "print(f'População: {num_pop}')"
   ]
  },
  {
   "cell_type": "markdown",
   "metadata": {
    "slideshow": {
     "slide_type": "fragment"
    }
   },
   "source": [
    "#### Aloca população e residências"
   ]
  },
  {
   "cell_type": "code",
   "execution_count": 48,
   "metadata": {
    "slideshow": {
     "slide_type": "fragment"
    }
   },
   "outputs": [
    {
     "name": "stdout",
     "output_type": "stream",
     "text": [
      "CPU times: user 1.02 s, sys: 28.3 ms, total: 1.05 s\n",
      "Wall time: 1.12 s\n"
     ]
    }
   ],
   "source": [
    "%%time\n",
    "pos_residencias, pos_individuos, res_individuos, pop_blocos_indices \\\n",
    "    = episiming.cenarios.aloca_residencias_e_individuos(pop_por_bloco, censo_residencial)"
   ]
  },
  {
   "cell_type": "markdown",
   "metadata": {
    "slideshow": {
     "slide_type": "fragment"
    }
   },
   "source": [
    "#### Gera idades"
   ]
  },
  {
   "cell_type": "code",
   "execution_count": 49,
   "metadata": {
    "slideshow": {
     "slide_type": "fragment"
    }
   },
   "outputs": [
    {
     "name": "stdout",
     "output_type": "stream",
     "text": [
      "CPU times: user 695 ms, sys: 8.53 ms, total: 704 ms\n",
      "Wall time: 714 ms\n"
     ]
    }
   ],
   "source": [
    "%%time\n",
    "pop_idades = episiming.cenarios.gera_idades(num_pop, num_tam_res, res_individuos, idades_fracoes)"
   ]
  },
  {
   "cell_type": "markdown",
   "metadata": {
    "slideshow": {
     "slide_type": "slide"
    }
   },
   "source": [
    "#### Visualizando a pirâmide populacional obtida"
   ]
  },
  {
   "cell_type": "code",
   "execution_count": 50,
   "metadata": {
    "slideshow": {
     "slide_type": "fragment"
    }
   },
   "outputs": [
    {
     "data": {
      "image/png": "[encoded data removed]",
      "text/plain": [
       "<Figure size 864x360 with 1 Axes>"
      ]
     },
     "metadata": {},
     "output_type": "display_data"
    }
   ],
   "source": [
    "plt.figure(figsize=(12,5))\n",
    "plt.hist(pop_idades, bins = list(range(idade_max+1)), color='tab:orange', label='pirâmide obtida')\n",
    "plt.step(list(range(1, idade_max+1)), num_pop*idades_fracoes, label='pirâmide segundo censo')\n",
    "plt.xlabel('idade', fontsize=14)\n",
    "plt.ylabel('população', fontsize=14)\n",
    "plt.title(f'Pirâmide populacional obtida para {num_pop} indivíduos, em comparação com a meta', fontsize=16)\n",
    "plt.legend(fontsize=12)\n",
    "plt.show()"
   ]
  },
  {
   "cell_type": "markdown",
   "metadata": {
    "slideshow": {
     "slide_type": "slide"
    }
   },
   "source": [
    "### População um por dez"
   ]
  },
  {
   "cell_type": "code",
   "execution_count": 51,
   "metadata": {
    "slideshow": {
     "slide_type": "fragment"
    }
   },
   "outputs": [
    {
     "name": "stdout",
     "output_type": "stream",
     "text": [
      "População: 685131\n"
     ]
    }
   ],
   "source": [
    "pop_por_bloco = (landscan_rio/10).astype(int)\n",
    "num_pop = pop_por_bloco.sum()\n",
    "print(f'População: {num_pop}')"
   ]
  },
  {
   "cell_type": "markdown",
   "metadata": {
    "slideshow": {
     "slide_type": "fragment"
    }
   },
   "source": [
    "#### Aloca população e residências"
   ]
  },
  {
   "cell_type": "code",
   "execution_count": 52,
   "metadata": {
    "slideshow": {
     "slide_type": "slide"
    }
   },
   "outputs": [
    {
     "name": "stdout",
     "output_type": "stream",
     "text": [
      "CPU times: user 58.5 s, sys: 3.88 s, total: 1min 2s\n",
      "Wall time: 1min 5s\n"
     ]
    }
   ],
   "source": [
    "%%time\n",
    "pos_residencias, pos_individuos, res_individuos, pop_blocos_indices \\\n",
    "    = episiming.cenarios.aloca_residencias_e_individuos(pop_por_bloco, censo_residencial)"
   ]
  },
  {
   "cell_type": "markdown",
   "metadata": {
    "slideshow": {
     "slide_type": "fragment"
    }
   },
   "source": [
    "#### Gera idades"
   ]
  },
  {
   "cell_type": "code",
   "execution_count": 53,
   "metadata": {
    "slideshow": {
     "slide_type": "fragment"
    }
   },
   "outputs": [
    {
     "name": "stdout",
     "output_type": "stream",
     "text": [
      "CPU times: user 3min 33s, sys: 4.19 s, total: 3min 37s\n",
      "Wall time: 3min 57s\n"
     ]
    }
   ],
   "source": [
    "%%time\n",
    "pop_idades = episiming.cenarios.gera_idades(num_pop, num_tam_res, res_individuos, idades_fracoes)"
   ]
  },
  {
   "cell_type": "markdown",
   "metadata": {
    "slideshow": {
     "slide_type": "slide"
    }
   },
   "source": [
    "#### Visualizando a pirâmide populacional obtida"
   ]
  },
  {
   "cell_type": "code",
   "execution_count": 54,
   "metadata": {
    "slideshow": {
     "slide_type": "fragment"
    }
   },
   "outputs": [
    {
     "data": {
      "image/png": "[encoded data removed]",
      "text/plain": [
       "<Figure size 864x360 with 1 Axes>"
      ]
     },
     "metadata": {},
     "output_type": "display_data"
    }
   ],
   "source": [
    "plt.figure(figsize=(12,5))\n",
    "plt.hist(pop_idades, bins = list(range(idade_max+1)), color='tab:orange', label='pirâmide obtida')\n",
    "plt.step(list(range(1, idade_max+1)), num_pop*idades_fracoes, label='pirâmide segundo censo')\n",
    "plt.xlabel('idade', fontsize=14)\n",
    "plt.ylabel('população', fontsize=14)\n",
    "plt.title(f'Pirâmide populacional obtida para {num_pop} indivíduos, em comparação com a meta', fontsize=16)\n",
    "plt.legend(fontsize=12)\n",
    "plt.show()"
   ]
  },
  {
   "cell_type": "markdown",
   "metadata": {
    "slideshow": {
     "slide_type": "skip"
    }
   },
   "source": [
    "<!--NAVIGATOR-->\n",
    "\n",
    "---\n",
    "[<- Modelo individual: incluindo a fase de exposição](21.00.Aula-Modelo_individual_infeccao_e_recuperacao.ipynb) | [Página Inicial](00.00-Pagina_Inicial.ipynb) | [O cenário da cidade do Rio de Janeiro: rede de empresas ->](23.00.Aula-Cenario_Rio_Empresas.ipynb)"
   ]
  }
 ],
 "metadata": {
  "kernelspec": {
   "display_name": "py38",
   "language": "python",
   "name": "py38"
  },
  "language_info": {
   "codemirror_mode": {
    "name": "ipython",
    "version": 3
   },
   "file_extension": ".py",
   "mimetype": "text/x-python",
   "name": "python",
   "nbconvert_exporter": "python",
   "pygments_lexer": "ipython3",
   "version": "3.8.1"
  }
 },
 "nbformat": 4,
 "nbformat_minor": 4
}
