{
 "cells": [
  {
   "cell_type": "markdown",
   "metadata": {
    "slideshow": {
     "slide_type": "skip"
    }
   },
   "source": [
    "<!--HEADER-->\n",
    "[*Notas sobre modelagem da epidemia de Covid-19*](https://github.com/rmsrosa/modcovid19) / [*IM-UFRJ*](https://www.im.ufrj.br)."
   ]
  },
  {
   "cell_type": "markdown",
   "metadata": {
    "slideshow": {
     "slide_type": "slide"
    }
   },
   "source": [
    "# Embasamento para o trabalho e preparação para as apresentações"
   ]
  },
  {
   "cell_type": "code",
   "execution_count": 1,
   "metadata": {
    "slideshow": {
     "slide_type": "skip"
    }
   },
   "outputs": [],
   "source": [
    "import datetime\n",
    "\n",
    "import os, sys\n",
    "\n",
    "import yaml\n",
    "\n",
    "import math\n",
    "\n",
    "import random\n",
    "\n",
    "import numpy as np\n",
    "from scipy import stats\n",
    "from scipy.interpolate import interp2d\n",
    "\n",
    "import pandas as pd\n",
    "\n",
    "import matplotlib.pyplot as plt\n",
    "import seaborn as sns\n",
    "\n",
    "import io, base64\n",
    "from IPython.display import Image, HTML"
   ]
  },
  {
   "cell_type": "code",
   "execution_count": 2,
   "metadata": {
    "slideshow": {
     "slide_type": "skip"
    }
   },
   "outputs": [],
   "source": [
    "sys.path.insert(0, os.path.abspath(os.path.join(os.getcwd(), '..')))\n",
    "import episiming"
   ]
  },
  {
   "cell_type": "code",
   "execution_count": 3,
   "metadata": {
    "slideshow": {
     "slide_type": "skip"
    }
   },
   "outputs": [],
   "source": [
    "sns.set_style(\"darkgrid\")"
   ]
  },
  {
   "cell_type": "code",
   "execution_count": 4,
   "metadata": {
    "slideshow": {
     "slide_type": "skip"
    }
   },
   "outputs": [
    {
     "name": "stdout",
     "output_type": "stream",
     "text": [
      "Atualização mais recente do kernel: 20/Jul/2020\n"
     ]
    }
   ],
   "source": [
    "dt_string = datetime.datetime.now().strftime(\"%d/%b/%Y\")\n",
    "print(f\"Atualização mais recente do kernel: {dt_string}\")"
   ]
  },
  {
   "cell_type": "markdown",
   "metadata": {},
   "source": [
    "## Pontos\n",
    "\n",
    "Tópicos a serem mais bem embasados:\n",
    "\n",
    "- método de integração ($\\tau$-leap method)\n",
    "- cálculo do número básico de reprodução $\\mathcal{R}_0$\n",
    "- influência das redes de conexão\n",
    "- perfil variável de infecciosidade\n",
    "- modulação da suscetibilidade e da infecciosidade\n",
    "- taxas de transmissão em cada rede"
   ]
  },
  {
   "cell_type": "markdown",
   "metadata": {},
   "source": [
    "## Métodos de integração temporal\n",
    "\n",
    "- Passo de tempo fixo:\n",
    "    - *Gillespie's $\\tau$-leap method:* múltiplos eventos ocorrendo em um passo de tempo fixo [Box 6.5, página 204, de Keeling & Rohani (2007)](https://press.princeton.edu/books/hardcover/9780691116174/modeling-infectious-diseases-in-humans-and-animals) and [Gillespie (2001)](../bibliography/Gillespie_ApproximateAcceleratedStochasticSimulationOfChemicallyReactingSystems_JChemPhys_115_1716_2001.pdf)\n",
    "- Passo de tempo como variável aleatória (estes são modelos estocásticos *exatos* dos seus análogos em EDOs, segundo [Box 6.5, página 204, de Keeling & Rohani (2007)](https://press.princeton.edu/books/hardcover/9780691116174/modeling-infectious-diseases-in-humans-and-animals):\n",
    "    - *Gillespie's Direct Algorithm:* [Box 6.3, página 201, de Keeling & Rohani (2007)](https://press.princeton.edu/books/hardcover/9780691116174/modeling-infectious-diseases-in-humans-and-animals) e [Gillespie (1977)](../bibliography/Gillespie_ExactStochasticSimulationChemicalReactions1977.pdf)\n",
    "    - *Gillespie's First Reaction Method:* [Box 6.4, página 203, de Keeling & Rohani (2007)](https://press.princeton.edu/books/hardcover/9780691116174/modeling-infectious-diseases-in-humans-and-animals) e [Gillespie (1977)](../bibliography/Gillespie_ExactStochasticSimulationChemicalReactions1977.pdf)\n",
    "    - *Next Reaction Method:* [see Box 6.5, página 204, de Keeling & Rohani (2007)](https://press.princeton.edu/books/hardcover/9780691116174/modeling-infectious-diseases-in-humans-and-animals) e [Gibson and Bruck (2000)](../bibliography/GibsonBruck_EfficientExactStochasticSimulationofChemicalSystemsWithManySpeciesandManyChannels_jp993732q_2000.pdf)\n",
    "- Velocidade: ver [Seção 6.3.2.1, pg. 203, de Keeling & Rohani (2007)](https://press.princeton.edu/books/hardcover/9780691116174/modeling-infectious-diseases-in-humans-and-animals)\n",
    "- Vejam, também, \n",
    "    - [Seção 6.3.5, página 217, de Keeling & Rohani (2007)](https://press.princeton.edu/books/hardcover/9780691116174/modeling-infectious-diseases-in-humans-and-animals)\n",
    "- Há vários outros métodos, por exemplo, ver o método-S em\n",
    "    - [Lipková et al (2018)](../bibliography/Lipkova_SLeapingMethod_1802.00296_2018.pdf)"
   ]
  },
  {
   "cell_type": "markdown",
   "metadata": {},
   "source": [
    "## Cálculo do número básico de reprodução\n",
    "\n",
    "Ver artigos\n",
    "\n",
    "- [Svensson (2005), A note on generation times in ](../bibliography/Svensson_NoteonGenerationTimeinEpidemicModels_10.1.1.561.8611.pdf)\n",
    "- [Park et al (2018)](../bibliography/Parketal_PracticalGenerationIntervalBasedStrengthEpidemics_312397v2.full.pdf)\n",
    "- [van den Driessche (2017), Reproduction numbers of infectious disease models](../bibliography/Driessche_ReproductionNumbersofInfectiousDiseaseModels.pdf)\n",
    "- [blah](../bibliography/HeffernanSmithWahl_PerspectivesBasicReproductiveRatio_rsif20050042.pdf)"
   ]
  },
  {
   "cell_type": "markdown",
   "metadata": {},
   "source": [
    "## Perfil variável de infecciosidade\n",
    "\n",
    "Sobre isso, ver os seguintes artigos:\n",
    "\n",
    "- [Qi et al (2020), Factors associated with the duration of viral shedding in adults with COVID-19 outside Wuhan, China: a retrospective cohort study](../bibliography/Qi_et_al_FactorsAssociatedwiththeDurationofViralSheddingCovid19_PIIS1201971220303520.pdf)\n",
    "- [van Kampen et al (2020), Shedding of infectious virus in hospitalized patients with coronavirus disease-2019 (COVID- 19): duration and key determinants](../bibliography/Jeroen_et_al_SheddingofInfectiousVirusCovid19_2020.06.08.20125310v1.full.pdf)\n",
    "- [Cori et al (2012), Estimating influenza latency and infectious period durations using viral excretion data](../bibliography/CoriValleronCarratTombaThomasBoelle_EstimatingInfluenzaLatencyandInfectiousPeriodUsingViralExcretionData_Epidemic2012_81940513.pdf)"
   ]
  },
  {
   "cell_type": "code",
   "execution_count": null,
   "metadata": {},
   "outputs": [],
   "source": []
  }
 ],
 "metadata": {
  "kernelspec": {
   "display_name": "py38",
   "language": "python",
   "name": "py38"
  },
  "language_info": {
   "codemirror_mode": {
    "name": "ipython",
    "version": 3
   },
   "file_extension": ".py",
   "mimetype": "text/x-python",
   "name": "python",
   "nbconvert_exporter": "python",
   "pygments_lexer": "ipython3",
   "version": "3.8.1"
  }
 },
 "nbformat": 4,
 "nbformat_minor": 4
}
